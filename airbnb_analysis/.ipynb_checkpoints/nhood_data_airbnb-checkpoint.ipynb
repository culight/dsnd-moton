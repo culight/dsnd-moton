{
 "cells": [
  {
   "cell_type": "markdown",
   "metadata": {},
   "source": [
    "## What locations appear to be most effected by event attendance?"
   ]
  },
  {
   "cell_type": "code",
   "execution_count": 1,
   "metadata": {},
   "outputs": [
    {
     "data": {
      "application/javascript": [
       "\n",
       "            setTimeout(function() {\n",
       "                var nbb_cell_id = 1;\n",
       "                var nbb_unformatted_code = \"from datetime import timedelta, datetime\\nfrom math import sqrt\\n\\nimport pandas as pd\\nimport numpy as np\\nimport matplotlib.pyplot as plt\\n\\nfrom scripts.utility import *\\nfrom scripts.dates import (\\n    bumbershoot_dates,\\n    siff_dates,\\n    hempfest_dates,\\n    pride_dates,\\n    summer_dates,\\n    all_events,\\n)\\n\\n# set data paths\\npreproc_path = \\\"data/intermediate/preproc/\\\"\\nnhood_path = \\\"data/intermediate/nhood/\\\"\\n\\n%load_ext autoreload\\n%autoreload 2\\n%load_ext nb_black\";\n",
       "                var nbb_formatted_code = \"from datetime import timedelta, datetime\\nfrom math import sqrt\\n\\nimport pandas as pd\\nimport numpy as np\\nimport matplotlib.pyplot as plt\\n\\nfrom scripts.utility import *\\nfrom scripts.dates import (\\n    bumbershoot_dates,\\n    siff_dates,\\n    hempfest_dates,\\n    pride_dates,\\n    summer_dates,\\n    all_events,\\n)\\n\\n# set data paths\\npreproc_path = \\\"data/intermediate/preproc/\\\"\\nnhood_path = \\\"data/intermediate/nhood/\\\"\\n\\n%load_ext autoreload\\n%autoreload 2\\n%load_ext nb_black\";\n",
       "                var nbb_cells = Jupyter.notebook.get_cells();\n",
       "                for (var i = 0; i < nbb_cells.length; ++i) {\n",
       "                    if (nbb_cells[i].input_prompt_number == nbb_cell_id) {\n",
       "                        if (nbb_cells[i].get_text() == nbb_unformatted_code) {\n",
       "                             nbb_cells[i].set_text(nbb_formatted_code);\n",
       "                        }\n",
       "                        break;\n",
       "                    }\n",
       "                }\n",
       "            }, 500);\n",
       "            "
      ],
      "text/plain": [
       "<IPython.core.display.Javascript object>"
      ]
     },
     "metadata": {},
     "output_type": "display_data"
    }
   ],
   "source": [
    "from datetime import timedelta, datetime\n",
    "from math import sqrt\n",
    "\n",
    "import pandas as pd\n",
    "import numpy as np\n",
    "import matplotlib.pyplot as plt\n",
    "\n",
    "from scripts.utility import *\n",
    "from scripts.dates import (\n",
    "    bumbershoot_dates,\n",
    "    siff_dates,\n",
    "    hempfest_dates,\n",
    "    pride_dates,\n",
    "    summer_dates,\n",
    "    all_events,\n",
    ")\n",
    "\n",
    "# set data paths\n",
    "preproc_path = \"data/intermediate/preproc/\"\n",
    "nhood_path = \"data/intermediate/nhood/\"\n",
    "\n",
    "%load_ext autoreload\n",
    "%autoreload 2\n",
    "%load_ext nb_black"
   ]
  },
  {
   "cell_type": "markdown",
   "metadata": {},
   "source": [
    "## Load data and stuff"
   ]
  },
  {
   "cell_type": "code",
   "execution_count": 2,
   "metadata": {},
   "outputs": [
    {
     "name": "stderr",
     "output_type": "stream",
     "text": [
      "/Users/dmoton/opt/anaconda3/lib/python3.7/site-packages/IPython/core/interactiveshell.py:3063: DtypeWarning: Columns (10,13,14) have mixed types.Specify dtype option on import or set low_memory=False.\n",
      "  interactivity=interactivity, compiler=compiler, result=result)\n"
     ]
    },
    {
     "data": {
      "application/javascript": [
       "\n",
       "            setTimeout(function() {\n",
       "                var nbb_cell_id = 2;\n",
       "                var nbb_unformatted_code = \"# load data\\ncalendar_df = pd.read_csv(preproc_path + \\\"calendar.csv\\\")\\nreviews_df = pd.read_csv(preproc_path + \\\"reviews.csv\\\")\\nlocation_df = pd.read_csv(preproc_path + \\\"location.csv\\\")\";\n",
       "                var nbb_formatted_code = \"# load data\\ncalendar_df = pd.read_csv(preproc_path + \\\"calendar.csv\\\")\\nreviews_df = pd.read_csv(preproc_path + \\\"reviews.csv\\\")\\nlocation_df = pd.read_csv(preproc_path + \\\"location.csv\\\")\";\n",
       "                var nbb_cells = Jupyter.notebook.get_cells();\n",
       "                for (var i = 0; i < nbb_cells.length; ++i) {\n",
       "                    if (nbb_cells[i].input_prompt_number == nbb_cell_id) {\n",
       "                        if (nbb_cells[i].get_text() == nbb_unformatted_code) {\n",
       "                             nbb_cells[i].set_text(nbb_formatted_code);\n",
       "                        }\n",
       "                        break;\n",
       "                    }\n",
       "                }\n",
       "            }, 500);\n",
       "            "
      ],
      "text/plain": [
       "<IPython.core.display.Javascript object>"
      ]
     },
     "metadata": {},
     "output_type": "display_data"
    }
   ],
   "source": [
    "# load data\n",
    "calendar_df = pd.read_csv(preproc_path + \"calendar.csv\")\n",
    "reviews_df = pd.read_csv(preproc_path + \"reviews.csv\")\n",
    "location_df = pd.read_csv(preproc_path + \"location.csv\")"
   ]
  },
  {
   "cell_type": "code",
   "execution_count": 3,
   "metadata": {},
   "outputs": [
    {
     "data": {
      "application/javascript": [
       "\n",
       "            setTimeout(function() {\n",
       "                var nbb_cell_id = 3;\n",
       "                var nbb_unformatted_code = \"# print(location_df.shape)\\n# print(location_df.head())\\n# location_df.groupby(\\\"neighborhood\\\").count().sort_values(\\\"id\\\", ascending=False)[\\\"id\\\"]\";\n",
       "                var nbb_formatted_code = \"# print(location_df.shape)\\n# print(location_df.head())\\n# location_df.groupby(\\\"neighborhood\\\").count().sort_values(\\\"id\\\", ascending=False)[\\\"id\\\"]\";\n",
       "                var nbb_cells = Jupyter.notebook.get_cells();\n",
       "                for (var i = 0; i < nbb_cells.length; ++i) {\n",
       "                    if (nbb_cells[i].input_prompt_number == nbb_cell_id) {\n",
       "                        if (nbb_cells[i].get_text() == nbb_unformatted_code) {\n",
       "                             nbb_cells[i].set_text(nbb_formatted_code);\n",
       "                        }\n",
       "                        break;\n",
       "                    }\n",
       "                }\n",
       "            }, 500);\n",
       "            "
      ],
      "text/plain": [
       "<IPython.core.display.Javascript object>"
      ]
     },
     "metadata": {},
     "output_type": "display_data"
    }
   ],
   "source": [
    "# print(location_df.shape)\n",
    "# print(location_df.head())\n",
    "# location_df.groupby(\"neighborhood\").count().sort_values(\"id\", ascending=False)[\"id\"]"
   ]
  },
  {
   "cell_type": "markdown",
   "metadata": {},
   "source": [
    "## Find stats on top neighborhoods"
   ]
  },
  {
   "cell_type": "code",
   "execution_count": 4,
   "metadata": {},
   "outputs": [
    {
     "name": "stdout",
     "output_type": "stream",
     "text": [
      "['Ballard', 'Beacon Hill', 'Capitol Hill', 'Cascade', 'Central Area', 'Delridge', 'Downtown', 'Interbay', 'Lake City', 'Magnolia']\n"
     ]
    },
    {
     "data": {
      "application/javascript": [
       "\n",
       "            setTimeout(function() {\n",
       "                var nbb_cell_id = 4;\n",
       "                var nbb_unformatted_code = \"# remove vague \\\"Other\\\" option and choose only the top 10 neighborhoods\\nall_neighborhoods = location_df.groupby(\\\"neighborhood\\\").count().index.to_list()\\nall_neighborhoods.remove(\\\"Other neighborhoods\\\")\\ntop_neighborhoods = all_neighborhoods[0:10]\\nprint(top_neighborhoods)\\n\\ntop_neighborhoods_df = location_df[location_df[\\\"neighborhood\\\"].isin(top_neighborhoods)]\";\n",
       "                var nbb_formatted_code = \"# remove vague \\\"Other\\\" option and choose only the top 10 neighborhoods\\nall_neighborhoods = location_df.groupby(\\\"neighborhood\\\").count().index.to_list()\\nall_neighborhoods.remove(\\\"Other neighborhoods\\\")\\ntop_neighborhoods = all_neighborhoods[0:10]\\nprint(top_neighborhoods)\\n\\ntop_neighborhoods_df = location_df[location_df[\\\"neighborhood\\\"].isin(top_neighborhoods)]\";\n",
       "                var nbb_cells = Jupyter.notebook.get_cells();\n",
       "                for (var i = 0; i < nbb_cells.length; ++i) {\n",
       "                    if (nbb_cells[i].input_prompt_number == nbb_cell_id) {\n",
       "                        if (nbb_cells[i].get_text() == nbb_unformatted_code) {\n",
       "                             nbb_cells[i].set_text(nbb_formatted_code);\n",
       "                        }\n",
       "                        break;\n",
       "                    }\n",
       "                }\n",
       "            }, 500);\n",
       "            "
      ],
      "text/plain": [
       "<IPython.core.display.Javascript object>"
      ]
     },
     "metadata": {},
     "output_type": "display_data"
    }
   ],
   "source": [
    "# remove vague \"Other\" option and choose only the top neighborhoods\n",
    "all_neighborhoods = location_df.groupby(\"neighborhood\").count().index.to_list()\n",
    "all_neighborhoods.remove(\"Other neighborhoods\")\n",
    "top_neighborhoods = all_neighborhoods[0:10]\n",
    "print(top_neighborhoods)\n",
    "\n",
    "top_neighborhoods_df = location_df[location_df[\"neighborhood\"].isin(top_neighborhoods)]"
   ]
  },
  {
   "cell_type": "code",
   "execution_count": 5,
   "metadata": {},
   "outputs": [
    {
     "data": {
      "application/javascript": [
       "\n",
       "            setTimeout(function() {\n",
       "                var nbb_cell_id = 5;\n",
       "                var nbb_unformatted_code = \"top_neighborhoods_df = location_df[location_df[\\\"neighborhood\\\"] != \\\"Other neighborhoods\\\"]\";\n",
       "                var nbb_formatted_code = \"top_neighborhoods_df = location_df[location_df[\\\"neighborhood\\\"] != \\\"Other neighborhoods\\\"]\";\n",
       "                var nbb_cells = Jupyter.notebook.get_cells();\n",
       "                for (var i = 0; i < nbb_cells.length; ++i) {\n",
       "                    if (nbb_cells[i].input_prompt_number == nbb_cell_id) {\n",
       "                        if (nbb_cells[i].get_text() == nbb_unformatted_code) {\n",
       "                             nbb_cells[i].set_text(nbb_formatted_code);\n",
       "                        }\n",
       "                        break;\n",
       "                    }\n",
       "                }\n",
       "            }, 500);\n",
       "            "
      ],
      "text/plain": [
       "<IPython.core.display.Javascript object>"
      ]
     },
     "metadata": {},
     "output_type": "display_data"
    }
   ],
   "source": [
    "top_neighborhoods_df = location_df[location_df[\"neighborhood\"] != \"Other neighborhoods\"]"
   ]
  },
  {
   "cell_type": "code",
   "execution_count": 6,
   "metadata": {},
   "outputs": [
    {
     "data": {
      "text/html": [
       "<div>\n",
       "<style scoped>\n",
       "    .dataframe tbody tr th:only-of-type {\n",
       "        vertical-align: middle;\n",
       "    }\n",
       "\n",
       "    .dataframe tbody tr th {\n",
       "        vertical-align: top;\n",
       "    }\n",
       "\n",
       "    .dataframe thead tr th {\n",
       "        text-align: left;\n",
       "    }\n",
       "\n",
       "    .dataframe thead tr:last-of-type th {\n",
       "        text-align: right;\n",
       "    }\n",
       "</style>\n",
       "<table border=\"1\" class=\"dataframe\">\n",
       "  <thead>\n",
       "    <tr>\n",
       "      <th></th>\n",
       "      <th>neighborhood</th>\n",
       "      <th colspan=\"2\" halign=\"left\">price</th>\n",
       "      <th>number_of_reviews</th>\n",
       "    </tr>\n",
       "    <tr>\n",
       "      <th></th>\n",
       "      <th>count</th>\n",
       "      <th>mean</th>\n",
       "      <th>std</th>\n",
       "      <th>mean</th>\n",
       "    </tr>\n",
       "    <tr>\n",
       "      <th>neighborhood</th>\n",
       "      <th></th>\n",
       "      <th></th>\n",
       "      <th></th>\n",
       "      <th></th>\n",
       "    </tr>\n",
       "  </thead>\n",
       "  <tbody>\n",
       "    <tr>\n",
       "      <th>Downtown</th>\n",
       "      <td>1252</td>\n",
       "      <td>161.127796</td>\n",
       "      <td>85.587449</td>\n",
       "      <td>37.518371</td>\n",
       "    </tr>\n",
       "    <tr>\n",
       "      <th>Capitol Hill</th>\n",
       "      <td>733</td>\n",
       "      <td>167.248295</td>\n",
       "      <td>87.180351</td>\n",
       "      <td>58.904502</td>\n",
       "    </tr>\n",
       "    <tr>\n",
       "      <th>Central Area</th>\n",
       "      <td>609</td>\n",
       "      <td>164.354680</td>\n",
       "      <td>87.941437</td>\n",
       "      <td>72.459770</td>\n",
       "    </tr>\n",
       "    <tr>\n",
       "      <th>Queen Anne</th>\n",
       "      <td>500</td>\n",
       "      <td>162.160000</td>\n",
       "      <td>82.504523</td>\n",
       "      <td>57.496000</td>\n",
       "    </tr>\n",
       "    <tr>\n",
       "      <th>West Seattle</th>\n",
       "      <td>415</td>\n",
       "      <td>169.298795</td>\n",
       "      <td>87.743931</td>\n",
       "      <td>64.496386</td>\n",
       "    </tr>\n",
       "    <tr>\n",
       "      <th>Rainier Valley</th>\n",
       "      <td>386</td>\n",
       "      <td>175.663212</td>\n",
       "      <td>88.738902</td>\n",
       "      <td>61.611399</td>\n",
       "    </tr>\n",
       "    <tr>\n",
       "      <th>Ballard</th>\n",
       "      <td>381</td>\n",
       "      <td>160.047244</td>\n",
       "      <td>77.159458</td>\n",
       "      <td>75.842520</td>\n",
       "    </tr>\n",
       "    <tr>\n",
       "      <th>Cascade</th>\n",
       "      <td>337</td>\n",
       "      <td>153.780415</td>\n",
       "      <td>83.792256</td>\n",
       "      <td>26.804154</td>\n",
       "    </tr>\n",
       "    <tr>\n",
       "      <th>Beacon Hill</th>\n",
       "      <td>270</td>\n",
       "      <td>161.374074</td>\n",
       "      <td>74.580293</td>\n",
       "      <td>70.929630</td>\n",
       "    </tr>\n",
       "    <tr>\n",
       "      <th>University District</th>\n",
       "      <td>243</td>\n",
       "      <td>176.320988</td>\n",
       "      <td>90.189904</td>\n",
       "      <td>25.617284</td>\n",
       "    </tr>\n",
       "    <tr>\n",
       "      <th>Delridge</th>\n",
       "      <td>217</td>\n",
       "      <td>157.497696</td>\n",
       "      <td>84.232489</td>\n",
       "      <td>53.442396</td>\n",
       "    </tr>\n",
       "    <tr>\n",
       "      <th>Northgate</th>\n",
       "      <td>170</td>\n",
       "      <td>171.764706</td>\n",
       "      <td>88.716042</td>\n",
       "      <td>42.470588</td>\n",
       "    </tr>\n",
       "    <tr>\n",
       "      <th>Magnolia</th>\n",
       "      <td>139</td>\n",
       "      <td>174.834532</td>\n",
       "      <td>102.048269</td>\n",
       "      <td>52.323741</td>\n",
       "    </tr>\n",
       "    <tr>\n",
       "      <th>Lake City</th>\n",
       "      <td>125</td>\n",
       "      <td>158.144000</td>\n",
       "      <td>93.755835</td>\n",
       "      <td>45.536000</td>\n",
       "    </tr>\n",
       "    <tr>\n",
       "      <th>Seward Park</th>\n",
       "      <td>76</td>\n",
       "      <td>172.815789</td>\n",
       "      <td>92.355936</td>\n",
       "      <td>52.105263</td>\n",
       "    </tr>\n",
       "    <tr>\n",
       "      <th>Interbay</th>\n",
       "      <td>35</td>\n",
       "      <td>139.342857</td>\n",
       "      <td>67.429241</td>\n",
       "      <td>34.914286</td>\n",
       "    </tr>\n",
       "  </tbody>\n",
       "</table>\n",
       "</div>"
      ],
      "text/plain": [
       "                    neighborhood       price             number_of_reviews\n",
       "                           count        mean         std              mean\n",
       "neighborhood                                                              \n",
       "Downtown                    1252  161.127796   85.587449         37.518371\n",
       "Capitol Hill                 733  167.248295   87.180351         58.904502\n",
       "Central Area                 609  164.354680   87.941437         72.459770\n",
       "Queen Anne                   500  162.160000   82.504523         57.496000\n",
       "West Seattle                 415  169.298795   87.743931         64.496386\n",
       "Rainier Valley               386  175.663212   88.738902         61.611399\n",
       "Ballard                      381  160.047244   77.159458         75.842520\n",
       "Cascade                      337  153.780415   83.792256         26.804154\n",
       "Beacon Hill                  270  161.374074   74.580293         70.929630\n",
       "University District          243  176.320988   90.189904         25.617284\n",
       "Delridge                     217  157.497696   84.232489         53.442396\n",
       "Northgate                    170  171.764706   88.716042         42.470588\n",
       "Magnolia                     139  174.834532  102.048269         52.323741\n",
       "Lake City                    125  158.144000   93.755835         45.536000\n",
       "Seward Park                   76  172.815789   92.355936         52.105263\n",
       "Interbay                      35  139.342857   67.429241         34.914286"
      ]
     },
     "execution_count": 6,
     "metadata": {},
     "output_type": "execute_result"
    },
    {
     "data": {
      "application/javascript": [
       "\n",
       "            setTimeout(function() {\n",
       "                var nbb_cell_id = 6;\n",
       "                var nbb_unformatted_code = \"# get some basic stats about the neighborhoods\\nnhood_stats_df = (\\n    top_neighborhoods_df[[\\\"neighborhood\\\", \\\"price\\\", \\\"number_of_reviews\\\"]]\\n    .groupby(\\\"neighborhood\\\")\\n    .agg(\\n        {\\n            \\\"neighborhood\\\": [\\\"count\\\"],\\n            \\\"price\\\": [\\\"mean\\\", \\\"std\\\"],\\n            \\\"number_of_reviews\\\": [\\\"mean\\\"],\\n        }\\n    )\\n    .sort_values((\\\"neighborhood\\\", \\\"count\\\"), ascending=False)\\n)\\nnhood_stats_df\";\n",
       "                var nbb_formatted_code = \"# get some basic stats about the neighborhoods\\nnhood_stats_df = (\\n    top_neighborhoods_df[[\\\"neighborhood\\\", \\\"price\\\", \\\"number_of_reviews\\\"]]\\n    .groupby(\\\"neighborhood\\\")\\n    .agg(\\n        {\\n            \\\"neighborhood\\\": [\\\"count\\\"],\\n            \\\"price\\\": [\\\"mean\\\", \\\"std\\\"],\\n            \\\"number_of_reviews\\\": [\\\"mean\\\"],\\n        }\\n    )\\n    .sort_values((\\\"neighborhood\\\", \\\"count\\\"), ascending=False)\\n)\\nnhood_stats_df\";\n",
       "                var nbb_cells = Jupyter.notebook.get_cells();\n",
       "                for (var i = 0; i < nbb_cells.length; ++i) {\n",
       "                    if (nbb_cells[i].input_prompt_number == nbb_cell_id) {\n",
       "                        if (nbb_cells[i].get_text() == nbb_unformatted_code) {\n",
       "                             nbb_cells[i].set_text(nbb_formatted_code);\n",
       "                        }\n",
       "                        break;\n",
       "                    }\n",
       "                }\n",
       "            }, 500);\n",
       "            "
      ],
      "text/plain": [
       "<IPython.core.display.Javascript object>"
      ]
     },
     "metadata": {},
     "output_type": "display_data"
    }
   ],
   "source": [
    "# get some basic stats about the neighborhoods\n",
    "nhood_stats_df = (\n",
    "    top_neighborhoods_df[[\"neighborhood\", \"price\", \"number_of_reviews\"]]\n",
    "    .groupby(\"neighborhood\")\n",
    "    .agg(\n",
    "        {\n",
    "            \"neighborhood\": [\"count\"],\n",
    "            \"price\": [\"mean\", \"std\"],\n",
    "            \"number_of_reviews\": [\"mean\"],\n",
    "        }\n",
    "    )\n",
    "    .sort_values((\"neighborhood\", \"count\"), ascending=False)\n",
    ")\n",
    "nhood_stats_df"
   ]
  },
  {
   "cell_type": "markdown",
   "metadata": {},
   "source": [
    "## Calculate change in prices due to various events (by neighborhood)"
   ]
  },
  {
   "cell_type": "code",
   "execution_count": 7,
   "metadata": {},
   "outputs": [
    {
     "name": "stdout",
     "output_type": "stream",
     "text": [
      "bumbershoot\n",
      "siff\n",
      "hempfest\n",
      "pride\n"
     ]
    },
    {
     "data": {
      "application/javascript": [
       "\n",
       "            setTimeout(function() {\n",
       "                var nbb_cell_id = 7;\n",
       "                var nbb_unformatted_code = \"calc_pct_change = (\\n    lambda x: 0 if x.iloc[0] == x.iloc[-1] else (x.iloc[-1] - x.iloc[0]) / x.iloc[0]\\n)\\nfor event_name, event_dates in all_events.items():\\n\\n    week_start = event_dates[\\\"week_start\\\"] - 2\\n    week_end = event_dates[\\\"week_end\\\"]\\n    event_slice_df = time_slice(\\n        top_neighborhoods_df.set_index(\\\"week\\\"), week_start, week_end\\n    )\\n\\n    price_byneigh_df = (\\n        event_slice_df[\\n            event_slice_df[\\\"price\\\"].notnull() & event_slice_df[\\\"price\\\"] > 0.0\\n        ]\\n        .groupby([\\\"week\\\", \\\"neighborhood\\\"])\\n        .agg(event_mean_price=(\\\"price\\\", \\\"mean\\\"), count=(\\\"listing_id\\\", \\\"count\\\"))\\n        .reset_index()\\n    )\\n\\n    price_byneigh_final_df = (\\n        price_byneigh_df[\\n            price_byneigh_df[\\\"event_mean_price\\\"].notnull()\\n            & price_byneigh_df[\\\"event_mean_price\\\"]\\n            > 0.0\\n        ]\\n        .groupby([\\\"neighborhood\\\"])\\n        .agg(\\n            pct_change_price=(\\\"event_mean_price\\\", calc_pct_change),\\n            event_mean_price=(\\\"event_mean_price\\\", \\\"mean\\\"),\\n        )\\n        .reset_index()\\n    )\\n\\n    print(event_name)\\n    #     print(price_byneigh_final_df)\\n\\n    price_byneigh_final_df.to_csv(nhood_path + event_name + \\\"_pricechange.csv\\\")\";\n",
       "                var nbb_formatted_code = \"calc_pct_change = (\\n    lambda x: 0 if x.iloc[0] == x.iloc[-1] else (x.iloc[-1] - x.iloc[0]) / x.iloc[0]\\n)\\nfor event_name, event_dates in all_events.items():\\n\\n    week_start = event_dates[\\\"week_start\\\"] - 2\\n    week_end = event_dates[\\\"week_end\\\"]\\n    event_slice_df = time_slice(\\n        top_neighborhoods_df.set_index(\\\"week\\\"), week_start, week_end\\n    )\\n\\n    price_byneigh_df = (\\n        event_slice_df[\\n            event_slice_df[\\\"price\\\"].notnull() & event_slice_df[\\\"price\\\"] > 0.0\\n        ]\\n        .groupby([\\\"week\\\", \\\"neighborhood\\\"])\\n        .agg(event_mean_price=(\\\"price\\\", \\\"mean\\\"), count=(\\\"listing_id\\\", \\\"count\\\"))\\n        .reset_index()\\n    )\\n\\n    price_byneigh_final_df = (\\n        price_byneigh_df[\\n            price_byneigh_df[\\\"event_mean_price\\\"].notnull()\\n            & price_byneigh_df[\\\"event_mean_price\\\"]\\n            > 0.0\\n        ]\\n        .groupby([\\\"neighborhood\\\"])\\n        .agg(\\n            pct_change_price=(\\\"event_mean_price\\\", calc_pct_change),\\n            event_mean_price=(\\\"event_mean_price\\\", \\\"mean\\\"),\\n        )\\n        .reset_index()\\n    )\\n\\n    print(event_name)\\n    #     print(price_byneigh_final_df)\\n\\n    price_byneigh_final_df.to_csv(nhood_path + event_name + \\\"_pricechange.csv\\\")\";\n",
       "                var nbb_cells = Jupyter.notebook.get_cells();\n",
       "                for (var i = 0; i < nbb_cells.length; ++i) {\n",
       "                    if (nbb_cells[i].input_prompt_number == nbb_cell_id) {\n",
       "                        if (nbb_cells[i].get_text() == nbb_unformatted_code) {\n",
       "                             nbb_cells[i].set_text(nbb_formatted_code);\n",
       "                        }\n",
       "                        break;\n",
       "                    }\n",
       "                }\n",
       "            }, 500);\n",
       "            "
      ],
      "text/plain": [
       "<IPython.core.display.Javascript object>"
      ]
     },
     "metadata": {},
     "output_type": "display_data"
    }
   ],
   "source": [
    "calc_pct_change = (\n",
    "    lambda x: 0 if x.iloc[0] == x.iloc[-1] else (x.iloc[-1] - x.iloc[0]) / x.iloc[0]\n",
    ")\n",
    "for event_name, event_dates in all_events.items():\n",
    "\n",
    "    week_start = event_dates[\"week_start\"] - 2\n",
    "    week_end = event_dates[\"week_end\"]\n",
    "    event_slice_df = time_slice(\n",
    "        top_neighborhoods_df.set_index(\"week\"), week_start, week_end\n",
    "    )\n",
    "\n",
    "    price_byneigh_df = (\n",
    "        event_slice_df[\n",
    "            event_slice_df[\"price\"].notnull() & event_slice_df[\"price\"] > 0.0\n",
    "        ]\n",
    "        .groupby([\"week\", \"neighborhood\"])\n",
    "        .agg(event_mean_price=(\"price\", \"mean\"), count=(\"listing_id\", \"count\"))\n",
    "        .reset_index()\n",
    "    )\n",
    "\n",
    "    price_byneigh_final_df = (\n",
    "        price_byneigh_df[\n",
    "            price_byneigh_df[\"event_mean_price\"].notnull()\n",
    "            & price_byneigh_df[\"event_mean_price\"]\n",
    "            > 0.0\n",
    "        ]\n",
    "        .groupby([\"neighborhood\"])\n",
    "        .agg(\n",
    "            pct_change_price=(\"event_mean_price\", calc_pct_change),\n",
    "            event_mean_price=(\"event_mean_price\", \"mean\"),\n",
    "        )\n",
    "        .reset_index()\n",
    "    )\n",
    "\n",
    "    print(event_name)\n",
    "    #     print(price_byneigh_final_df)\n",
    "\n",
    "    price_byneigh_final_df.to_csv(nhood_path + event_name + \"_pricechange.csv\")"
   ]
  },
  {
   "cell_type": "markdown",
   "metadata": {},
   "source": [
    "## Compare event occupancy to Summer average (by neighborhood)"
   ]
  },
  {
   "cell_type": "code",
   "execution_count": 10,
   "metadata": {},
   "outputs": [
    {
     "data": {
      "text/html": [
       "<div>\n",
       "<style scoped>\n",
       "    .dataframe tbody tr th:only-of-type {\n",
       "        vertical-align: middle;\n",
       "    }\n",
       "\n",
       "    .dataframe tbody tr th {\n",
       "        vertical-align: top;\n",
       "    }\n",
       "\n",
       "    .dataframe thead th {\n",
       "        text-align: right;\n",
       "    }\n",
       "</style>\n",
       "<table border=\"1\" class=\"dataframe\">\n",
       "  <thead>\n",
       "    <tr style=\"text-align: right;\">\n",
       "      <th></th>\n",
       "      <th>neighborhood</th>\n",
       "      <th>week</th>\n",
       "      <th>count</th>\n",
       "      <th>occp_perc</th>\n",
       "    </tr>\n",
       "  </thead>\n",
       "  <tbody>\n",
       "    <tr>\n",
       "      <th>0</th>\n",
       "      <td>Ballard</td>\n",
       "      <td>1</td>\n",
       "      <td>5</td>\n",
       "      <td>0.600000</td>\n",
       "    </tr>\n",
       "    <tr>\n",
       "      <th>1</th>\n",
       "      <td>Ballard</td>\n",
       "      <td>2</td>\n",
       "      <td>7</td>\n",
       "      <td>0.857143</td>\n",
       "    </tr>\n",
       "    <tr>\n",
       "      <th>2</th>\n",
       "      <td>Ballard</td>\n",
       "      <td>3</td>\n",
       "      <td>15</td>\n",
       "      <td>0.533333</td>\n",
       "    </tr>\n",
       "    <tr>\n",
       "      <th>3</th>\n",
       "      <td>Ballard</td>\n",
       "      <td>4</td>\n",
       "      <td>6</td>\n",
       "      <td>0.500000</td>\n",
       "    </tr>\n",
       "    <tr>\n",
       "      <th>4</th>\n",
       "      <td>Ballard</td>\n",
       "      <td>5</td>\n",
       "      <td>5</td>\n",
       "      <td>0.400000</td>\n",
       "    </tr>\n",
       "    <tr>\n",
       "      <th>...</th>\n",
       "      <td>...</td>\n",
       "      <td>...</td>\n",
       "      <td>...</td>\n",
       "      <td>...</td>\n",
       "    </tr>\n",
       "    <tr>\n",
       "      <th>779</th>\n",
       "      <td>West Seattle</td>\n",
       "      <td>49</td>\n",
       "      <td>6</td>\n",
       "      <td>0.833333</td>\n",
       "    </tr>\n",
       "    <tr>\n",
       "      <th>780</th>\n",
       "      <td>West Seattle</td>\n",
       "      <td>50</td>\n",
       "      <td>3</td>\n",
       "      <td>0.666667</td>\n",
       "    </tr>\n",
       "    <tr>\n",
       "      <th>781</th>\n",
       "      <td>West Seattle</td>\n",
       "      <td>51</td>\n",
       "      <td>8</td>\n",
       "      <td>0.375000</td>\n",
       "    </tr>\n",
       "    <tr>\n",
       "      <th>782</th>\n",
       "      <td>West Seattle</td>\n",
       "      <td>52</td>\n",
       "      <td>5</td>\n",
       "      <td>0.400000</td>\n",
       "    </tr>\n",
       "    <tr>\n",
       "      <th>783</th>\n",
       "      <td>West Seattle</td>\n",
       "      <td>53</td>\n",
       "      <td>16</td>\n",
       "      <td>0.687500</td>\n",
       "    </tr>\n",
       "  </tbody>\n",
       "</table>\n",
       "<p>784 rows × 4 columns</p>\n",
       "</div>"
      ],
      "text/plain": [
       "     neighborhood  week  count  occp_perc\n",
       "0         Ballard     1      5   0.600000\n",
       "1         Ballard     2      7   0.857143\n",
       "2         Ballard     3     15   0.533333\n",
       "3         Ballard     4      6   0.500000\n",
       "4         Ballard     5      5   0.400000\n",
       "..            ...   ...    ...        ...\n",
       "779  West Seattle    49      6   0.833333\n",
       "780  West Seattle    50      3   0.666667\n",
       "781  West Seattle    51      8   0.375000\n",
       "782  West Seattle    52      5   0.400000\n",
       "783  West Seattle    53     16   0.687500\n",
       "\n",
       "[784 rows x 4 columns]"
      ]
     },
     "execution_count": 10,
     "metadata": {},
     "output_type": "execute_result"
    },
    {
     "data": {
      "application/javascript": [
       "\n",
       "            setTimeout(function() {\n",
       "                var nbb_cell_id = 10;\n",
       "                var nbb_unformatted_code = \"# get limited dataframe\\noccp_perc_df = top_neighborhoods_df[\\n    [\\\"available\\\", \\\"week\\\", \\\"neighborhood\\\", \\\"listing_id\\\"]\\n]\\n\\n# Get count of available statuses per nhood per week\\noccp_perc_byneigh_df = (\\n    occp_perc_df.groupby([\\\"week\\\", \\\"available\\\", \\\"neighborhood\\\"])\\n    .agg(count=(\\\"listing_id\\\", \\\"count\\\"))\\n    .reset_index()\\n)\\n\\n# get sum of available statuses per nhood per week\\noccp_perc_byneigh_final_df = (\\n    occp_perc_byneigh_df.groupby([\\\"neighborhood\\\", \\\"week\\\"])\\n    .agg({\\\"count\\\": \\\"sum\\\"})\\n    .reset_index()\\n)\\n\\n# calculate availability rate per nhood per week\\noccp_perc_byneigh_final_df[\\\"occp_perc\\\"] = (\\n    occp_perc_byneigh_df.groupby([\\\"neighborhood\\\", \\\"week\\\"])\\n    .apply(lambda x: x[x[\\\"available\\\"] == \\\"f\\\"][\\\"count\\\"].sum() / x[\\\"count\\\"].sum())\\n    .reset_index()\\n)[0]\\n\\noccp_perc_byneigh_final_df\";\n",
       "                var nbb_formatted_code = \"# get limited dataframe\\noccp_perc_df = top_neighborhoods_df[[\\\"available\\\", \\\"week\\\", \\\"neighborhood\\\", \\\"listing_id\\\"]]\\n\\n# Get count of available statuses per nhood per week\\noccp_perc_byneigh_df = (\\n    occp_perc_df.groupby([\\\"week\\\", \\\"available\\\", \\\"neighborhood\\\"])\\n    .agg(count=(\\\"listing_id\\\", \\\"count\\\"))\\n    .reset_index()\\n)\\n\\n# get sum of available statuses per nhood per week\\noccp_perc_byneigh_final_df = (\\n    occp_perc_byneigh_df.groupby([\\\"neighborhood\\\", \\\"week\\\"])\\n    .agg({\\\"count\\\": \\\"sum\\\"})\\n    .reset_index()\\n)\\n\\n# calculate availability rate per nhood per week\\noccp_perc_byneigh_final_df[\\\"occp_perc\\\"] = (\\n    occp_perc_byneigh_df.groupby([\\\"neighborhood\\\", \\\"week\\\"])\\n    .apply(lambda x: x[x[\\\"available\\\"] == \\\"f\\\"][\\\"count\\\"].sum() / x[\\\"count\\\"].sum())\\n    .reset_index()\\n)[0]\\n\\noccp_perc_byneigh_final_df\";\n",
       "                var nbb_cells = Jupyter.notebook.get_cells();\n",
       "                for (var i = 0; i < nbb_cells.length; ++i) {\n",
       "                    if (nbb_cells[i].input_prompt_number == nbb_cell_id) {\n",
       "                        if (nbb_cells[i].get_text() == nbb_unformatted_code) {\n",
       "                             nbb_cells[i].set_text(nbb_formatted_code);\n",
       "                        }\n",
       "                        break;\n",
       "                    }\n",
       "                }\n",
       "            }, 500);\n",
       "            "
      ],
      "text/plain": [
       "<IPython.core.display.Javascript object>"
      ]
     },
     "metadata": {},
     "output_type": "display_data"
    }
   ],
   "source": [
    "# get limited dataframe\n",
    "occp_perc_df = top_neighborhoods_df[[\"available\", \"week\", \"neighborhood\", \"listing_id\"]]\n",
    "\n",
    "# Get count of available statuses per nhood per week\n",
    "occp_perc_byneigh_df = (\n",
    "    occp_perc_df.groupby([\"week\", \"available\", \"neighborhood\"])\n",
    "    .agg(count=(\"listing_id\", \"count\"))\n",
    "    .reset_index()\n",
    ")\n",
    "\n",
    "# get sum of available statuses per nhood per week\n",
    "occp_perc_byneigh_final_df = (\n",
    "    occp_perc_byneigh_df.groupby([\"neighborhood\", \"week\"])\n",
    "    .agg({\"count\": \"sum\"})\n",
    "    .reset_index()\n",
    ")\n",
    "\n",
    "# calculate occupancy rate per nhood per week\n",
    "calc_occp = lambda x: x[x[\"available\"] == \"f\"][\"count\"].sum() / x[\"count\"].sum()\n",
    "occp_perc_byneigh_final_df[\"occp_perc\"] = (\n",
    "    occp_perc_byneigh_df.groupby([\"neighborhood\", \"week\"])\n",
    "    .apply(calc_occp)\n",
    "    .reset_index()\n",
    ")[0]\n",
    "\n",
    "occp_perc_byneigh_final_df"
   ]
  },
  {
   "cell_type": "code",
   "execution_count": 12,
   "metadata": {},
   "outputs": [
    {
     "name": "stdout",
     "output_type": "stream",
     "text": [
      "bumbershoot\n",
      "siff\n",
      "hempfest\n",
      "pride\n"
     ]
    },
    {
     "data": {
      "application/javascript": [
       "\n",
       "            setTimeout(function() {\n",
       "                var nbb_cell_id = 12;\n",
       "                var nbb_unformatted_code = \"# calculate difference b/w event and summer availability stats\\ncalc_pct_change = (\\n    lambda x: 0 if x.iloc[0] == 0 else (x.iloc[-1] - x.iloc[0]) / x.iloc[0]\\n)\\nfor event_name, event_dates in all_events.items():\\n    print(event_name)\\n    event_slice_df = time_slice(\\n        occp_perc_byneigh_final_df.set_index(\\\"week\\\"),\\n        event_dates[\\\"week_start\\\"] - 2,\\n        event_dates[\\\"week_end\\\"],\\n    )\\n    event_occp_df = (\\n        event_slice_df.groupby([\\\"neighborhood\\\"])\\n        .agg(\\n            count=(\\\"count\\\", \\\"mean\\\"),\\n            occp_perc=(\\\"occp_perc\\\", \\\"mean\\\"),\\n            pct_change_avail=(\\\"occp_perc\\\", calc_pct_change),\\n        )\\n        .reset_index()\\n    )\\n\\n    event_occp_df.to_csv(nhood_path + event_name + \\\"_availchange.csv\\\")\";\n",
       "                var nbb_formatted_code = \"# calculate difference b/w event and summer availability stats\\ncalc_pct_change = (\\n    lambda x: 0 if x.iloc[0] == 0 else (x.iloc[-1] - x.iloc[0]) / x.iloc[0]\\n)\\nfor event_name, event_dates in all_events.items():\\n    print(event_name)\\n    event_slice_df = time_slice(\\n        occp_perc_byneigh_final_df.set_index(\\\"week\\\"),\\n        event_dates[\\\"week_start\\\"] - 2,\\n        event_dates[\\\"week_end\\\"],\\n    )\\n    event_occp_df = (\\n        event_slice_df.groupby([\\\"neighborhood\\\"])\\n        .agg(\\n            count=(\\\"count\\\", \\\"mean\\\"),\\n            occp_perc=(\\\"occp_perc\\\", \\\"mean\\\"),\\n            pct_change_avail=(\\\"occp_perc\\\", calc_pct_change),\\n        )\\n        .reset_index()\\n    )\\n\\n    event_occp_df.to_csv(nhood_path + event_name + \\\"_availchange.csv\\\")\";\n",
       "                var nbb_cells = Jupyter.notebook.get_cells();\n",
       "                for (var i = 0; i < nbb_cells.length; ++i) {\n",
       "                    if (nbb_cells[i].input_prompt_number == nbb_cell_id) {\n",
       "                        if (nbb_cells[i].get_text() == nbb_unformatted_code) {\n",
       "                             nbb_cells[i].set_text(nbb_formatted_code);\n",
       "                        }\n",
       "                        break;\n",
       "                    }\n",
       "                }\n",
       "            }, 500);\n",
       "            "
      ],
      "text/plain": [
       "<IPython.core.display.Javascript object>"
      ]
     },
     "metadata": {},
     "output_type": "display_data"
    }
   ],
   "source": [
    "# calculate difference b/w event and summer availability stats\n",
    "calc_pct_change = (\n",
    "    lambda x: 0 if x.iloc[0] == 0 else (x.iloc[-1] - x.iloc[0]) / x.iloc[0]\n",
    ")\n",
    "for event_name, event_dates in all_events.items():\n",
    "    print(event_name)\n",
    "    event_slice_df = time_slice(\n",
    "        occp_perc_byneigh_final_df.set_index(\"week\"),\n",
    "        event_dates[\"week_start\"] - 2,\n",
    "        event_dates[\"week_end\"],\n",
    "    )\n",
    "    event_occp_df = (\n",
    "        event_slice_df.groupby([\"neighborhood\"])\n",
    "        .agg(\n",
    "            count=(\"count\", \"mean\"),\n",
    "            occp_perc=(\"occp_perc\", \"mean\"),\n",
    "            pct_change_occp=(\"occp_perc\", calc_pct_change),\n",
    "        )\n",
    "        .reset_index()\n",
    "    )\n",
    "\n",
    "    event_occp_df.to_csv(nhood_path + event_name + \"_occpchange.csv\")"
   ]
  }
 ],
 "metadata": {
  "kernelspec": {
   "display_name": "Python 3.7.6 64-bit ('base': conda)",
   "language": "python",
   "name": "python37664bitbaseconda746ee105b8694310aaeb229c0245910a"
  },
  "language_info": {
   "codemirror_mode": {
    "name": "ipython",
    "version": 3
   },
   "file_extension": ".py",
   "mimetype": "text/x-python",
   "name": "python",
   "nbconvert_exporter": "python",
   "pygments_lexer": "ipython3",
   "version": "3.7.6"
  }
 },
 "nbformat": 4,
 "nbformat_minor": 4
}
