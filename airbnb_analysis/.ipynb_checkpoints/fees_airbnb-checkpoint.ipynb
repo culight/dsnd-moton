{
 "cells": [
  {
   "cell_type": "code",
   "execution_count": 2,
   "metadata": {},
   "outputs": [],
   "source": [
    "from datetime import timedelta, datetime\n",
    "from pathlib import Path\n",
    "\n",
    "import pandas as pd\n",
    "\n",
    "from scripts.utility import *\n",
    "from scripts.dates import (\n",
    "    bumbershoot_dates,\n",
    "    siff_dates,\n",
    "    hempfest_dates,\n",
    "    pride_dates,\n",
    "    summer_dates,\n",
    "    all_events,\n",
    ")\n",
    "\n",
    "# set data paths\n",
    "preproc_path = \"data/intermediate/preproc/\"\n",
    "nhood_path = \"data/intermediate/nhood/\"\n",
    "finished_path = \"data/finished/nhood/\""
   ]
  },
  {
   "cell_type": "code",
   "execution_count": 3,
   "metadata": {},
   "outputs": [],
   "source": [
    "%load_ext autoreload\n",
    "%autoreload 2"
   ]
  },
  {
   "cell_type": "markdown",
   "metadata": {},
   "source": [
    "## Load stuff"
   ]
  },
  {
   "cell_type": "code",
   "execution_count": 4,
   "metadata": {},
   "outputs": [],
   "source": [
    "# load data\n",
    "calendar_df = pd.read_csv(preproc_path + \"calendar.csv\")\n",
    "reviews_df = pd.read_csv(preproc_path + \"reviews.csv\")\n",
    "listings_cost_df = pd.read_csv(preproc_path + \"cost.csv\")"
   ]
  },
  {
   "cell_type": "code",
   "execution_count": null,
   "metadata": {},
   "outputs": [],
   "source": []
  }
 ],
 "metadata": {
  "kernelspec": {
   "display_name": "Python geospatial",
   "language": "python",
   "name": "geospatial"
  },
  "language_info": {
   "codemirror_mode": {
    "name": "ipython",
    "version": 3
   },
   "file_extension": ".py",
   "mimetype": "text/x-python",
   "name": "python",
   "nbconvert_exporter": "python",
   "pygments_lexer": "ipython3",
   "version": "3.8.2"
  }
 },
 "nbformat": 4,
 "nbformat_minor": 4
}
