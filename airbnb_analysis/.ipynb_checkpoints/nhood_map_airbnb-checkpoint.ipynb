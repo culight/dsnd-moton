{
 "cells": [
  {
   "cell_type": "code",
   "execution_count": 1,
   "metadata": {},
   "outputs": [],
   "source": [
    "from datetime import timedelta, datetime\n",
    "from pathlib import Path\n",
    "\n",
    "import geopandas as gp\n",
    "import matplotlib.pyplot as plt\n",
    "import plotly.graph_objs as go\n",
    "import plotly.express as px\n",
    "import fiona\n",
    "import pandas as pd\n",
    "\n",
    "from scripts.utility import *\n",
    "from scripts.map_utility import *\n",
    "from scripts.dates import (\n",
    "    bumbershoot_dates,\n",
    "    siff_dates,\n",
    "    hempfest_dates,\n",
    "    pride_dates,\n",
    "    summer_dates,\n",
    "    all_events,\n",
    ")\n",
    "\n",
    "# set data paths\n",
    "nhood_path = \"data/intermediate/nhood/\"\n",
    "finished_path = \"data/finished/nhood\"\n",
    "seattle_neigh_json = \"/Users/dmoton/udacity/dsnd-moton/airbnb_analysis/data/raw/neighborhoods.geojson\""
   ]
  },
  {
   "cell_type": "code",
   "execution_count": 2,
   "metadata": {},
   "outputs": [],
   "source": [
    "%load_ext autoreload\n",
    "%autoreload 2"
   ]
  },
  {
   "cell_type": "markdown",
   "metadata": {},
   "source": [
    "## Load stuff"
   ]
  },
  {
   "cell_type": "code",
   "execution_count": 3,
   "metadata": {},
   "outputs": [
    {
     "name": "stdout",
     "output_type": "stream",
     "text": [
      "bumbershoot_occpchange bumbershoot_pricechange\n",
      "siff_occpchange siff_pricechange\n",
      "hempfest_occpchange hempfest_pricechange\n",
      "pride_occpchange pride_pricechange\n"
     ]
    }
   ],
   "source": [
    "price_metrics_dict = dict()\n",
    "occp_metrics_dict = dict()\n",
    "for event_name in all_events.keys():\n",
    "    occp_path = Path(nhood_path + event_name + \"_occpchange.csv\")\n",
    "    price_path = Path(nhood_path + event_name + \"_pricechange.csv\")\n",
    "    print(occp_path.stem, price_path.stem)\n",
    "    price_metrics_dict[price_path.stem] = pd.read_csv(price_path)\n",
    "    occp_metrics_dict[occp_path.stem] = pd.read_csv(occp_path)                                        "
   ]
  },
  {
   "cell_type": "code",
   "execution_count": 4,
   "metadata": {},
   "outputs": [],
   "source": [
    "seattle_neigh = gp.read_file(seattle_neigh_json)"
   ]
  },
  {
   "cell_type": "code",
   "execution_count": 5,
   "metadata": {},
   "outputs": [
    {
     "data": {
      "text/html": [
       "<div>\n",
       "<style scoped>\n",
       "    .dataframe tbody tr th:only-of-type {\n",
       "        vertical-align: middle;\n",
       "    }\n",
       "\n",
       "    .dataframe tbody tr th {\n",
       "        vertical-align: top;\n",
       "    }\n",
       "\n",
       "    .dataframe thead th {\n",
       "        text-align: right;\n",
       "    }\n",
       "</style>\n",
       "<table border=\"1\" class=\"dataframe\">\n",
       "  <thead>\n",
       "    <tr style=\"text-align: right;\">\n",
       "      <th></th>\n",
       "      <th>Unnamed: 0</th>\n",
       "      <th>neighborhood</th>\n",
       "      <th>pct_change_price</th>\n",
       "      <th>event_mean_price</th>\n",
       "    </tr>\n",
       "  </thead>\n",
       "  <tbody>\n",
       "    <tr>\n",
       "      <th>0</th>\n",
       "      <td>0</td>\n",
       "      <td>Ballard</td>\n",
       "      <td>-0.215232</td>\n",
       "      <td>125.506250</td>\n",
       "    </tr>\n",
       "    <tr>\n",
       "      <th>1</th>\n",
       "      <td>1</td>\n",
       "      <td>Beacon Hill</td>\n",
       "      <td>-0.191642</td>\n",
       "      <td>129.644048</td>\n",
       "    </tr>\n",
       "    <tr>\n",
       "      <th>2</th>\n",
       "      <td>2</td>\n",
       "      <td>Capitol Hill</td>\n",
       "      <td>0.240371</td>\n",
       "      <td>168.600294</td>\n",
       "    </tr>\n",
       "    <tr>\n",
       "      <th>3</th>\n",
       "      <td>3</td>\n",
       "      <td>Cascade</td>\n",
       "      <td>0.046832</td>\n",
       "      <td>220.941667</td>\n",
       "    </tr>\n",
       "    <tr>\n",
       "      <th>4</th>\n",
       "      <td>4</td>\n",
       "      <td>Central Area</td>\n",
       "      <td>-0.038991</td>\n",
       "      <td>165.814103</td>\n",
       "    </tr>\n",
       "    <tr>\n",
       "      <th>5</th>\n",
       "      <td>5</td>\n",
       "      <td>Delridge</td>\n",
       "      <td>0.031353</td>\n",
       "      <td>147.262500</td>\n",
       "    </tr>\n",
       "    <tr>\n",
       "      <th>6</th>\n",
       "      <td>6</td>\n",
       "      <td>Downtown</td>\n",
       "      <td>0.464432</td>\n",
       "      <td>190.188301</td>\n",
       "    </tr>\n",
       "    <tr>\n",
       "      <th>7</th>\n",
       "      <td>7</td>\n",
       "      <td>Lake City</td>\n",
       "      <td>-0.429127</td>\n",
       "      <td>119.566667</td>\n",
       "    </tr>\n",
       "    <tr>\n",
       "      <th>8</th>\n",
       "      <td>8</td>\n",
       "      <td>Magnolia</td>\n",
       "      <td>-0.152811</td>\n",
       "      <td>157.625000</td>\n",
       "    </tr>\n",
       "    <tr>\n",
       "      <th>9</th>\n",
       "      <td>9</td>\n",
       "      <td>Northgate</td>\n",
       "      <td>-0.371910</td>\n",
       "      <td>177.061111</td>\n",
       "    </tr>\n",
       "    <tr>\n",
       "      <th>10</th>\n",
       "      <td>10</td>\n",
       "      <td>Queen Anne</td>\n",
       "      <td>0.064124</td>\n",
       "      <td>171.002525</td>\n",
       "    </tr>\n",
       "    <tr>\n",
       "      <th>11</th>\n",
       "      <td>11</td>\n",
       "      <td>Rainier Valley</td>\n",
       "      <td>-0.535007</td>\n",
       "      <td>203.844231</td>\n",
       "    </tr>\n",
       "    <tr>\n",
       "      <th>12</th>\n",
       "      <td>12</td>\n",
       "      <td>Seward Park</td>\n",
       "      <td>2.350000</td>\n",
       "      <td>181.666667</td>\n",
       "    </tr>\n",
       "    <tr>\n",
       "      <th>13</th>\n",
       "      <td>13</td>\n",
       "      <td>University District</td>\n",
       "      <td>0.076056</td>\n",
       "      <td>161.366667</td>\n",
       "    </tr>\n",
       "    <tr>\n",
       "      <th>14</th>\n",
       "      <td>14</td>\n",
       "      <td>West Seattle</td>\n",
       "      <td>-0.101282</td>\n",
       "      <td>230.229167</td>\n",
       "    </tr>\n",
       "  </tbody>\n",
       "</table>\n",
       "</div>"
      ],
      "text/plain": [
       "    Unnamed: 0         neighborhood  pct_change_price  event_mean_price\n",
       "0            0              Ballard         -0.215232        125.506250\n",
       "1            1          Beacon Hill         -0.191642        129.644048\n",
       "2            2         Capitol Hill          0.240371        168.600294\n",
       "3            3              Cascade          0.046832        220.941667\n",
       "4            4         Central Area         -0.038991        165.814103\n",
       "5            5             Delridge          0.031353        147.262500\n",
       "6            6             Downtown          0.464432        190.188301\n",
       "7            7            Lake City         -0.429127        119.566667\n",
       "8            8             Magnolia         -0.152811        157.625000\n",
       "9            9            Northgate         -0.371910        177.061111\n",
       "10          10           Queen Anne          0.064124        171.002525\n",
       "11          11       Rainier Valley         -0.535007        203.844231\n",
       "12          12          Seward Park          2.350000        181.666667\n",
       "13          13  University District          0.076056        161.366667\n",
       "14          14         West Seattle         -0.101282        230.229167"
      ]
     },
     "execution_count": 5,
     "metadata": {},
     "output_type": "execute_result"
    }
   ],
   "source": [
    "price_metrics_dict['bumbershoot_pricechange']"
   ]
  },
  {
   "cell_type": "raw",
   "metadata": {},
   "source": [
    "variable = 'pct_change_price'\n",
    "\n",
    "merged_plot = merged.cx[-122.42:-122.25, 47.50:47.70]\n",
    "\n",
    "# set chloropleth values\n",
    "vmin, vmax = 0, 1\n",
    "\n",
    "# create figure and axes for Matplotlib\n",
    "fig, ax = plt.subplots(1, figsize=(30, 10))\n",
    "\n",
    "# remove the axis\n",
    "ax.axis('off')\n",
    "\n",
    "# add a title and annotation\n",
    "ax.set_title('Price increase for Seattle AirBnB properties', fontdict={'fontsize': '25', 'fontweight' : '3'})\n",
    "ax.annotate('Source: https://boundaries.seattle.io/', xy=(0.6, .05), xycoords='figure fraction', fontsize=12, color='#555555')\n",
    "\n",
    "# Create colorbar legend\n",
    "sm = plt.cm.ScalarMappable(cmap='Greens', norm=plt.Normalize(vmin=vmin, vmax=vmax))\n",
    "\n",
    "# empty array for the data range\n",
    "sm.set_array([]) # or alternatively sm._A = []. Not sure why this step is necessary, but many recommends it\n",
    "\n",
    "# add the colorbar to the figure\n",
    "fig.colorbar(sm, orientation=\"horizontal\", fraction=0.036, pad=0.1, aspect = 30)\n",
    "\n",
    "# create map\n",
    "merged_plot.plot(column=variable, cmap='Greens', linewidth=0.8, ax=ax, edgecolor='0.8')"
   ]
  },
  {
   "cell_type": "markdown",
   "metadata": {},
   "source": [
    "## Plot price and availability stuff"
   ]
  },
  {
   "cell_type": "code",
   "execution_count": 28,
   "metadata": {},
   "outputs": [],
   "source": [
    "occp_data = dict()\n",
    "for event, avail in occp_metrics_dict.items():\n",
    "    merged = seattle_neigh.merge(\n",
    "        avail,\n",
    "        left_on='nhood',\n",
    "        right_on='neighborhood',\n",
    "        how='right'\n",
    "    ).drop_duplicates(['nhood'])\n",
    "    merged_plot = merged.cx[-122.42:-122.25, 47.50:47.70]\n",
    "    \n",
    "    merged_plot_pts = merged_plot.copy()\n",
    "    merged_plot_pts['geometry'] = merged_plot_pts['geometry'].centroid\n",
    "        \n",
    "    occp_data[event.split('_')[0]] = px.scatter_mapbox(\n",
    "        merged_plot_pts,\n",
    "        lat=merged_plot_pts.geometry.y,\n",
    "        lon=merged_plot_pts.geometry.x,\n",
    "        size='count',\n",
    "        color='occp_perc',\n",
    "        hover_name='nhood',\n",
    "        color_continuous_scale='Inferno',\n",
    "        range_color=[0,1],\n",
    "        size_max=20,\n",
    "        zoom=14,\n",
    "        title=\"AirBnB Occupancy By Neighborhood\",\n",
    "        hover_data={\n",
    "            'count': False,\n",
    "            'occp_perc': False,\n",
    "            'pct_change_occp': False,\n",
    "            'Total Listings': merged_plot_pts['count'].to_list(), \n",
    "            'Change in Occupany': format_percent_field(merged_plot_pts['pct_change_occp'], to_percent=True).to_list(),\n",
    "            'Occupancy': format_percent_field(merged_plot_pts['occp_perc'], to_percent=True).to_list(),\n",
    "        }\n",
    "    )  "
   ]
  },
  {
   "cell_type": "code",
   "execution_count": 31,
   "metadata": {},
   "outputs": [],
   "source": [
    "avail_fig = create_map_dropdown(occp_data)"
   ]
  },
  {
   "cell_type": "code",
   "execution_count": 32,
   "metadata": {},
   "outputs": [
    {
     "data": {
      "application/vnd.plotly.v1+json": {
       "config": {
        "plotlyServerURL": "https://plotly.com"
       },
       "data": [
        {
         "customdata": [
          [
           6,
           0.35,
           -0.6,
           6,
           "-60.00%",
           "35.00%"
          ],
          [
           4.5,
           0.5333333333333333,
           -0.6,
           4.5,
           "-60.00%",
           "53.33%"
          ],
          [
           10.5,
           0.4292929292929293,
           0.22222222222222213,
           10.5,
           "22.22%",
           "42.93%"
          ],
          [
           3.5,
           0.2833333333333333,
           -0.5833333333333334,
           3.5,
           "-58.33%",
           "28.33%"
          ],
          [
           2.5,
           0.5,
           0.3333333333333333,
           2.5,
           "33.33%",
           "50.00%"
          ],
          [
           13.25,
           0.37948717948717947,
           -0.038461538461538464,
           13.25,
           "-3.85%",
           "37.95%"
          ],
          [
           26.25,
           0.2346299533799534,
           -0.3406593406593407,
           26.25,
           "-34.07%",
           "23.46%"
          ],
          [
           8,
           0.4097222222222222,
           0.6666666666666669,
           8,
           "66.67%",
           "40.97%"
          ],
          [
           7.25,
           0.2654761904761905,
           0.42857142857142855,
           7.25,
           "42.86%",
           "26.55%"
          ],
          [
           9,
           0.35769230769230764,
           2.333333333333333,
           9,
           "233.33%",
           "35.77%"
          ],
          [
           4.25,
           0.3208333333333333,
           1.4999999999999998,
           4.25,
           "150.00%",
           "32.08%"
          ],
          [
           2,
           0.3333333333333333,
           0,
           2,
           "0.00%",
           "33.33%"
          ],
          [
           12,
           0.3580929487179487,
           -0.5428571428571428,
           12,
           "-54.29%",
           "35.81%"
          ]
         ],
         "hovertemplate": "<b>%{hovertext}</b><br><br>Total Listings=%{customdata[3]}<br>Change in Occupany=%{customdata[4]}<br>Occupancy=%{customdata[5]}<br>lat=%{lat}<br>lon=%{lon}<extra></extra>",
         "hovertext": [
          "Ballard",
          "University District",
          "Queen Anne",
          "Cascade",
          "Magnolia",
          "Central Area",
          "Downtown",
          "West Seattle",
          "Beacon Hill",
          "Rainier Valley",
          "Delridge",
          "Seward Park",
          "Capitol Hill"
         ],
         "lat": [
          47.68327611825291,
          47.65972838933905,
          47.63610855858225,
          47.632489019725924,
          47.65872537004435,
          47.61330104584788,
          47.609455790691186,
          47.551740491478235,
          47.578359836775135,
          47.53887201158371,
          47.52625753422921,
          47.55320648845152,
          47.64638360937516
         ],
         "legendgroup": "",
         "lon": [
          -122.38490775305536,
          -122.30833161801833,
          -122.34952141259649,
          -122.34165148327193,
          -122.40706757289739,
          -122.28893982199374,
          -122.34231358527809,
          -122.39372238649234,
          -122.3097722184586,
          -122.27535083516632,
          -122.34322634182028,
          -122.26445674916552,
          -122.31976225701416
         ],
         "marker": {
          "color": [
           0.35,
           0.5333333333333333,
           0.4292929292929293,
           0.2833333333333333,
           0.5,
           0.37948717948717947,
           0.2346299533799534,
           0.4097222222222222,
           0.2654761904761905,
           0.35769230769230764,
           0.3208333333333333,
           0.3333333333333333,
           0.3580929487179487
          ],
          "coloraxis": "coloraxis",
          "size": [
           6,
           4.5,
           10.5,
           3.5,
           2.5,
           13.25,
           26.25,
           8,
           7.25,
           9,
           4.25,
           2,
           12
          ],
          "sizemode": "area",
          "sizeref": 0.065625
         },
         "mode": "markers",
         "name": "",
         "showlegend": false,
         "subplot": "mapbox",
         "type": "scattermapbox"
        },
        {
         "customdata": [
          [
           8.666666666666666,
           0.5023148148148148,
           -0.4166666666666667,
           8.666666666666666,
           "-41.67%",
           "50.23%"
          ],
          [
           5.166666666666667,
           0.4541125541125541,
           -1,
           5.166666666666667,
           "-100.00%",
           "45.41%"
          ],
          [
           10.333333333333334,
           0.4380341880341881,
           -0.6363636363636364,
           10.333333333333334,
           "-63.64%",
           "43.80%"
          ],
          [
           7.333333333333332,
           0.4685185185185186,
           0.35000000000000003,
           7.333333333333332,
           "35.00%",
           "46.85%"
          ],
          [
           3,
           0.4166666666666667,
           0,
           3,
           "0.00%",
           "41.67%"
          ],
          [
           12.166666666666664,
           0.4213383838383838,
           -0.8035714285714286,
           12.166666666666664,
           "-80.36%",
           "42.13%"
          ],
          [
           22.5,
           0.4863940407418668,
           -0.02941176470588227,
           22.5,
           "-2.94%",
           "48.64%"
          ],
          [
           1,
           0.5,
           0,
           1,
           "0.00%",
           "50.00%"
          ],
          [
           8.5,
           0.5079365079365079,
           0.07142857142857151,
           8.5,
           "7.14%",
           "50.79%"
          ],
          [
           6,
           0.44722222222222224,
           -0.85,
           6,
           "-85.00%",
           "44.72%"
          ],
          [
           6.5,
           0.3333333333333333,
           0.12500000000000006,
           6.5,
           "12.50%",
           "33.33%"
          ],
          [
           6,
           0.3964285714285714,
           0.12500000000000006,
           6,
           "12.50%",
           "39.64%"
          ],
          [
           1.8,
           0.5,
           0,
           1.8,
           "0.00%",
           "50.00%"
          ],
          [
           14.166666666666664,
           0.5485235760971053,
           -0.5721925133689839,
           14.166666666666664,
           "-57.22%",
           "54.85%"
          ]
         ],
         "hovertemplate": "<b>%{hovertext}</b><br><br>Total Listings=%{customdata[3]}<br>Change in Occupany=%{customdata[4]}<br>Occupancy=%{customdata[5]}<br>lat=%{lat}<br>lon=%{lon}<extra></extra>",
         "hovertext": [
          "Ballard",
          "University District",
          "Queen Anne",
          "Cascade",
          "Magnolia",
          "Central Area",
          "Downtown",
          "Interbay",
          "West Seattle",
          "Beacon Hill",
          "Rainier Valley",
          "Delridge",
          "Seward Park",
          "Capitol Hill"
         ],
         "lat": [
          47.68327611825291,
          47.65972838933905,
          47.63610855858225,
          47.632489019725924,
          47.65872537004435,
          47.61330104584788,
          47.609455790691186,
          47.64172700266643,
          47.551740491478235,
          47.578359836775135,
          47.53887201158371,
          47.52625753422921,
          47.55320648845152,
          47.64638360937516
         ],
         "legendgroup": "",
         "lon": [
          -122.38490775305536,
          -122.30833161801833,
          -122.34952141259649,
          -122.34165148327193,
          -122.40706757289739,
          -122.28893982199374,
          -122.34231358527809,
          -122.38106741548015,
          -122.39372238649234,
          -122.3097722184586,
          -122.27535083516632,
          -122.34322634182028,
          -122.26445674916552,
          -122.31976225701416
         ],
         "marker": {
          "color": [
           0.5023148148148148,
           0.4541125541125541,
           0.4380341880341881,
           0.4685185185185186,
           0.4166666666666667,
           0.4213383838383838,
           0.4863940407418668,
           0.5,
           0.5079365079365079,
           0.44722222222222224,
           0.3333333333333333,
           0.3964285714285714,
           0.5,
           0.5485235760971053
          ],
          "coloraxis": "coloraxis",
          "size": [
           8.666666666666666,
           5.166666666666667,
           10.333333333333334,
           7.333333333333332,
           3,
           12.166666666666664,
           22.5,
           1,
           8.5,
           6,
           6.5,
           6,
           1.8,
           14.166666666666664
          ],
          "sizemode": "area",
          "sizeref": 0.05625
         },
         "mode": "markers",
         "name": "",
         "showlegend": false,
         "subplot": "mapbox",
         "type": "scattermapbox",
         "visible": false
        },
        {
         "customdata": [
          [
           8,
           0.44375,
           0,
           8,
           "0.00%",
           "44.38%"
          ],
          [
           4.5,
           0.6178571428571429,
           0.7500000000000001,
           4.5,
           "75.00%",
           "61.79%"
          ],
          [
           10,
           0.34537337662337664,
           -0.03030303030303028,
           10,
           "-3.03%",
           "34.54%"
          ],
          [
           9,
           0.6491421568627451,
           0.36000000000000004,
           9,
           "36.00%",
           "64.91%"
          ],
          [
           2.5,
           0.2083333333333333,
           0,
           2.5,
           "0.00%",
           "20.83%"
          ],
          [
           12.5,
           0.30865384615384617,
           1,
           12.5,
           "100.00%",
           "30.87%"
          ],
          [
           26,
           0.291939831002331,
           0.06944444444444459,
           26,
           "6.94%",
           "29.19%"
          ],
          [
           1,
           1,
           0,
           1,
           "0.00%",
           "100.00%"
          ],
          [
           8,
           0.2727272727272727,
           2.6666666666666665,
           8,
           "266.67%",
           "27.27%"
          ],
          [
           6.25,
           0.125,
           0.4999999999999999,
           6.25,
           "50.00%",
           "12.50%"
          ],
          [
           8.5,
           0.3128205128205128,
           0.20000000000000007,
           8.5,
           "20.00%",
           "31.28%"
          ],
          [
           5.25,
           0.16805555555555554,
           -0.0999999999999999,
           5.25,
           "-10.00%",
           "16.81%"
          ],
          [
           2.25,
           0.375,
           0,
           2.25,
           "0.00%",
           "37.50%"
          ],
          [
           13.75,
           0.3081730769230769,
           0.4583333333333334,
           13.75,
           "45.83%",
           "30.82%"
          ]
         ],
         "hovertemplate": "<b>%{hovertext}</b><br><br>Total Listings=%{customdata[3]}<br>Change in Occupany=%{customdata[4]}<br>Occupancy=%{customdata[5]}<br>lat=%{lat}<br>lon=%{lon}<extra></extra>",
         "hovertext": [
          "Ballard",
          "University District",
          "Queen Anne",
          "Cascade",
          "Magnolia",
          "Central Area",
          "Downtown",
          "Interbay",
          "West Seattle",
          "Beacon Hill",
          "Rainier Valley",
          "Delridge",
          "Seward Park",
          "Capitol Hill"
         ],
         "lat": [
          47.68327611825291,
          47.65972838933905,
          47.63610855858225,
          47.632489019725924,
          47.65872537004435,
          47.61330104584788,
          47.609455790691186,
          47.64172700266643,
          47.551740491478235,
          47.578359836775135,
          47.53887201158371,
          47.52625753422921,
          47.55320648845152,
          47.64638360937516
         ],
         "legendgroup": "",
         "lon": [
          -122.38490775305536,
          -122.30833161801833,
          -122.34952141259649,
          -122.34165148327193,
          -122.40706757289739,
          -122.28893982199374,
          -122.34231358527809,
          -122.38106741548015,
          -122.39372238649234,
          -122.3097722184586,
          -122.27535083516632,
          -122.34322634182028,
          -122.26445674916552,
          -122.31976225701416
         ],
         "marker": {
          "color": [
           0.44375,
           0.6178571428571429,
           0.34537337662337664,
           0.6491421568627451,
           0.2083333333333333,
           0.30865384615384617,
           0.291939831002331,
           1,
           0.2727272727272727,
           0.125,
           0.3128205128205128,
           0.16805555555555554,
           0.375,
           0.3081730769230769
          ],
          "coloraxis": "coloraxis",
          "size": [
           8,
           4.5,
           10,
           9,
           2.5,
           12.5,
           26,
           1,
           8,
           6.25,
           8.5,
           5.25,
           2.25,
           13.75
          ],
          "sizemode": "area",
          "sizeref": 0.065
         },
         "mode": "markers",
         "name": "",
         "showlegend": false,
         "subplot": "mapbox",
         "type": "scattermapbox",
         "visible": false
        },
        {
         "customdata": [
          [
           8.25,
           0.4123376623376624,
           1,
           8.25,
           "100.00%",
           "41.23%"
          ],
          [
           5.25,
           0.3916666666666667,
           0,
           5.25,
           "0.00%",
           "39.17%"
          ],
          [
           12.25,
           0.3376262626262626,
           -0.5111111111111111,
           12.25,
           "-51.11%",
           "33.76%"
          ],
          [
           10,
           0.5170138888888889,
           0,
           10,
           "0.00%",
           "51.70%"
          ],
          [
           3,
           0.3333333333333333,
           -1,
           3,
           "-100.00%",
           "33.33%"
          ],
          [
           12.25,
           0.4653409090909091,
           3.8,
           12.25,
           "380.00%",
           "46.53%"
          ],
          [
           16.5,
           0.5334893048128342,
           -0.14141414141414144,
           16.5,
           "-14.14%",
           "53.35%"
          ],
          [
           8.5,
           0.392965367965368,
           -0.86,
           8.5,
           "-86.00%",
           "39.30%"
          ],
          [
           7.25,
           0.22738095238095235,
           -1,
           7.25,
           "-100.00%",
           "22.74%"
          ],
          [
           7.25,
           0.3715277777777778,
           0.4814814814814816,
           7.25,
           "48.15%",
           "37.15%"
          ],
          [
           4.25,
           0.7208333333333334,
           0.06666666666666672,
           4.25,
           "6.67%",
           "72.08%"
          ],
          [
           1,
           1,
           0,
           1,
           "0.00%",
           "100.00%"
          ],
          [
           16.25,
           0.35800361811391224,
           -0.2714285714285715,
           16.25,
           "-27.14%",
           "35.80%"
          ]
         ],
         "hovertemplate": "<b>%{hovertext}</b><br><br>Total Listings=%{customdata[3]}<br>Change in Occupany=%{customdata[4]}<br>Occupancy=%{customdata[5]}<br>lat=%{lat}<br>lon=%{lon}<extra></extra>",
         "hovertext": [
          "Ballard",
          "University District",
          "Queen Anne",
          "Cascade",
          "Magnolia",
          "Central Area",
          "Downtown",
          "West Seattle",
          "Beacon Hill",
          "Rainier Valley",
          "Delridge",
          "Seward Park",
          "Capitol Hill"
         ],
         "lat": [
          47.68327611825291,
          47.65972838933905,
          47.63610855858225,
          47.632489019725924,
          47.65872537004435,
          47.61330104584788,
          47.609455790691186,
          47.551740491478235,
          47.578359836775135,
          47.53887201158371,
          47.52625753422921,
          47.55320648845152,
          47.64638360937516
         ],
         "legendgroup": "",
         "lon": [
          -122.38490775305536,
          -122.30833161801833,
          -122.34952141259649,
          -122.34165148327193,
          -122.40706757289739,
          -122.28893982199374,
          -122.34231358527809,
          -122.39372238649234,
          -122.3097722184586,
          -122.27535083516632,
          -122.34322634182028,
          -122.26445674916552,
          -122.31976225701416
         ],
         "marker": {
          "color": [
           0.4123376623376624,
           0.3916666666666667,
           0.3376262626262626,
           0.5170138888888889,
           0.3333333333333333,
           0.4653409090909091,
           0.5334893048128342,
           0.392965367965368,
           0.22738095238095235,
           0.3715277777777778,
           0.7208333333333334,
           1,
           0.35800361811391224
          ],
          "coloraxis": "coloraxis",
          "size": [
           8.25,
           5.25,
           12.25,
           10,
           3,
           12.25,
           16.5,
           8.5,
           7.25,
           7.25,
           4.25,
           1,
           16.25
          ],
          "sizemode": "area",
          "sizeref": 0.04125
         },
         "mode": "markers",
         "name": "",
         "showlegend": false,
         "subplot": "mapbox",
         "type": "scattermapbox",
         "visible": false
        }
       ],
       "layout": {
        "height": 800,
        "mapbox": {
         "accesstoken": "pk.eyJ1IjoiZG1vdG9uMzE0IiwiYSI6ImNrYjVpdjhqbTBzaW4yenBpaHBlM3U3YmUifQ.DV5PwTAD_ZYi0qO1Nu105A",
         "center": {
          "lat": 47.6,
          "lon": -122.3
         },
         "zoom": 10
        },
        "template": {
         "data": {
          "bar": [
           {
            "error_x": {
             "color": "#2a3f5f"
            },
            "error_y": {
             "color": "#2a3f5f"
            },
            "marker": {
             "line": {
              "color": "#E5ECF6",
              "width": 0.5
             }
            },
            "type": "bar"
           }
          ],
          "barpolar": [
           {
            "marker": {
             "line": {
              "color": "#E5ECF6",
              "width": 0.5
             }
            },
            "type": "barpolar"
           }
          ],
          "carpet": [
           {
            "aaxis": {
             "endlinecolor": "#2a3f5f",
             "gridcolor": "white",
             "linecolor": "white",
             "minorgridcolor": "white",
             "startlinecolor": "#2a3f5f"
            },
            "baxis": {
             "endlinecolor": "#2a3f5f",
             "gridcolor": "white",
             "linecolor": "white",
             "minorgridcolor": "white",
             "startlinecolor": "#2a3f5f"
            },
            "type": "carpet"
           }
          ],
          "choropleth": [
           {
            "colorbar": {
             "outlinewidth": 0,
             "ticks": ""
            },
            "type": "choropleth"
           }
          ],
          "contour": [
           {
            "colorbar": {
             "outlinewidth": 0,
             "ticks": ""
            },
            "colorscale": [
             [
              0,
              "#0d0887"
             ],
             [
              0.1111111111111111,
              "#46039f"
             ],
             [
              0.2222222222222222,
              "#7201a8"
             ],
             [
              0.3333333333333333,
              "#9c179e"
             ],
             [
              0.4444444444444444,
              "#bd3786"
             ],
             [
              0.5555555555555556,
              "#d8576b"
             ],
             [
              0.6666666666666666,
              "#ed7953"
             ],
             [
              0.7777777777777778,
              "#fb9f3a"
             ],
             [
              0.8888888888888888,
              "#fdca26"
             ],
             [
              1,
              "#f0f921"
             ]
            ],
            "type": "contour"
           }
          ],
          "contourcarpet": [
           {
            "colorbar": {
             "outlinewidth": 0,
             "ticks": ""
            },
            "type": "contourcarpet"
           }
          ],
          "heatmap": [
           {
            "colorbar": {
             "outlinewidth": 0,
             "ticks": ""
            },
            "colorscale": [
             [
              0,
              "#0d0887"
             ],
             [
              0.1111111111111111,
              "#46039f"
             ],
             [
              0.2222222222222222,
              "#7201a8"
             ],
             [
              0.3333333333333333,
              "#9c179e"
             ],
             [
              0.4444444444444444,
              "#bd3786"
             ],
             [
              0.5555555555555556,
              "#d8576b"
             ],
             [
              0.6666666666666666,
              "#ed7953"
             ],
             [
              0.7777777777777778,
              "#fb9f3a"
             ],
             [
              0.8888888888888888,
              "#fdca26"
             ],
             [
              1,
              "#f0f921"
             ]
            ],
            "type": "heatmap"
           }
          ],
          "heatmapgl": [
           {
            "colorbar": {
             "outlinewidth": 0,
             "ticks": ""
            },
            "colorscale": [
             [
              0,
              "#0d0887"
             ],
             [
              0.1111111111111111,
              "#46039f"
             ],
             [
              0.2222222222222222,
              "#7201a8"
             ],
             [
              0.3333333333333333,
              "#9c179e"
             ],
             [
              0.4444444444444444,
              "#bd3786"
             ],
             [
              0.5555555555555556,
              "#d8576b"
             ],
             [
              0.6666666666666666,
              "#ed7953"
             ],
             [
              0.7777777777777778,
              "#fb9f3a"
             ],
             [
              0.8888888888888888,
              "#fdca26"
             ],
             [
              1,
              "#f0f921"
             ]
            ],
            "type": "heatmapgl"
           }
          ],
          "histogram": [
           {
            "marker": {
             "colorbar": {
              "outlinewidth": 0,
              "ticks": ""
             }
            },
            "type": "histogram"
           }
          ],
          "histogram2d": [
           {
            "colorbar": {
             "outlinewidth": 0,
             "ticks": ""
            },
            "colorscale": [
             [
              0,
              "#0d0887"
             ],
             [
              0.1111111111111111,
              "#46039f"
             ],
             [
              0.2222222222222222,
              "#7201a8"
             ],
             [
              0.3333333333333333,
              "#9c179e"
             ],
             [
              0.4444444444444444,
              "#bd3786"
             ],
             [
              0.5555555555555556,
              "#d8576b"
             ],
             [
              0.6666666666666666,
              "#ed7953"
             ],
             [
              0.7777777777777778,
              "#fb9f3a"
             ],
             [
              0.8888888888888888,
              "#fdca26"
             ],
             [
              1,
              "#f0f921"
             ]
            ],
            "type": "histogram2d"
           }
          ],
          "histogram2dcontour": [
           {
            "colorbar": {
             "outlinewidth": 0,
             "ticks": ""
            },
            "colorscale": [
             [
              0,
              "#0d0887"
             ],
             [
              0.1111111111111111,
              "#46039f"
             ],
             [
              0.2222222222222222,
              "#7201a8"
             ],
             [
              0.3333333333333333,
              "#9c179e"
             ],
             [
              0.4444444444444444,
              "#bd3786"
             ],
             [
              0.5555555555555556,
              "#d8576b"
             ],
             [
              0.6666666666666666,
              "#ed7953"
             ],
             [
              0.7777777777777778,
              "#fb9f3a"
             ],
             [
              0.8888888888888888,
              "#fdca26"
             ],
             [
              1,
              "#f0f921"
             ]
            ],
            "type": "histogram2dcontour"
           }
          ],
          "mesh3d": [
           {
            "colorbar": {
             "outlinewidth": 0,
             "ticks": ""
            },
            "type": "mesh3d"
           }
          ],
          "parcoords": [
           {
            "line": {
             "colorbar": {
              "outlinewidth": 0,
              "ticks": ""
             }
            },
            "type": "parcoords"
           }
          ],
          "pie": [
           {
            "automargin": true,
            "type": "pie"
           }
          ],
          "scatter": [
           {
            "marker": {
             "colorbar": {
              "outlinewidth": 0,
              "ticks": ""
             }
            },
            "type": "scatter"
           }
          ],
          "scatter3d": [
           {
            "line": {
             "colorbar": {
              "outlinewidth": 0,
              "ticks": ""
             }
            },
            "marker": {
             "colorbar": {
              "outlinewidth": 0,
              "ticks": ""
             }
            },
            "type": "scatter3d"
           }
          ],
          "scattercarpet": [
           {
            "marker": {
             "colorbar": {
              "outlinewidth": 0,
              "ticks": ""
             }
            },
            "type": "scattercarpet"
           }
          ],
          "scattergeo": [
           {
            "marker": {
             "colorbar": {
              "outlinewidth": 0,
              "ticks": ""
             }
            },
            "type": "scattergeo"
           }
          ],
          "scattergl": [
           {
            "marker": {
             "colorbar": {
              "outlinewidth": 0,
              "ticks": ""
             }
            },
            "type": "scattergl"
           }
          ],
          "scattermapbox": [
           {
            "marker": {
             "colorbar": {
              "outlinewidth": 0,
              "ticks": ""
             }
            },
            "type": "scattermapbox"
           }
          ],
          "scatterpolar": [
           {
            "marker": {
             "colorbar": {
              "outlinewidth": 0,
              "ticks": ""
             }
            },
            "type": "scatterpolar"
           }
          ],
          "scatterpolargl": [
           {
            "marker": {
             "colorbar": {
              "outlinewidth": 0,
              "ticks": ""
             }
            },
            "type": "scatterpolargl"
           }
          ],
          "scatterternary": [
           {
            "marker": {
             "colorbar": {
              "outlinewidth": 0,
              "ticks": ""
             }
            },
            "type": "scatterternary"
           }
          ],
          "surface": [
           {
            "colorbar": {
             "outlinewidth": 0,
             "ticks": ""
            },
            "colorscale": [
             [
              0,
              "#0d0887"
             ],
             [
              0.1111111111111111,
              "#46039f"
             ],
             [
              0.2222222222222222,
              "#7201a8"
             ],
             [
              0.3333333333333333,
              "#9c179e"
             ],
             [
              0.4444444444444444,
              "#bd3786"
             ],
             [
              0.5555555555555556,
              "#d8576b"
             ],
             [
              0.6666666666666666,
              "#ed7953"
             ],
             [
              0.7777777777777778,
              "#fb9f3a"
             ],
             [
              0.8888888888888888,
              "#fdca26"
             ],
             [
              1,
              "#f0f921"
             ]
            ],
            "type": "surface"
           }
          ],
          "table": [
           {
            "cells": {
             "fill": {
              "color": "#EBF0F8"
             },
             "line": {
              "color": "white"
             }
            },
            "header": {
             "fill": {
              "color": "#C8D4E3"
             },
             "line": {
              "color": "white"
             }
            },
            "type": "table"
           }
          ]
         },
         "layout": {
          "annotationdefaults": {
           "arrowcolor": "#2a3f5f",
           "arrowhead": 0,
           "arrowwidth": 1
          },
          "coloraxis": {
           "colorbar": {
            "outlinewidth": 0,
            "ticks": ""
           }
          },
          "colorscale": {
           "diverging": [
            [
             0,
             "#8e0152"
            ],
            [
             0.1,
             "#c51b7d"
            ],
            [
             0.2,
             "#de77ae"
            ],
            [
             0.3,
             "#f1b6da"
            ],
            [
             0.4,
             "#fde0ef"
            ],
            [
             0.5,
             "#f7f7f7"
            ],
            [
             0.6,
             "#e6f5d0"
            ],
            [
             0.7,
             "#b8e186"
            ],
            [
             0.8,
             "#7fbc41"
            ],
            [
             0.9,
             "#4d9221"
            ],
            [
             1,
             "#276419"
            ]
           ],
           "sequential": [
            [
             0,
             "#0d0887"
            ],
            [
             0.1111111111111111,
             "#46039f"
            ],
            [
             0.2222222222222222,
             "#7201a8"
            ],
            [
             0.3333333333333333,
             "#9c179e"
            ],
            [
             0.4444444444444444,
             "#bd3786"
            ],
            [
             0.5555555555555556,
             "#d8576b"
            ],
            [
             0.6666666666666666,
             "#ed7953"
            ],
            [
             0.7777777777777778,
             "#fb9f3a"
            ],
            [
             0.8888888888888888,
             "#fdca26"
            ],
            [
             1,
             "#f0f921"
            ]
           ],
           "sequentialminus": [
            [
             0,
             "#0d0887"
            ],
            [
             0.1111111111111111,
             "#46039f"
            ],
            [
             0.2222222222222222,
             "#7201a8"
            ],
            [
             0.3333333333333333,
             "#9c179e"
            ],
            [
             0.4444444444444444,
             "#bd3786"
            ],
            [
             0.5555555555555556,
             "#d8576b"
            ],
            [
             0.6666666666666666,
             "#ed7953"
            ],
            [
             0.7777777777777778,
             "#fb9f3a"
            ],
            [
             0.8888888888888888,
             "#fdca26"
            ],
            [
             1,
             "#f0f921"
            ]
           ]
          },
          "colorway": [
           "#636efa",
           "#EF553B",
           "#00cc96",
           "#ab63fa",
           "#FFA15A",
           "#19d3f3",
           "#FF6692",
           "#B6E880",
           "#FF97FF",
           "#FECB52"
          ],
          "font": {
           "color": "#2a3f5f"
          },
          "geo": {
           "bgcolor": "white",
           "lakecolor": "white",
           "landcolor": "#E5ECF6",
           "showlakes": true,
           "showland": true,
           "subunitcolor": "white"
          },
          "hoverlabel": {
           "align": "left"
          },
          "hovermode": "closest",
          "mapbox": {
           "style": "light"
          },
          "paper_bgcolor": "white",
          "plot_bgcolor": "#E5ECF6",
          "polar": {
           "angularaxis": {
            "gridcolor": "white",
            "linecolor": "white",
            "ticks": ""
           },
           "bgcolor": "#E5ECF6",
           "radialaxis": {
            "gridcolor": "white",
            "linecolor": "white",
            "ticks": ""
           }
          },
          "scene": {
           "xaxis": {
            "backgroundcolor": "#E5ECF6",
            "gridcolor": "white",
            "gridwidth": 2,
            "linecolor": "white",
            "showbackground": true,
            "ticks": "",
            "zerolinecolor": "white"
           },
           "yaxis": {
            "backgroundcolor": "#E5ECF6",
            "gridcolor": "white",
            "gridwidth": 2,
            "linecolor": "white",
            "showbackground": true,
            "ticks": "",
            "zerolinecolor": "white"
           },
           "zaxis": {
            "backgroundcolor": "#E5ECF6",
            "gridcolor": "white",
            "gridwidth": 2,
            "linecolor": "white",
            "showbackground": true,
            "ticks": "",
            "zerolinecolor": "white"
           }
          },
          "shapedefaults": {
           "line": {
            "color": "#2a3f5f"
           }
          },
          "ternary": {
           "aaxis": {
            "gridcolor": "white",
            "linecolor": "white",
            "ticks": ""
           },
           "baxis": {
            "gridcolor": "white",
            "linecolor": "white",
            "ticks": ""
           },
           "bgcolor": "#E5ECF6",
           "caxis": {
            "gridcolor": "white",
            "linecolor": "white",
            "ticks": ""
           }
          },
          "title": {
           "x": 0.05
          },
          "xaxis": {
           "automargin": true,
           "gridcolor": "white",
           "linecolor": "white",
           "ticks": "",
           "title": {
            "standoff": 15
           },
           "zerolinecolor": "white",
           "zerolinewidth": 2
          },
          "yaxis": {
           "automargin": true,
           "gridcolor": "white",
           "linecolor": "white",
           "ticks": "",
           "title": {
            "standoff": 15
           },
           "zerolinecolor": "white",
           "zerolinewidth": 2
          }
         }
        },
        "updatemenus": [
         {
          "buttons": [
           {
            "args": [
             "visible",
             [
              true,
              false,
              false,
              false
             ]
            ],
            "label": "bumbershoot",
            "method": "restyle"
           },
           {
            "args": [
             "visible",
             [
              false,
              true,
              false,
              false
             ]
            ],
            "label": "siff",
            "method": "restyle"
           },
           {
            "args": [
             "visible",
             [
              false,
              false,
              true,
              false
             ]
            ],
            "label": "hempfest",
            "method": "restyle"
           },
           {
            "args": [
             "visible",
             [
              false,
              false,
              false,
              true
             ]
            ],
            "label": "pride",
            "method": "restyle"
           }
          ],
          "pad": {
           "r": 10,
           "t": 10
          },
          "x": -0.05,
          "y": 1,
          "yanchor": "top"
         }
        ],
        "width": 800
       }
      },
      "text/html": [
       "<div>\n",
       "        \n",
       "        \n",
       "            <div id=\"fabb690f-f88f-466f-bf23-fca92e1cf0f1\" class=\"plotly-graph-div\" style=\"height:800px; width:800px;\"></div>\n",
       "            <script type=\"text/javascript\">\n",
       "                require([\"plotly\"], function(Plotly) {\n",
       "                    window.PLOTLYENV=window.PLOTLYENV || {};\n",
       "                    \n",
       "                if (document.getElementById(\"fabb690f-f88f-466f-bf23-fca92e1cf0f1\")) {\n",
       "                    Plotly.newPlot(\n",
       "                        'fabb690f-f88f-466f-bf23-fca92e1cf0f1',\n",
       "                        [{\"customdata\": [[6.0, 0.35, -0.6, 6.0, \"-60.00%\", \"35.00%\"], [4.5, 0.5333333333333333, -0.6, 4.5, \"-60.00%\", \"53.33%\"], [10.5, 0.4292929292929293, 0.22222222222222213, 10.5, \"22.22%\", \"42.93%\"], [3.5, 0.2833333333333333, -0.5833333333333334, 3.5, \"-58.33%\", \"28.33%\"], [2.5, 0.5, 0.3333333333333333, 2.5, \"33.33%\", \"50.00%\"], [13.25, 0.37948717948717947, -0.038461538461538464, 13.25, \"-3.85%\", \"37.95%\"], [26.25, 0.2346299533799534, -0.3406593406593407, 26.25, \"-34.07%\", \"23.46%\"], [8.0, 0.4097222222222222, 0.6666666666666669, 8.0, \"66.67%\", \"40.97%\"], [7.25, 0.2654761904761905, 0.42857142857142855, 7.25, \"42.86%\", \"26.55%\"], [9.0, 0.35769230769230764, 2.333333333333333, 9.0, \"233.33%\", \"35.77%\"], [4.25, 0.3208333333333333, 1.4999999999999998, 4.25, \"150.00%\", \"32.08%\"], [2.0, 0.3333333333333333, 0.0, 2.0, \"0.00%\", \"33.33%\"], [12.0, 0.3580929487179487, -0.5428571428571428, 12.0, \"-54.29%\", \"35.81%\"]], \"hovertemplate\": \"<b>%{hovertext}</b><br><br>Total Listings=%{customdata[3]}<br>Change in Occupany=%{customdata[4]}<br>Occupancy=%{customdata[5]}<br>lat=%{lat}<br>lon=%{lon}<extra></extra>\", \"hovertext\": [\"Ballard\", \"University District\", \"Queen Anne\", \"Cascade\", \"Magnolia\", \"Central Area\", \"Downtown\", \"West Seattle\", \"Beacon Hill\", \"Rainier Valley\", \"Delridge\", \"Seward Park\", \"Capitol Hill\"], \"lat\": [47.68327611825291, 47.65972838933905, 47.63610855858225, 47.632489019725924, 47.65872537004435, 47.61330104584788, 47.609455790691186, 47.551740491478235, 47.578359836775135, 47.53887201158371, 47.52625753422921, 47.55320648845152, 47.64638360937516], \"legendgroup\": \"\", \"lon\": [-122.38490775305536, -122.30833161801833, -122.34952141259649, -122.34165148327193, -122.40706757289739, -122.28893982199374, -122.34231358527809, -122.39372238649234, -122.3097722184586, -122.27535083516632, -122.34322634182028, -122.26445674916552, -122.31976225701416], \"marker\": {\"color\": [0.35, 0.5333333333333333, 0.4292929292929293, 0.2833333333333333, 0.5, 0.37948717948717947, 0.2346299533799534, 0.4097222222222222, 0.2654761904761905, 0.35769230769230764, 0.3208333333333333, 0.3333333333333333, 0.3580929487179487], \"coloraxis\": \"coloraxis\", \"size\": [6.0, 4.5, 10.5, 3.5, 2.5, 13.25, 26.25, 8.0, 7.25, 9.0, 4.25, 2.0, 12.0], \"sizemode\": \"area\", \"sizeref\": 0.065625}, \"mode\": \"markers\", \"name\": \"\", \"showlegend\": false, \"subplot\": \"mapbox\", \"type\": \"scattermapbox\"}, {\"customdata\": [[8.666666666666666, 0.5023148148148148, -0.4166666666666667, 8.666666666666666, \"-41.67%\", \"50.23%\"], [5.166666666666667, 0.4541125541125541, -1.0, 5.166666666666667, \"-100.00%\", \"45.41%\"], [10.333333333333334, 0.4380341880341881, -0.6363636363636364, 10.333333333333334, \"-63.64%\", \"43.80%\"], [7.333333333333332, 0.4685185185185186, 0.35000000000000003, 7.333333333333332, \"35.00%\", \"46.85%\"], [3.0, 0.4166666666666667, 0.0, 3.0, \"0.00%\", \"41.67%\"], [12.166666666666664, 0.4213383838383838, -0.8035714285714286, 12.166666666666664, \"-80.36%\", \"42.13%\"], [22.5, 0.4863940407418668, -0.02941176470588227, 22.5, \"-2.94%\", \"48.64%\"], [1.0, 0.5, 0.0, 1.0, \"0.00%\", \"50.00%\"], [8.5, 0.5079365079365079, 0.07142857142857151, 8.5, \"7.14%\", \"50.79%\"], [6.0, 0.44722222222222224, -0.85, 6.0, \"-85.00%\", \"44.72%\"], [6.5, 0.3333333333333333, 0.12500000000000006, 6.5, \"12.50%\", \"33.33%\"], [6.0, 0.3964285714285714, 0.12500000000000006, 6.0, \"12.50%\", \"39.64%\"], [1.8, 0.5, 0.0, 1.8, \"0.00%\", \"50.00%\"], [14.166666666666664, 0.5485235760971053, -0.5721925133689839, 14.166666666666664, \"-57.22%\", \"54.85%\"]], \"hovertemplate\": \"<b>%{hovertext}</b><br><br>Total Listings=%{customdata[3]}<br>Change in Occupany=%{customdata[4]}<br>Occupancy=%{customdata[5]}<br>lat=%{lat}<br>lon=%{lon}<extra></extra>\", \"hovertext\": [\"Ballard\", \"University District\", \"Queen Anne\", \"Cascade\", \"Magnolia\", \"Central Area\", \"Downtown\", \"Interbay\", \"West Seattle\", \"Beacon Hill\", \"Rainier Valley\", \"Delridge\", \"Seward Park\", \"Capitol Hill\"], \"lat\": [47.68327611825291, 47.65972838933905, 47.63610855858225, 47.632489019725924, 47.65872537004435, 47.61330104584788, 47.609455790691186, 47.64172700266643, 47.551740491478235, 47.578359836775135, 47.53887201158371, 47.52625753422921, 47.55320648845152, 47.64638360937516], \"legendgroup\": \"\", \"lon\": [-122.38490775305536, -122.30833161801833, -122.34952141259649, -122.34165148327193, -122.40706757289739, -122.28893982199374, -122.34231358527809, -122.38106741548015, -122.39372238649234, -122.3097722184586, -122.27535083516632, -122.34322634182028, -122.26445674916552, -122.31976225701416], \"marker\": {\"color\": [0.5023148148148148, 0.4541125541125541, 0.4380341880341881, 0.4685185185185186, 0.4166666666666667, 0.4213383838383838, 0.4863940407418668, 0.5, 0.5079365079365079, 0.44722222222222224, 0.3333333333333333, 0.3964285714285714, 0.5, 0.5485235760971053], \"coloraxis\": \"coloraxis\", \"size\": [8.666666666666666, 5.166666666666667, 10.333333333333334, 7.333333333333332, 3.0, 12.166666666666664, 22.5, 1.0, 8.5, 6.0, 6.5, 6.0, 1.8, 14.166666666666664], \"sizemode\": \"area\", \"sizeref\": 0.05625}, \"mode\": \"markers\", \"name\": \"\", \"showlegend\": false, \"subplot\": \"mapbox\", \"type\": \"scattermapbox\", \"visible\": false}, {\"customdata\": [[8.0, 0.44375, 0.0, 8.0, \"0.00%\", \"44.38%\"], [4.5, 0.6178571428571429, 0.7500000000000001, 4.5, \"75.00%\", \"61.79%\"], [10.0, 0.34537337662337664, -0.03030303030303028, 10.0, \"-3.03%\", \"34.54%\"], [9.0, 0.6491421568627451, 0.36000000000000004, 9.0, \"36.00%\", \"64.91%\"], [2.5, 0.2083333333333333, 0.0, 2.5, \"0.00%\", \"20.83%\"], [12.5, 0.30865384615384617, 1.0, 12.5, \"100.00%\", \"30.87%\"], [26.0, 0.291939831002331, 0.06944444444444459, 26.0, \"6.94%\", \"29.19%\"], [1.0, 1.0, 0.0, 1.0, \"0.00%\", \"100.00%\"], [8.0, 0.2727272727272727, 2.6666666666666665, 8.0, \"266.67%\", \"27.27%\"], [6.25, 0.125, 0.4999999999999999, 6.25, \"50.00%\", \"12.50%\"], [8.5, 0.3128205128205128, 0.20000000000000007, 8.5, \"20.00%\", \"31.28%\"], [5.25, 0.16805555555555554, -0.0999999999999999, 5.25, \"-10.00%\", \"16.81%\"], [2.25, 0.375, 0.0, 2.25, \"0.00%\", \"37.50%\"], [13.75, 0.3081730769230769, 0.4583333333333334, 13.75, \"45.83%\", \"30.82%\"]], \"hovertemplate\": \"<b>%{hovertext}</b><br><br>Total Listings=%{customdata[3]}<br>Change in Occupany=%{customdata[4]}<br>Occupancy=%{customdata[5]}<br>lat=%{lat}<br>lon=%{lon}<extra></extra>\", \"hovertext\": [\"Ballard\", \"University District\", \"Queen Anne\", \"Cascade\", \"Magnolia\", \"Central Area\", \"Downtown\", \"Interbay\", \"West Seattle\", \"Beacon Hill\", \"Rainier Valley\", \"Delridge\", \"Seward Park\", \"Capitol Hill\"], \"lat\": [47.68327611825291, 47.65972838933905, 47.63610855858225, 47.632489019725924, 47.65872537004435, 47.61330104584788, 47.609455790691186, 47.64172700266643, 47.551740491478235, 47.578359836775135, 47.53887201158371, 47.52625753422921, 47.55320648845152, 47.64638360937516], \"legendgroup\": \"\", \"lon\": [-122.38490775305536, -122.30833161801833, -122.34952141259649, -122.34165148327193, -122.40706757289739, -122.28893982199374, -122.34231358527809, -122.38106741548015, -122.39372238649234, -122.3097722184586, -122.27535083516632, -122.34322634182028, -122.26445674916552, -122.31976225701416], \"marker\": {\"color\": [0.44375, 0.6178571428571429, 0.34537337662337664, 0.6491421568627451, 0.2083333333333333, 0.30865384615384617, 0.291939831002331, 1.0, 0.2727272727272727, 0.125, 0.3128205128205128, 0.16805555555555554, 0.375, 0.3081730769230769], \"coloraxis\": \"coloraxis\", \"size\": [8.0, 4.5, 10.0, 9.0, 2.5, 12.5, 26.0, 1.0, 8.0, 6.25, 8.5, 5.25, 2.25, 13.75], \"sizemode\": \"area\", \"sizeref\": 0.065}, \"mode\": \"markers\", \"name\": \"\", \"showlegend\": false, \"subplot\": \"mapbox\", \"type\": \"scattermapbox\", \"visible\": false}, {\"customdata\": [[8.25, 0.4123376623376624, 1.0, 8.25, \"100.00%\", \"41.23%\"], [5.25, 0.3916666666666667, 0.0, 5.25, \"0.00%\", \"39.17%\"], [12.25, 0.3376262626262626, -0.5111111111111111, 12.25, \"-51.11%\", \"33.76%\"], [10.0, 0.5170138888888889, 0.0, 10.0, \"0.00%\", \"51.70%\"], [3.0, 0.3333333333333333, -1.0, 3.0, \"-100.00%\", \"33.33%\"], [12.25, 0.4653409090909091, 3.8, 12.25, \"380.00%\", \"46.53%\"], [16.5, 0.5334893048128342, -0.14141414141414144, 16.5, \"-14.14%\", \"53.35%\"], [8.5, 0.392965367965368, -0.86, 8.5, \"-86.00%\", \"39.30%\"], [7.25, 0.22738095238095235, -1.0, 7.25, \"-100.00%\", \"22.74%\"], [7.25, 0.3715277777777778, 0.4814814814814816, 7.25, \"48.15%\", \"37.15%\"], [4.25, 0.7208333333333334, 0.06666666666666672, 4.25, \"6.67%\", \"72.08%\"], [1.0, 1.0, 0.0, 1.0, \"0.00%\", \"100.00%\"], [16.25, 0.35800361811391224, -0.2714285714285715, 16.25, \"-27.14%\", \"35.80%\"]], \"hovertemplate\": \"<b>%{hovertext}</b><br><br>Total Listings=%{customdata[3]}<br>Change in Occupany=%{customdata[4]}<br>Occupancy=%{customdata[5]}<br>lat=%{lat}<br>lon=%{lon}<extra></extra>\", \"hovertext\": [\"Ballard\", \"University District\", \"Queen Anne\", \"Cascade\", \"Magnolia\", \"Central Area\", \"Downtown\", \"West Seattle\", \"Beacon Hill\", \"Rainier Valley\", \"Delridge\", \"Seward Park\", \"Capitol Hill\"], \"lat\": [47.68327611825291, 47.65972838933905, 47.63610855858225, 47.632489019725924, 47.65872537004435, 47.61330104584788, 47.609455790691186, 47.551740491478235, 47.578359836775135, 47.53887201158371, 47.52625753422921, 47.55320648845152, 47.64638360937516], \"legendgroup\": \"\", \"lon\": [-122.38490775305536, -122.30833161801833, -122.34952141259649, -122.34165148327193, -122.40706757289739, -122.28893982199374, -122.34231358527809, -122.39372238649234, -122.3097722184586, -122.27535083516632, -122.34322634182028, -122.26445674916552, -122.31976225701416], \"marker\": {\"color\": [0.4123376623376624, 0.3916666666666667, 0.3376262626262626, 0.5170138888888889, 0.3333333333333333, 0.4653409090909091, 0.5334893048128342, 0.392965367965368, 0.22738095238095235, 0.3715277777777778, 0.7208333333333334, 1.0, 0.35800361811391224], \"coloraxis\": \"coloraxis\", \"size\": [8.25, 5.25, 12.25, 10.0, 3.0, 12.25, 16.5, 8.5, 7.25, 7.25, 4.25, 1.0, 16.25], \"sizemode\": \"area\", \"sizeref\": 0.04125}, \"mode\": \"markers\", \"name\": \"\", \"showlegend\": false, \"subplot\": \"mapbox\", \"type\": \"scattermapbox\", \"visible\": false}],\n",
       "                        {\"height\": 800, \"mapbox\": {\"accesstoken\": \"pk.eyJ1IjoiZG1vdG9uMzE0IiwiYSI6ImNrYjVpdjhqbTBzaW4yenBpaHBlM3U3YmUifQ.DV5PwTAD_ZYi0qO1Nu105A\", \"center\": {\"lat\": 47.6, \"lon\": -122.3}, \"zoom\": 10}, \"template\": {\"data\": {\"bar\": [{\"error_x\": {\"color\": \"#2a3f5f\"}, \"error_y\": {\"color\": \"#2a3f5f\"}, \"marker\": {\"line\": {\"color\": \"#E5ECF6\", \"width\": 0.5}}, \"type\": \"bar\"}], \"barpolar\": [{\"marker\": {\"line\": {\"color\": \"#E5ECF6\", \"width\": 0.5}}, \"type\": \"barpolar\"}], \"carpet\": [{\"aaxis\": {\"endlinecolor\": \"#2a3f5f\", \"gridcolor\": \"white\", \"linecolor\": \"white\", \"minorgridcolor\": \"white\", \"startlinecolor\": \"#2a3f5f\"}, \"baxis\": {\"endlinecolor\": \"#2a3f5f\", \"gridcolor\": \"white\", \"linecolor\": \"white\", \"minorgridcolor\": \"white\", \"startlinecolor\": \"#2a3f5f\"}, \"type\": \"carpet\"}], \"choropleth\": [{\"colorbar\": {\"outlinewidth\": 0, \"ticks\": \"\"}, \"type\": \"choropleth\"}], \"contour\": [{\"colorbar\": {\"outlinewidth\": 0, \"ticks\": \"\"}, \"colorscale\": [[0.0, \"#0d0887\"], [0.1111111111111111, \"#46039f\"], [0.2222222222222222, \"#7201a8\"], [0.3333333333333333, \"#9c179e\"], [0.4444444444444444, \"#bd3786\"], [0.5555555555555556, \"#d8576b\"], [0.6666666666666666, \"#ed7953\"], [0.7777777777777778, \"#fb9f3a\"], [0.8888888888888888, \"#fdca26\"], [1.0, \"#f0f921\"]], \"type\": \"contour\"}], \"contourcarpet\": [{\"colorbar\": {\"outlinewidth\": 0, \"ticks\": \"\"}, \"type\": \"contourcarpet\"}], \"heatmap\": [{\"colorbar\": {\"outlinewidth\": 0, \"ticks\": \"\"}, \"colorscale\": [[0.0, \"#0d0887\"], [0.1111111111111111, \"#46039f\"], [0.2222222222222222, \"#7201a8\"], [0.3333333333333333, \"#9c179e\"], [0.4444444444444444, \"#bd3786\"], [0.5555555555555556, \"#d8576b\"], [0.6666666666666666, \"#ed7953\"], [0.7777777777777778, \"#fb9f3a\"], [0.8888888888888888, \"#fdca26\"], [1.0, \"#f0f921\"]], \"type\": \"heatmap\"}], \"heatmapgl\": [{\"colorbar\": {\"outlinewidth\": 0, \"ticks\": \"\"}, \"colorscale\": [[0.0, \"#0d0887\"], [0.1111111111111111, \"#46039f\"], [0.2222222222222222, \"#7201a8\"], [0.3333333333333333, \"#9c179e\"], [0.4444444444444444, \"#bd3786\"], [0.5555555555555556, \"#d8576b\"], [0.6666666666666666, \"#ed7953\"], [0.7777777777777778, \"#fb9f3a\"], [0.8888888888888888, \"#fdca26\"], [1.0, \"#f0f921\"]], \"type\": \"heatmapgl\"}], \"histogram\": [{\"marker\": {\"colorbar\": {\"outlinewidth\": 0, \"ticks\": \"\"}}, \"type\": \"histogram\"}], \"histogram2d\": [{\"colorbar\": {\"outlinewidth\": 0, \"ticks\": \"\"}, \"colorscale\": [[0.0, \"#0d0887\"], [0.1111111111111111, \"#46039f\"], [0.2222222222222222, \"#7201a8\"], [0.3333333333333333, \"#9c179e\"], [0.4444444444444444, \"#bd3786\"], [0.5555555555555556, \"#d8576b\"], [0.6666666666666666, \"#ed7953\"], [0.7777777777777778, \"#fb9f3a\"], [0.8888888888888888, \"#fdca26\"], [1.0, \"#f0f921\"]], \"type\": \"histogram2d\"}], \"histogram2dcontour\": [{\"colorbar\": {\"outlinewidth\": 0, \"ticks\": \"\"}, \"colorscale\": [[0.0, \"#0d0887\"], [0.1111111111111111, \"#46039f\"], [0.2222222222222222, \"#7201a8\"], [0.3333333333333333, \"#9c179e\"], [0.4444444444444444, \"#bd3786\"], [0.5555555555555556, \"#d8576b\"], [0.6666666666666666, \"#ed7953\"], [0.7777777777777778, \"#fb9f3a\"], [0.8888888888888888, \"#fdca26\"], [1.0, \"#f0f921\"]], \"type\": \"histogram2dcontour\"}], \"mesh3d\": [{\"colorbar\": {\"outlinewidth\": 0, \"ticks\": \"\"}, \"type\": \"mesh3d\"}], \"parcoords\": [{\"line\": {\"colorbar\": {\"outlinewidth\": 0, \"ticks\": \"\"}}, \"type\": \"parcoords\"}], \"pie\": [{\"automargin\": true, \"type\": \"pie\"}], \"scatter\": [{\"marker\": {\"colorbar\": {\"outlinewidth\": 0, \"ticks\": \"\"}}, \"type\": \"scatter\"}], \"scatter3d\": [{\"line\": {\"colorbar\": {\"outlinewidth\": 0, \"ticks\": \"\"}}, \"marker\": {\"colorbar\": {\"outlinewidth\": 0, \"ticks\": \"\"}}, \"type\": \"scatter3d\"}], \"scattercarpet\": [{\"marker\": {\"colorbar\": {\"outlinewidth\": 0, \"ticks\": \"\"}}, \"type\": \"scattercarpet\"}], \"scattergeo\": [{\"marker\": {\"colorbar\": {\"outlinewidth\": 0, \"ticks\": \"\"}}, \"type\": \"scattergeo\"}], \"scattergl\": [{\"marker\": {\"colorbar\": {\"outlinewidth\": 0, \"ticks\": \"\"}}, \"type\": \"scattergl\"}], \"scattermapbox\": [{\"marker\": {\"colorbar\": {\"outlinewidth\": 0, \"ticks\": \"\"}}, \"type\": \"scattermapbox\"}], \"scatterpolar\": [{\"marker\": {\"colorbar\": {\"outlinewidth\": 0, \"ticks\": \"\"}}, \"type\": \"scatterpolar\"}], \"scatterpolargl\": [{\"marker\": {\"colorbar\": {\"outlinewidth\": 0, \"ticks\": \"\"}}, \"type\": \"scatterpolargl\"}], \"scatterternary\": [{\"marker\": {\"colorbar\": {\"outlinewidth\": 0, \"ticks\": \"\"}}, \"type\": \"scatterternary\"}], \"surface\": [{\"colorbar\": {\"outlinewidth\": 0, \"ticks\": \"\"}, \"colorscale\": [[0.0, \"#0d0887\"], [0.1111111111111111, \"#46039f\"], [0.2222222222222222, \"#7201a8\"], [0.3333333333333333, \"#9c179e\"], [0.4444444444444444, \"#bd3786\"], [0.5555555555555556, \"#d8576b\"], [0.6666666666666666, \"#ed7953\"], [0.7777777777777778, \"#fb9f3a\"], [0.8888888888888888, \"#fdca26\"], [1.0, \"#f0f921\"]], \"type\": \"surface\"}], \"table\": [{\"cells\": {\"fill\": {\"color\": \"#EBF0F8\"}, \"line\": {\"color\": \"white\"}}, \"header\": {\"fill\": {\"color\": \"#C8D4E3\"}, \"line\": {\"color\": \"white\"}}, \"type\": \"table\"}]}, \"layout\": {\"annotationdefaults\": {\"arrowcolor\": \"#2a3f5f\", \"arrowhead\": 0, \"arrowwidth\": 1}, \"coloraxis\": {\"colorbar\": {\"outlinewidth\": 0, \"ticks\": \"\"}}, \"colorscale\": {\"diverging\": [[0, \"#8e0152\"], [0.1, \"#c51b7d\"], [0.2, \"#de77ae\"], [0.3, \"#f1b6da\"], [0.4, \"#fde0ef\"], [0.5, \"#f7f7f7\"], [0.6, \"#e6f5d0\"], [0.7, \"#b8e186\"], [0.8, \"#7fbc41\"], [0.9, \"#4d9221\"], [1, \"#276419\"]], \"sequential\": [[0.0, \"#0d0887\"], [0.1111111111111111, \"#46039f\"], [0.2222222222222222, \"#7201a8\"], [0.3333333333333333, \"#9c179e\"], [0.4444444444444444, \"#bd3786\"], [0.5555555555555556, \"#d8576b\"], [0.6666666666666666, \"#ed7953\"], [0.7777777777777778, \"#fb9f3a\"], [0.8888888888888888, \"#fdca26\"], [1.0, \"#f0f921\"]], \"sequentialminus\": [[0.0, \"#0d0887\"], [0.1111111111111111, \"#46039f\"], [0.2222222222222222, \"#7201a8\"], [0.3333333333333333, \"#9c179e\"], [0.4444444444444444, \"#bd3786\"], [0.5555555555555556, \"#d8576b\"], [0.6666666666666666, \"#ed7953\"], [0.7777777777777778, \"#fb9f3a\"], [0.8888888888888888, \"#fdca26\"], [1.0, \"#f0f921\"]]}, \"colorway\": [\"#636efa\", \"#EF553B\", \"#00cc96\", \"#ab63fa\", \"#FFA15A\", \"#19d3f3\", \"#FF6692\", \"#B6E880\", \"#FF97FF\", \"#FECB52\"], \"font\": {\"color\": \"#2a3f5f\"}, \"geo\": {\"bgcolor\": \"white\", \"lakecolor\": \"white\", \"landcolor\": \"#E5ECF6\", \"showlakes\": true, \"showland\": true, \"subunitcolor\": \"white\"}, \"hoverlabel\": {\"align\": \"left\"}, \"hovermode\": \"closest\", \"mapbox\": {\"style\": \"light\"}, \"paper_bgcolor\": \"white\", \"plot_bgcolor\": \"#E5ECF6\", \"polar\": {\"angularaxis\": {\"gridcolor\": \"white\", \"linecolor\": \"white\", \"ticks\": \"\"}, \"bgcolor\": \"#E5ECF6\", \"radialaxis\": {\"gridcolor\": \"white\", \"linecolor\": \"white\", \"ticks\": \"\"}}, \"scene\": {\"xaxis\": {\"backgroundcolor\": \"#E5ECF6\", \"gridcolor\": \"white\", \"gridwidth\": 2, \"linecolor\": \"white\", \"showbackground\": true, \"ticks\": \"\", \"zerolinecolor\": \"white\"}, \"yaxis\": {\"backgroundcolor\": \"#E5ECF6\", \"gridcolor\": \"white\", \"gridwidth\": 2, \"linecolor\": \"white\", \"showbackground\": true, \"ticks\": \"\", \"zerolinecolor\": \"white\"}, \"zaxis\": {\"backgroundcolor\": \"#E5ECF6\", \"gridcolor\": \"white\", \"gridwidth\": 2, \"linecolor\": \"white\", \"showbackground\": true, \"ticks\": \"\", \"zerolinecolor\": \"white\"}}, \"shapedefaults\": {\"line\": {\"color\": \"#2a3f5f\"}}, \"ternary\": {\"aaxis\": {\"gridcolor\": \"white\", \"linecolor\": \"white\", \"ticks\": \"\"}, \"baxis\": {\"gridcolor\": \"white\", \"linecolor\": \"white\", \"ticks\": \"\"}, \"bgcolor\": \"#E5ECF6\", \"caxis\": {\"gridcolor\": \"white\", \"linecolor\": \"white\", \"ticks\": \"\"}}, \"title\": {\"x\": 0.05}, \"xaxis\": {\"automargin\": true, \"gridcolor\": \"white\", \"linecolor\": \"white\", \"ticks\": \"\", \"title\": {\"standoff\": 15}, \"zerolinecolor\": \"white\", \"zerolinewidth\": 2}, \"yaxis\": {\"automargin\": true, \"gridcolor\": \"white\", \"linecolor\": \"white\", \"ticks\": \"\", \"title\": {\"standoff\": 15}, \"zerolinecolor\": \"white\", \"zerolinewidth\": 2}}}, \"updatemenus\": [{\"buttons\": [{\"args\": [\"visible\", [true, false, false, false]], \"label\": \"bumbershoot\", \"method\": \"restyle\"}, {\"args\": [\"visible\", [false, true, false, false]], \"label\": \"siff\", \"method\": \"restyle\"}, {\"args\": [\"visible\", [false, false, true, false]], \"label\": \"hempfest\", \"method\": \"restyle\"}, {\"args\": [\"visible\", [false, false, false, true]], \"label\": \"pride\", \"method\": \"restyle\"}], \"pad\": {\"r\": 10, \"t\": 10}, \"x\": -0.05, \"y\": 1, \"yanchor\": \"top\"}], \"width\": 800},\n",
       "                        {\"responsive\": true}\n",
       "                    ).then(function(){\n",
       "                            \n",
       "var gd = document.getElementById('fabb690f-f88f-466f-bf23-fca92e1cf0f1');\n",
       "var x = new MutationObserver(function (mutations, observer) {{\n",
       "        var display = window.getComputedStyle(gd).display;\n",
       "        if (!display || display === 'none') {{\n",
       "            console.log([gd, 'removed!']);\n",
       "            Plotly.purge(gd);\n",
       "            observer.disconnect();\n",
       "        }}\n",
       "}});\n",
       "\n",
       "// Listen for the removal of the full notebook cells\n",
       "var notebookContainer = gd.closest('#notebook-container');\n",
       "if (notebookContainer) {{\n",
       "    x.observe(notebookContainer, {childList: true});\n",
       "}}\n",
       "\n",
       "// Listen for the clearing of the current output cell\n",
       "var outputEl = gd.closest('.output');\n",
       "if (outputEl) {{\n",
       "    x.observe(outputEl, {childList: true});\n",
       "}}\n",
       "\n",
       "                        })\n",
       "                };\n",
       "                });\n",
       "            </script>\n",
       "        </div>"
      ]
     },
     "metadata": {},
     "output_type": "display_data"
    }
   ],
   "source": [
    "avail_fig.show()"
   ]
  },
  {
   "cell_type": "code",
   "execution_count": 40,
   "metadata": {},
   "outputs": [],
   "source": [
    "price_data = dict()\n",
    "for event, price in price_metrics_dict.items():\n",
    "    merged = seattle_neigh.merge(\n",
    "        price,\n",
    "        left_on='nhood',\n",
    "        right_on='neighborhood',\n",
    "        how='right'\n",
    "    ).drop_duplicates(['nhood'])\n",
    "    merged_plot = merged.cx[-122.42:-122.25, 47.50:47.70]\n",
    "    \n",
    "    merged_plot_pts = merged_plot.copy()\n",
    "    merged_plot_pts['geometry'] = merged_plot_pts['geometry'].centroid\n",
    "        \n",
    "    price_data[event.split('_')[0]] = px.scatter_mapbox(\n",
    "        merged_plot_pts,\n",
    "        lat=merged_plot_pts.geometry.y,\n",
    "        lon=merged_plot_pts.geometry.x,\n",
    "        size='event_mean_price',\n",
    "        color='pct_change_price',\n",
    "        hover_name='nhood',\n",
    "        color_continuous_scale='Inferno',\n",
    "        range_color=[-0.5,2],\n",
    "        size_max=20,\n",
    "        zoom=14,\n",
    "        title=\"Listing Price By Neighborhood\",\n",
    "#         hover_data={\n",
    "#             'event_mean_price': False,\n",
    "#             'pct_change_price': False,\n",
    "#             'Average Listing Price': format_dollar_field(\n",
    "#                 merged_plot_pts['event_mean_price'],\n",
    "#                 to_dollar=True\n",
    "#             ).to_list(),\n",
    "#             'Change in Price': format_percent_field(\n",
    "#                 merged_plot_pts['pct_change_price'],\n",
    "#                 to_percent=True\n",
    "#             ).to_list()\n",
    "#         }\n",
    "    )  "
   ]
  },
  {
   "cell_type": "code",
   "execution_count": 52,
   "metadata": {},
   "outputs": [
    {
     "data": {
      "text/plain": [
       "Layout({\n",
       "    'coloraxis': {'cmax': 2,\n",
       "                  'cmin': -0.5,\n",
       "                  'colorbar': {'title': {'text': 'pct_change_price'}},\n",
       "                  'colorscale': [[0.0, '#000004'], [0.1111111111111111,\n",
       "                                 '#1b0c41'], [0.2222222222222222, '#4a0c6b'],\n",
       "                                 [0.3333333333333333, '#781c6d'],\n",
       "                                 [0.4444444444444444, '#a52c60'],\n",
       "                                 [0.5555555555555556, '#cf4446'],\n",
       "                                 [0.6666666666666666, '#ed6925'],\n",
       "                                 [0.7777777777777778, '#fb9b06'],\n",
       "                                 [0.8888888888888888, '#f7d13d'], [1.0, '#fcffa4']]},\n",
       "    'legend': {'itemsizing': 'constant', 'tracegroupgap': 0},\n",
       "    'mapbox': {'center': {'lat': 47.60925937621736, 'lon': -122.33643510362207},\n",
       "               'domain': {'x': [0.0, 1.0], 'y': [0.0, 1.0]},\n",
       "               'zoom': 14},\n",
       "    'template': '...',\n",
       "    'title': {'text': 'Listing Price By Neighborhood'}\n",
       "})"
      ]
     },
     "execution_count": 52,
     "metadata": {},
     "output_type": "execute_result"
    }
   ],
   "source": [
    "price_data['siff'].layout"
   ]
  },
  {
   "cell_type": "code",
   "execution_count": 70,
   "metadata": {},
   "outputs": [],
   "source": [
    "f = go.Figure()"
   ]
  },
  {
   "cell_type": "code",
   "execution_count": 72,
   "metadata": {},
   "outputs": [],
   "source": [
    "f.layout = price_data['siff'].layout"
   ]
  },
  {
   "cell_type": "code",
   "execution_count": 89,
   "metadata": {},
   "outputs": [],
   "source": [
    "price_fig = create_map_dropdown(price_data)"
   ]
  },
  {
   "cell_type": "code",
   "execution_count": 90,
   "metadata": {
    "scrolled": false
   },
   "outputs": [
    {
     "data": {
      "application/vnd.plotly.v1+json": {
       "config": {
        "plotlyServerURL": "https://plotly.com"
       },
       "data": [
        {
         "hovertemplate": "<b>%{hovertext}</b><br><br>event_mean_price=%{marker.size}<br>lat=%{lat}<br>lon=%{lon}<br>pct_change_price=%{marker.color}<extra></extra>",
         "hovertext": [
          "Ballard",
          "University District",
          "Queen Anne",
          "Cascade",
          "Magnolia",
          "Central Area",
          "Downtown",
          "West Seattle",
          "Beacon Hill",
          "Rainier Valley",
          "Delridge",
          "Seward Park",
          "Capitol Hill"
         ],
         "lat": [
          47.68327611825291,
          47.65972838933905,
          47.63610855858225,
          47.632489019725924,
          47.65872537004435,
          47.61330104584788,
          47.609455790691186,
          47.551740491478235,
          47.578359836775135,
          47.53887201158371,
          47.52625753422921,
          47.55320648845152,
          47.64638360937516
         ],
         "legendgroup": "",
         "lon": [
          -122.38490775305536,
          -122.30833161801833,
          -122.34952141259649,
          -122.34165148327193,
          -122.40706757289739,
          -122.28893982199374,
          -122.34231358527809,
          -122.39372238649234,
          -122.3097722184586,
          -122.27535083516632,
          -122.34322634182028,
          -122.26445674916552,
          -122.31976225701416
         ],
         "marker": {
          "color": [
           -0.2152322924600152,
           0.0760563380281691,
           0.06412382531785504,
           0.046831955922864994,
           -0.1528107680126682,
           -0.03899089506639637,
           0.4644321848652023,
           -0.10128205128205132,
           -0.191642242601872,
           -0.535007072135785,
           0.03135313531353129,
           2.35,
           0.2403705509507557
          ],
          "coloraxis": "coloraxis",
          "size": [
           125.50625,
           161.36666666666667,
           171.00252525252526,
           220.94166666666663,
           157.625,
           165.81410256410254,
           190.18830128205133,
           230.22916666666663,
           129.64404761904765,
           203.8442307692308,
           147.2625,
           181.66666666666663,
           168.60029380341882
          ],
          "sizemode": "area",
          "sizeref": 0.5755729166666665
         },
         "mode": "markers",
         "name": "",
         "showlegend": false,
         "subplot": "mapbox",
         "type": "scattermapbox"
        },
        {
         "hovertemplate": "<b>%{hovertext}</b><br><br>event_mean_price=%{marker.size}<br>lat=%{lat}<br>lon=%{lon}<br>pct_change_price=%{marker.color}<extra></extra>",
         "hovertext": [
          "Ballard",
          "University District",
          "Queen Anne",
          "Cascade",
          "Magnolia",
          "Central Area",
          "Downtown",
          "Interbay",
          "West Seattle",
          "Beacon Hill",
          "Rainier Valley",
          "Delridge",
          "Seward Park",
          "Capitol Hill"
         ],
         "lat": [
          47.68327611825291,
          47.65972838933905,
          47.63610855858225,
          47.632489019725924,
          47.65872537004435,
          47.61330104584788,
          47.609455790691186,
          47.64172700266643,
          47.551740491478235,
          47.578359836775135,
          47.53887201158371,
          47.52625753422921,
          47.55320648845152,
          47.64638360937516
         ],
         "legendgroup": "",
         "lon": [
          -122.38490775305536,
          -122.30833161801833,
          -122.34952141259649,
          -122.34165148327193,
          -122.40706757289739,
          -122.28893982199374,
          -122.34231358527809,
          -122.38106741548015,
          -122.39372238649234,
          -122.3097722184586,
          -122.27535083516632,
          -122.34322634182028,
          -122.26445674916552,
          -122.31976225701416
         ],
         "marker": {
          "color": [
           0.36538035041029066,
           -0.15692387633151475,
           0.23301985370950884,
           -0.3668463611859838,
           1.1725,
           0.02640845070422531,
           0.0272005009588666,
           1.1666666666666667,
           0.5732935471838866,
           0.3418181818181818,
           0.09809027777777778,
           -0.3156545741324921,
           0.8571428571428571,
           -0.2610262396589352
          ],
          "coloraxis": "coloraxis",
          "size": [
           167.08597883597886,
           125.1449494949495,
           158.21095571095574,
           169.91997354497352,
           134.98611111111111,
           186.5967171717172,
           152.10074441046308,
           142.5,
           159.25,
           152.39074074074077,
           147.9375,
           152.6081349206349,
           170,
           167.01459141348846
          ],
          "sizemode": "area",
          "sizeref": 0.466491792929293
         },
         "mode": "markers",
         "name": "",
         "showlegend": false,
         "subplot": "mapbox",
         "type": "scattermapbox",
         "visible": false
        },
        {
         "hovertemplate": "<b>%{hovertext}</b><br><br>event_mean_price=%{marker.size}<br>lat=%{lat}<br>lon=%{lon}<br>pct_change_price=%{marker.color}<extra></extra>",
         "hovertext": [
          "Ballard",
          "University District",
          "Queen Anne",
          "Cascade",
          "Magnolia",
          "Central Area",
          "Downtown",
          "Interbay",
          "West Seattle",
          "Beacon Hill",
          "Rainier Valley",
          "Delridge",
          "Seward Park",
          "Capitol Hill"
         ],
         "lat": [
          47.68327611825291,
          47.65972838933905,
          47.63610855858225,
          47.632489019725924,
          47.65872537004435,
          47.61330104584788,
          47.609455790691186,
          47.64172700266643,
          47.551740491478235,
          47.578359836775135,
          47.53887201158371,
          47.52625753422921,
          47.55320648845152,
          47.64638360937516
         ],
         "legendgroup": "",
         "lon": [
          -122.38490775305536,
          -122.30833161801833,
          -122.34952141259649,
          -122.34165148327193,
          -122.40706757289739,
          -122.28893982199374,
          -122.34231358527809,
          -122.38106741548015,
          -122.39372238649234,
          -122.3097722184586,
          -122.27535083516632,
          -122.34322634182028,
          -122.26445674916552,
          -122.31976225701416
         ],
         "marker": {
          "color": [
           -0.15326741186586418,
           -0.21608832807570974,
           0.18847006651884704,
           0.2396233521657249,
           0.08505154639175258,
           -0.00333137370174405,
           -0.1708486332109343,
           0,
           0.7407181984175288,
           -0.055625000000000036,
           0.29034220532319405,
           0.2883464566929134,
           0.005025125628140704,
           -0.382526493256262
          ],
          "coloraxis": "coloraxis",
          "size": [
           177.45208333333335,
           169.81071428571428,
           150.50974025974028,
           149.05870098039216,
           178.83333333333337,
           171.64871794871794,
           165.13419653263404,
           475,
           167.13257575757575,
           146.9,
           246.37820512820514,
           173.58194444444442,
           136.6875,
           152.53341346153846
          ],
          "sizemode": "area",
          "sizeref": 1.1875
         },
         "mode": "markers",
         "name": "",
         "showlegend": false,
         "subplot": "mapbox",
         "type": "scattermapbox",
         "visible": false
        },
        {
         "hovertemplate": "<b>%{hovertext}</b><br><br>event_mean_price=%{marker.size}<br>lat=%{lat}<br>lon=%{lon}<br>pct_change_price=%{marker.color}<extra></extra>",
         "hovertext": [
          "Ballard",
          "University District",
          "Queen Anne",
          "Cascade",
          "Magnolia",
          "Central Area",
          "Downtown",
          "West Seattle",
          "Beacon Hill",
          "Rainier Valley",
          "Delridge",
          "Seward Park",
          "Capitol Hill"
         ],
         "lat": [
          47.68327611825291,
          47.65972838933905,
          47.63610855858225,
          47.632489019725924,
          47.65872537004435,
          47.61330104584788,
          47.609455790691186,
          47.551740491478235,
          47.578359836775135,
          47.53887201158371,
          47.52625753422921,
          47.55320648845152,
          47.64638360937516
         ],
         "legendgroup": "",
         "lon": [
          -122.38490775305536,
          -122.30833161801833,
          -122.34952141259649,
          -122.34165148327193,
          -122.40706757289739,
          -122.28893982199374,
          -122.34231358527809,
          -122.39372238649234,
          -122.3097722184586,
          -122.27535083516632,
          -122.34322634182028,
          -122.26445674916552,
          -122.31976225701416
         ],
         "marker": {
          "color": [
           -0.25042637862421835,
           1.28,
           -0.3064406779661017,
           0.8754789272030652,
           0.5972382048331415,
           -0.2494758909853249,
           -0.016764459346186027,
           -0.4618065433854908,
           0.3696060037523452,
           0.08212560386473433,
           -0.2269662921348315,
           0,
           0.03458922030350596
          ],
          "coloraxis": "coloraxis",
          "size": [
           171.40494227994228,
           175.6809523809524,
           172.63856421356422,
           141.221875,
           300.5833333333333,
           172.9318181818182,
           148.21601307189542,
           160.93246753246754,
           202.24285714285716,
           163.44791666666666,
           144.10625,
           195,
           170.15673144257704
          ],
          "sizemode": "area",
          "sizeref": 0.7514583333333333
         },
         "mode": "markers",
         "name": "",
         "showlegend": false,
         "subplot": "mapbox",
         "type": "scattermapbox",
         "visible": false
        }
       ],
       "layout": {
        "annotations": [
         {
          "align": "left",
          "showarrow": false,
          "text": "Neighborhood:",
          "x": -0.28,
          "y": 1.04,
          "yref": "paper"
         }
        ],
        "coloraxis": {
         "cmax": 2,
         "cmin": -0.5,
         "colorbar": {
          "title": {
           "text": "pct_change_price"
          }
         },
         "colorscale": [
          [
           0,
           "#000004"
          ],
          [
           0.1111111111111111,
           "#1b0c41"
          ],
          [
           0.2222222222222222,
           "#4a0c6b"
          ],
          [
           0.3333333333333333,
           "#781c6d"
          ],
          [
           0.4444444444444444,
           "#a52c60"
          ],
          [
           0.5555555555555556,
           "#cf4446"
          ],
          [
           0.6666666666666666,
           "#ed6925"
          ],
          [
           0.7777777777777778,
           "#fb9b06"
          ],
          [
           0.8888888888888888,
           "#f7d13d"
          ],
          [
           1,
           "#fcffa4"
          ]
         ]
        },
        "height": 800,
        "legend": {
         "itemsizing": "constant",
         "tracegroupgap": 0
        },
        "mapbox": {
         "accesstoken": "pk.eyJ1IjoiZG1vdG9uMzE0IiwiYSI6ImNrYjVpdjhqbTBzaW4yenBpaHBlM3U3YmUifQ.DV5PwTAD_ZYi0qO1Nu105A",
         "center": {
          "lat": 47.6,
          "lon": -122.3
         },
         "domain": {
          "x": [
           0,
           1
          ],
          "y": [
           0,
           1
          ]
         },
         "zoom": 10
        },
        "template": {
         "data": {
          "bar": [
           {
            "error_x": {
             "color": "#2a3f5f"
            },
            "error_y": {
             "color": "#2a3f5f"
            },
            "marker": {
             "line": {
              "color": "#E5ECF6",
              "width": 0.5
             }
            },
            "type": "bar"
           }
          ],
          "barpolar": [
           {
            "marker": {
             "line": {
              "color": "#E5ECF6",
              "width": 0.5
             }
            },
            "type": "barpolar"
           }
          ],
          "carpet": [
           {
            "aaxis": {
             "endlinecolor": "#2a3f5f",
             "gridcolor": "white",
             "linecolor": "white",
             "minorgridcolor": "white",
             "startlinecolor": "#2a3f5f"
            },
            "baxis": {
             "endlinecolor": "#2a3f5f",
             "gridcolor": "white",
             "linecolor": "white",
             "minorgridcolor": "white",
             "startlinecolor": "#2a3f5f"
            },
            "type": "carpet"
           }
          ],
          "choropleth": [
           {
            "colorbar": {
             "outlinewidth": 0,
             "ticks": ""
            },
            "type": "choropleth"
           }
          ],
          "contour": [
           {
            "colorbar": {
             "outlinewidth": 0,
             "ticks": ""
            },
            "colorscale": [
             [
              0,
              "#0d0887"
             ],
             [
              0.1111111111111111,
              "#46039f"
             ],
             [
              0.2222222222222222,
              "#7201a8"
             ],
             [
              0.3333333333333333,
              "#9c179e"
             ],
             [
              0.4444444444444444,
              "#bd3786"
             ],
             [
              0.5555555555555556,
              "#d8576b"
             ],
             [
              0.6666666666666666,
              "#ed7953"
             ],
             [
              0.7777777777777778,
              "#fb9f3a"
             ],
             [
              0.8888888888888888,
              "#fdca26"
             ],
             [
              1,
              "#f0f921"
             ]
            ],
            "type": "contour"
           }
          ],
          "contourcarpet": [
           {
            "colorbar": {
             "outlinewidth": 0,
             "ticks": ""
            },
            "type": "contourcarpet"
           }
          ],
          "heatmap": [
           {
            "colorbar": {
             "outlinewidth": 0,
             "ticks": ""
            },
            "colorscale": [
             [
              0,
              "#0d0887"
             ],
             [
              0.1111111111111111,
              "#46039f"
             ],
             [
              0.2222222222222222,
              "#7201a8"
             ],
             [
              0.3333333333333333,
              "#9c179e"
             ],
             [
              0.4444444444444444,
              "#bd3786"
             ],
             [
              0.5555555555555556,
              "#d8576b"
             ],
             [
              0.6666666666666666,
              "#ed7953"
             ],
             [
              0.7777777777777778,
              "#fb9f3a"
             ],
             [
              0.8888888888888888,
              "#fdca26"
             ],
             [
              1,
              "#f0f921"
             ]
            ],
            "type": "heatmap"
           }
          ],
          "heatmapgl": [
           {
            "colorbar": {
             "outlinewidth": 0,
             "ticks": ""
            },
            "colorscale": [
             [
              0,
              "#0d0887"
             ],
             [
              0.1111111111111111,
              "#46039f"
             ],
             [
              0.2222222222222222,
              "#7201a8"
             ],
             [
              0.3333333333333333,
              "#9c179e"
             ],
             [
              0.4444444444444444,
              "#bd3786"
             ],
             [
              0.5555555555555556,
              "#d8576b"
             ],
             [
              0.6666666666666666,
              "#ed7953"
             ],
             [
              0.7777777777777778,
              "#fb9f3a"
             ],
             [
              0.8888888888888888,
              "#fdca26"
             ],
             [
              1,
              "#f0f921"
             ]
            ],
            "type": "heatmapgl"
           }
          ],
          "histogram": [
           {
            "marker": {
             "colorbar": {
              "outlinewidth": 0,
              "ticks": ""
             }
            },
            "type": "histogram"
           }
          ],
          "histogram2d": [
           {
            "colorbar": {
             "outlinewidth": 0,
             "ticks": ""
            },
            "colorscale": [
             [
              0,
              "#0d0887"
             ],
             [
              0.1111111111111111,
              "#46039f"
             ],
             [
              0.2222222222222222,
              "#7201a8"
             ],
             [
              0.3333333333333333,
              "#9c179e"
             ],
             [
              0.4444444444444444,
              "#bd3786"
             ],
             [
              0.5555555555555556,
              "#d8576b"
             ],
             [
              0.6666666666666666,
              "#ed7953"
             ],
             [
              0.7777777777777778,
              "#fb9f3a"
             ],
             [
              0.8888888888888888,
              "#fdca26"
             ],
             [
              1,
              "#f0f921"
             ]
            ],
            "type": "histogram2d"
           }
          ],
          "histogram2dcontour": [
           {
            "colorbar": {
             "outlinewidth": 0,
             "ticks": ""
            },
            "colorscale": [
             [
              0,
              "#0d0887"
             ],
             [
              0.1111111111111111,
              "#46039f"
             ],
             [
              0.2222222222222222,
              "#7201a8"
             ],
             [
              0.3333333333333333,
              "#9c179e"
             ],
             [
              0.4444444444444444,
              "#bd3786"
             ],
             [
              0.5555555555555556,
              "#d8576b"
             ],
             [
              0.6666666666666666,
              "#ed7953"
             ],
             [
              0.7777777777777778,
              "#fb9f3a"
             ],
             [
              0.8888888888888888,
              "#fdca26"
             ],
             [
              1,
              "#f0f921"
             ]
            ],
            "type": "histogram2dcontour"
           }
          ],
          "mesh3d": [
           {
            "colorbar": {
             "outlinewidth": 0,
             "ticks": ""
            },
            "type": "mesh3d"
           }
          ],
          "parcoords": [
           {
            "line": {
             "colorbar": {
              "outlinewidth": 0,
              "ticks": ""
             }
            },
            "type": "parcoords"
           }
          ],
          "pie": [
           {
            "automargin": true,
            "type": "pie"
           }
          ],
          "scatter": [
           {
            "marker": {
             "colorbar": {
              "outlinewidth": 0,
              "ticks": ""
             }
            },
            "type": "scatter"
           }
          ],
          "scatter3d": [
           {
            "line": {
             "colorbar": {
              "outlinewidth": 0,
              "ticks": ""
             }
            },
            "marker": {
             "colorbar": {
              "outlinewidth": 0,
              "ticks": ""
             }
            },
            "type": "scatter3d"
           }
          ],
          "scattercarpet": [
           {
            "marker": {
             "colorbar": {
              "outlinewidth": 0,
              "ticks": ""
             }
            },
            "type": "scattercarpet"
           }
          ],
          "scattergeo": [
           {
            "marker": {
             "colorbar": {
              "outlinewidth": 0,
              "ticks": ""
             }
            },
            "type": "scattergeo"
           }
          ],
          "scattergl": [
           {
            "marker": {
             "colorbar": {
              "outlinewidth": 0,
              "ticks": ""
             }
            },
            "type": "scattergl"
           }
          ],
          "scattermapbox": [
           {
            "marker": {
             "colorbar": {
              "outlinewidth": 0,
              "ticks": ""
             }
            },
            "type": "scattermapbox"
           }
          ],
          "scatterpolar": [
           {
            "marker": {
             "colorbar": {
              "outlinewidth": 0,
              "ticks": ""
             }
            },
            "type": "scatterpolar"
           }
          ],
          "scatterpolargl": [
           {
            "marker": {
             "colorbar": {
              "outlinewidth": 0,
              "ticks": ""
             }
            },
            "type": "scatterpolargl"
           }
          ],
          "scatterternary": [
           {
            "marker": {
             "colorbar": {
              "outlinewidth": 0,
              "ticks": ""
             }
            },
            "type": "scatterternary"
           }
          ],
          "surface": [
           {
            "colorbar": {
             "outlinewidth": 0,
             "ticks": ""
            },
            "colorscale": [
             [
              0,
              "#0d0887"
             ],
             [
              0.1111111111111111,
              "#46039f"
             ],
             [
              0.2222222222222222,
              "#7201a8"
             ],
             [
              0.3333333333333333,
              "#9c179e"
             ],
             [
              0.4444444444444444,
              "#bd3786"
             ],
             [
              0.5555555555555556,
              "#d8576b"
             ],
             [
              0.6666666666666666,
              "#ed7953"
             ],
             [
              0.7777777777777778,
              "#fb9f3a"
             ],
             [
              0.8888888888888888,
              "#fdca26"
             ],
             [
              1,
              "#f0f921"
             ]
            ],
            "type": "surface"
           }
          ],
          "table": [
           {
            "cells": {
             "fill": {
              "color": "#EBF0F8"
             },
             "line": {
              "color": "white"
             }
            },
            "header": {
             "fill": {
              "color": "#C8D4E3"
             },
             "line": {
              "color": "white"
             }
            },
            "type": "table"
           }
          ]
         },
         "layout": {
          "annotationdefaults": {
           "arrowcolor": "#2a3f5f",
           "arrowhead": 0,
           "arrowwidth": 1
          },
          "coloraxis": {
           "colorbar": {
            "outlinewidth": 0,
            "ticks": ""
           }
          },
          "colorscale": {
           "diverging": [
            [
             0,
             "#8e0152"
            ],
            [
             0.1,
             "#c51b7d"
            ],
            [
             0.2,
             "#de77ae"
            ],
            [
             0.3,
             "#f1b6da"
            ],
            [
             0.4,
             "#fde0ef"
            ],
            [
             0.5,
             "#f7f7f7"
            ],
            [
             0.6,
             "#e6f5d0"
            ],
            [
             0.7,
             "#b8e186"
            ],
            [
             0.8,
             "#7fbc41"
            ],
            [
             0.9,
             "#4d9221"
            ],
            [
             1,
             "#276419"
            ]
           ],
           "sequential": [
            [
             0,
             "#0d0887"
            ],
            [
             0.1111111111111111,
             "#46039f"
            ],
            [
             0.2222222222222222,
             "#7201a8"
            ],
            [
             0.3333333333333333,
             "#9c179e"
            ],
            [
             0.4444444444444444,
             "#bd3786"
            ],
            [
             0.5555555555555556,
             "#d8576b"
            ],
            [
             0.6666666666666666,
             "#ed7953"
            ],
            [
             0.7777777777777778,
             "#fb9f3a"
            ],
            [
             0.8888888888888888,
             "#fdca26"
            ],
            [
             1,
             "#f0f921"
            ]
           ],
           "sequentialminus": [
            [
             0,
             "#0d0887"
            ],
            [
             0.1111111111111111,
             "#46039f"
            ],
            [
             0.2222222222222222,
             "#7201a8"
            ],
            [
             0.3333333333333333,
             "#9c179e"
            ],
            [
             0.4444444444444444,
             "#bd3786"
            ],
            [
             0.5555555555555556,
             "#d8576b"
            ],
            [
             0.6666666666666666,
             "#ed7953"
            ],
            [
             0.7777777777777778,
             "#fb9f3a"
            ],
            [
             0.8888888888888888,
             "#fdca26"
            ],
            [
             1,
             "#f0f921"
            ]
           ]
          },
          "colorway": [
           "#636efa",
           "#EF553B",
           "#00cc96",
           "#ab63fa",
           "#FFA15A",
           "#19d3f3",
           "#FF6692",
           "#B6E880",
           "#FF97FF",
           "#FECB52"
          ],
          "font": {
           "color": "#2a3f5f"
          },
          "geo": {
           "bgcolor": "white",
           "lakecolor": "white",
           "landcolor": "#E5ECF6",
           "showlakes": true,
           "showland": true,
           "subunitcolor": "white"
          },
          "hoverlabel": {
           "align": "left"
          },
          "hovermode": "closest",
          "mapbox": {
           "style": "light"
          },
          "paper_bgcolor": "white",
          "plot_bgcolor": "#E5ECF6",
          "polar": {
           "angularaxis": {
            "gridcolor": "white",
            "linecolor": "white",
            "ticks": ""
           },
           "bgcolor": "#E5ECF6",
           "radialaxis": {
            "gridcolor": "white",
            "linecolor": "white",
            "ticks": ""
           }
          },
          "scene": {
           "xaxis": {
            "backgroundcolor": "#E5ECF6",
            "gridcolor": "white",
            "gridwidth": 2,
            "linecolor": "white",
            "showbackground": true,
            "ticks": "",
            "zerolinecolor": "white"
           },
           "yaxis": {
            "backgroundcolor": "#E5ECF6",
            "gridcolor": "white",
            "gridwidth": 2,
            "linecolor": "white",
            "showbackground": true,
            "ticks": "",
            "zerolinecolor": "white"
           },
           "zaxis": {
            "backgroundcolor": "#E5ECF6",
            "gridcolor": "white",
            "gridwidth": 2,
            "linecolor": "white",
            "showbackground": true,
            "ticks": "",
            "zerolinecolor": "white"
           }
          },
          "shapedefaults": {
           "line": {
            "color": "#2a3f5f"
           }
          },
          "ternary": {
           "aaxis": {
            "gridcolor": "white",
            "linecolor": "white",
            "ticks": ""
           },
           "baxis": {
            "gridcolor": "white",
            "linecolor": "white",
            "ticks": ""
           },
           "bgcolor": "#E5ECF6",
           "caxis": {
            "gridcolor": "white",
            "linecolor": "white",
            "ticks": ""
           }
          },
          "title": {
           "x": 0.05
          },
          "xaxis": {
           "automargin": true,
           "gridcolor": "white",
           "linecolor": "white",
           "ticks": "",
           "title": {
            "standoff": 15
           },
           "zerolinecolor": "white",
           "zerolinewidth": 2
          },
          "yaxis": {
           "automargin": true,
           "gridcolor": "white",
           "linecolor": "white",
           "ticks": "",
           "title": {
            "standoff": 15
           },
           "zerolinecolor": "white",
           "zerolinewidth": 2
          }
         }
        },
        "title": {
         "text": "Listing Price By Neighborhood",
         "x": 0.5,
         "xanchor": "center",
         "yanchor": "top"
        },
        "updatemenus": [
         {
          "buttons": [
           {
            "args": [
             "visible",
             [
              true,
              false,
              false,
              false
             ]
            ],
            "label": "bumbershoot",
            "method": "restyle"
           },
           {
            "args": [
             "visible",
             [
              false,
              true,
              false,
              false
             ]
            ],
            "label": "siff",
            "method": "restyle"
           },
           {
            "args": [
             "visible",
             [
              false,
              false,
              true,
              false
             ]
            ],
            "label": "hempfest",
            "method": "restyle"
           },
           {
            "args": [
             "visible",
             [
              false,
              false,
              false,
              true
             ]
            ],
            "label": "pride",
            "method": "restyle"
           }
          ],
          "x": -0.05,
          "xanchor": "right",
          "y": 1,
          "yanchor": "top"
         }
        ],
        "width": 800
       }
      },
      "text/html": [
       "<div>\n",
       "        \n",
       "        \n",
       "            <div id=\"8df7cea0-fe16-441a-95cf-f14928416b5e\" class=\"plotly-graph-div\" style=\"height:800px; width:800px;\"></div>\n",
       "            <script type=\"text/javascript\">\n",
       "                require([\"plotly\"], function(Plotly) {\n",
       "                    window.PLOTLYENV=window.PLOTLYENV || {};\n",
       "                    \n",
       "                if (document.getElementById(\"8df7cea0-fe16-441a-95cf-f14928416b5e\")) {\n",
       "                    Plotly.newPlot(\n",
       "                        '8df7cea0-fe16-441a-95cf-f14928416b5e',\n",
       "                        [{\"hovertemplate\": \"<b>%{hovertext}</b><br><br>event_mean_price=%{marker.size}<br>lat=%{lat}<br>lon=%{lon}<br>pct_change_price=%{marker.color}<extra></extra>\", \"hovertext\": [\"Ballard\", \"University District\", \"Queen Anne\", \"Cascade\", \"Magnolia\", \"Central Area\", \"Downtown\", \"West Seattle\", \"Beacon Hill\", \"Rainier Valley\", \"Delridge\", \"Seward Park\", \"Capitol Hill\"], \"lat\": [47.68327611825291, 47.65972838933905, 47.63610855858225, 47.632489019725924, 47.65872537004435, 47.61330104584788, 47.609455790691186, 47.551740491478235, 47.578359836775135, 47.53887201158371, 47.52625753422921, 47.55320648845152, 47.64638360937516], \"legendgroup\": \"\", \"lon\": [-122.38490775305536, -122.30833161801833, -122.34952141259649, -122.34165148327193, -122.40706757289739, -122.28893982199374, -122.34231358527809, -122.39372238649234, -122.3097722184586, -122.27535083516632, -122.34322634182028, -122.26445674916552, -122.31976225701416], \"marker\": {\"color\": [-0.2152322924600152, 0.0760563380281691, 0.06412382531785504, 0.046831955922864994, -0.1528107680126682, -0.03899089506639637, 0.4644321848652023, -0.10128205128205132, -0.191642242601872, -0.535007072135785, 0.03135313531353129, 2.35, 0.2403705509507557], \"coloraxis\": \"coloraxis\", \"size\": [125.50625, 161.36666666666667, 171.00252525252526, 220.94166666666663, 157.625, 165.81410256410254, 190.18830128205133, 230.22916666666663, 129.64404761904765, 203.8442307692308, 147.2625, 181.66666666666663, 168.60029380341882], \"sizemode\": \"area\", \"sizeref\": 0.5755729166666665}, \"mode\": \"markers\", \"name\": \"\", \"showlegend\": false, \"subplot\": \"mapbox\", \"type\": \"scattermapbox\"}, {\"hovertemplate\": \"<b>%{hovertext}</b><br><br>event_mean_price=%{marker.size}<br>lat=%{lat}<br>lon=%{lon}<br>pct_change_price=%{marker.color}<extra></extra>\", \"hovertext\": [\"Ballard\", \"University District\", \"Queen Anne\", \"Cascade\", \"Magnolia\", \"Central Area\", \"Downtown\", \"Interbay\", \"West Seattle\", \"Beacon Hill\", \"Rainier Valley\", \"Delridge\", \"Seward Park\", \"Capitol Hill\"], \"lat\": [47.68327611825291, 47.65972838933905, 47.63610855858225, 47.632489019725924, 47.65872537004435, 47.61330104584788, 47.609455790691186, 47.64172700266643, 47.551740491478235, 47.578359836775135, 47.53887201158371, 47.52625753422921, 47.55320648845152, 47.64638360937516], \"legendgroup\": \"\", \"lon\": [-122.38490775305536, -122.30833161801833, -122.34952141259649, -122.34165148327193, -122.40706757289739, -122.28893982199374, -122.34231358527809, -122.38106741548015, -122.39372238649234, -122.3097722184586, -122.27535083516632, -122.34322634182028, -122.26445674916552, -122.31976225701416], \"marker\": {\"color\": [0.36538035041029066, -0.15692387633151475, 0.23301985370950884, -0.3668463611859838, 1.1725, 0.02640845070422531, 0.0272005009588666, 1.1666666666666667, 0.5732935471838866, 0.3418181818181818, 0.09809027777777778, -0.3156545741324921, 0.8571428571428571, -0.2610262396589352], \"coloraxis\": \"coloraxis\", \"size\": [167.08597883597886, 125.1449494949495, 158.21095571095574, 169.91997354497352, 134.98611111111111, 186.5967171717172, 152.10074441046308, 142.5, 159.25, 152.39074074074077, 147.9375, 152.6081349206349, 170.0, 167.01459141348846], \"sizemode\": \"area\", \"sizeref\": 0.466491792929293}, \"mode\": \"markers\", \"name\": \"\", \"showlegend\": false, \"subplot\": \"mapbox\", \"type\": \"scattermapbox\", \"visible\": false}, {\"hovertemplate\": \"<b>%{hovertext}</b><br><br>event_mean_price=%{marker.size}<br>lat=%{lat}<br>lon=%{lon}<br>pct_change_price=%{marker.color}<extra></extra>\", \"hovertext\": [\"Ballard\", \"University District\", \"Queen Anne\", \"Cascade\", \"Magnolia\", \"Central Area\", \"Downtown\", \"Interbay\", \"West Seattle\", \"Beacon Hill\", \"Rainier Valley\", \"Delridge\", \"Seward Park\", \"Capitol Hill\"], \"lat\": [47.68327611825291, 47.65972838933905, 47.63610855858225, 47.632489019725924, 47.65872537004435, 47.61330104584788, 47.609455790691186, 47.64172700266643, 47.551740491478235, 47.578359836775135, 47.53887201158371, 47.52625753422921, 47.55320648845152, 47.64638360937516], \"legendgroup\": \"\", \"lon\": [-122.38490775305536, -122.30833161801833, -122.34952141259649, -122.34165148327193, -122.40706757289739, -122.28893982199374, -122.34231358527809, -122.38106741548015, -122.39372238649234, -122.3097722184586, -122.27535083516632, -122.34322634182028, -122.26445674916552, -122.31976225701416], \"marker\": {\"color\": [-0.15326741186586418, -0.21608832807570974, 0.18847006651884704, 0.2396233521657249, 0.08505154639175258, -0.00333137370174405, -0.1708486332109343, 0.0, 0.7407181984175288, -0.055625000000000036, 0.29034220532319405, 0.2883464566929134, 0.005025125628140704, -0.382526493256262], \"coloraxis\": \"coloraxis\", \"size\": [177.45208333333335, 169.81071428571428, 150.50974025974028, 149.05870098039216, 178.83333333333337, 171.64871794871794, 165.13419653263404, 475.0, 167.13257575757575, 146.9, 246.37820512820514, 173.58194444444442, 136.6875, 152.53341346153846], \"sizemode\": \"area\", \"sizeref\": 1.1875}, \"mode\": \"markers\", \"name\": \"\", \"showlegend\": false, \"subplot\": \"mapbox\", \"type\": \"scattermapbox\", \"visible\": false}, {\"hovertemplate\": \"<b>%{hovertext}</b><br><br>event_mean_price=%{marker.size}<br>lat=%{lat}<br>lon=%{lon}<br>pct_change_price=%{marker.color}<extra></extra>\", \"hovertext\": [\"Ballard\", \"University District\", \"Queen Anne\", \"Cascade\", \"Magnolia\", \"Central Area\", \"Downtown\", \"West Seattle\", \"Beacon Hill\", \"Rainier Valley\", \"Delridge\", \"Seward Park\", \"Capitol Hill\"], \"lat\": [47.68327611825291, 47.65972838933905, 47.63610855858225, 47.632489019725924, 47.65872537004435, 47.61330104584788, 47.609455790691186, 47.551740491478235, 47.578359836775135, 47.53887201158371, 47.52625753422921, 47.55320648845152, 47.64638360937516], \"legendgroup\": \"\", \"lon\": [-122.38490775305536, -122.30833161801833, -122.34952141259649, -122.34165148327193, -122.40706757289739, -122.28893982199374, -122.34231358527809, -122.39372238649234, -122.3097722184586, -122.27535083516632, -122.34322634182028, -122.26445674916552, -122.31976225701416], \"marker\": {\"color\": [-0.25042637862421835, 1.28, -0.3064406779661017, 0.8754789272030652, 0.5972382048331415, -0.2494758909853249, -0.016764459346186027, -0.4618065433854908, 0.3696060037523452, 0.08212560386473433, -0.2269662921348315, 0.0, 0.03458922030350596], \"coloraxis\": \"coloraxis\", \"size\": [171.40494227994228, 175.6809523809524, 172.63856421356422, 141.221875, 300.5833333333333, 172.9318181818182, 148.21601307189542, 160.93246753246754, 202.24285714285716, 163.44791666666666, 144.10625, 195.0, 170.15673144257704], \"sizemode\": \"area\", \"sizeref\": 0.7514583333333333}, \"mode\": \"markers\", \"name\": \"\", \"showlegend\": false, \"subplot\": \"mapbox\", \"type\": \"scattermapbox\", \"visible\": false}],\n",
       "                        {\"annotations\": [{\"align\": \"left\", \"showarrow\": false, \"text\": \"Neighborhood:\", \"x\": -0.28, \"y\": 1.04, \"yref\": \"paper\"}], \"coloraxis\": {\"cmax\": 2, \"cmin\": -0.5, \"colorbar\": {\"title\": {\"text\": \"pct_change_price\"}}, \"colorscale\": [[0.0, \"#000004\"], [0.1111111111111111, \"#1b0c41\"], [0.2222222222222222, \"#4a0c6b\"], [0.3333333333333333, \"#781c6d\"], [0.4444444444444444, \"#a52c60\"], [0.5555555555555556, \"#cf4446\"], [0.6666666666666666, \"#ed6925\"], [0.7777777777777778, \"#fb9b06\"], [0.8888888888888888, \"#f7d13d\"], [1.0, \"#fcffa4\"]]}, \"height\": 800, \"legend\": {\"itemsizing\": \"constant\", \"tracegroupgap\": 0}, \"mapbox\": {\"accesstoken\": \"pk.eyJ1IjoiZG1vdG9uMzE0IiwiYSI6ImNrYjVpdjhqbTBzaW4yenBpaHBlM3U3YmUifQ.DV5PwTAD_ZYi0qO1Nu105A\", \"center\": {\"lat\": 47.6, \"lon\": -122.3}, \"domain\": {\"x\": [0.0, 1.0], \"y\": [0.0, 1.0]}, \"zoom\": 10}, \"template\": {\"data\": {\"bar\": [{\"error_x\": {\"color\": \"#2a3f5f\"}, \"error_y\": {\"color\": \"#2a3f5f\"}, \"marker\": {\"line\": {\"color\": \"#E5ECF6\", \"width\": 0.5}}, \"type\": \"bar\"}], \"barpolar\": [{\"marker\": {\"line\": {\"color\": \"#E5ECF6\", \"width\": 0.5}}, \"type\": \"barpolar\"}], \"carpet\": [{\"aaxis\": {\"endlinecolor\": \"#2a3f5f\", \"gridcolor\": \"white\", \"linecolor\": \"white\", \"minorgridcolor\": \"white\", \"startlinecolor\": \"#2a3f5f\"}, \"baxis\": {\"endlinecolor\": \"#2a3f5f\", \"gridcolor\": \"white\", \"linecolor\": \"white\", \"minorgridcolor\": \"white\", \"startlinecolor\": \"#2a3f5f\"}, \"type\": \"carpet\"}], \"choropleth\": [{\"colorbar\": {\"outlinewidth\": 0, \"ticks\": \"\"}, \"type\": \"choropleth\"}], \"contour\": [{\"colorbar\": {\"outlinewidth\": 0, \"ticks\": \"\"}, \"colorscale\": [[0.0, \"#0d0887\"], [0.1111111111111111, \"#46039f\"], [0.2222222222222222, \"#7201a8\"], [0.3333333333333333, \"#9c179e\"], [0.4444444444444444, \"#bd3786\"], [0.5555555555555556, \"#d8576b\"], [0.6666666666666666, \"#ed7953\"], [0.7777777777777778, \"#fb9f3a\"], [0.8888888888888888, \"#fdca26\"], [1.0, \"#f0f921\"]], \"type\": \"contour\"}], \"contourcarpet\": [{\"colorbar\": {\"outlinewidth\": 0, \"ticks\": \"\"}, \"type\": \"contourcarpet\"}], \"heatmap\": [{\"colorbar\": {\"outlinewidth\": 0, \"ticks\": \"\"}, \"colorscale\": [[0.0, \"#0d0887\"], [0.1111111111111111, \"#46039f\"], [0.2222222222222222, \"#7201a8\"], [0.3333333333333333, \"#9c179e\"], [0.4444444444444444, \"#bd3786\"], [0.5555555555555556, \"#d8576b\"], [0.6666666666666666, \"#ed7953\"], [0.7777777777777778, \"#fb9f3a\"], [0.8888888888888888, \"#fdca26\"], [1.0, \"#f0f921\"]], \"type\": \"heatmap\"}], \"heatmapgl\": [{\"colorbar\": {\"outlinewidth\": 0, \"ticks\": \"\"}, \"colorscale\": [[0.0, \"#0d0887\"], [0.1111111111111111, \"#46039f\"], [0.2222222222222222, \"#7201a8\"], [0.3333333333333333, \"#9c179e\"], [0.4444444444444444, \"#bd3786\"], [0.5555555555555556, \"#d8576b\"], [0.6666666666666666, \"#ed7953\"], [0.7777777777777778, \"#fb9f3a\"], [0.8888888888888888, \"#fdca26\"], [1.0, \"#f0f921\"]], \"type\": \"heatmapgl\"}], \"histogram\": [{\"marker\": {\"colorbar\": {\"outlinewidth\": 0, \"ticks\": \"\"}}, \"type\": \"histogram\"}], \"histogram2d\": [{\"colorbar\": {\"outlinewidth\": 0, \"ticks\": \"\"}, \"colorscale\": [[0.0, \"#0d0887\"], [0.1111111111111111, \"#46039f\"], [0.2222222222222222, \"#7201a8\"], [0.3333333333333333, \"#9c179e\"], [0.4444444444444444, \"#bd3786\"], [0.5555555555555556, \"#d8576b\"], [0.6666666666666666, \"#ed7953\"], [0.7777777777777778, \"#fb9f3a\"], [0.8888888888888888, \"#fdca26\"], [1.0, \"#f0f921\"]], \"type\": \"histogram2d\"}], \"histogram2dcontour\": [{\"colorbar\": {\"outlinewidth\": 0, \"ticks\": \"\"}, \"colorscale\": [[0.0, \"#0d0887\"], [0.1111111111111111, \"#46039f\"], [0.2222222222222222, \"#7201a8\"], [0.3333333333333333, \"#9c179e\"], [0.4444444444444444, \"#bd3786\"], [0.5555555555555556, \"#d8576b\"], [0.6666666666666666, \"#ed7953\"], [0.7777777777777778, \"#fb9f3a\"], [0.8888888888888888, \"#fdca26\"], [1.0, \"#f0f921\"]], \"type\": \"histogram2dcontour\"}], \"mesh3d\": [{\"colorbar\": {\"outlinewidth\": 0, \"ticks\": \"\"}, \"type\": \"mesh3d\"}], \"parcoords\": [{\"line\": {\"colorbar\": {\"outlinewidth\": 0, \"ticks\": \"\"}}, \"type\": \"parcoords\"}], \"pie\": [{\"automargin\": true, \"type\": \"pie\"}], \"scatter\": [{\"marker\": {\"colorbar\": {\"outlinewidth\": 0, \"ticks\": \"\"}}, \"type\": \"scatter\"}], \"scatter3d\": [{\"line\": {\"colorbar\": {\"outlinewidth\": 0, \"ticks\": \"\"}}, \"marker\": {\"colorbar\": {\"outlinewidth\": 0, \"ticks\": \"\"}}, \"type\": \"scatter3d\"}], \"scattercarpet\": [{\"marker\": {\"colorbar\": {\"outlinewidth\": 0, \"ticks\": \"\"}}, \"type\": \"scattercarpet\"}], \"scattergeo\": [{\"marker\": {\"colorbar\": {\"outlinewidth\": 0, \"ticks\": \"\"}}, \"type\": \"scattergeo\"}], \"scattergl\": [{\"marker\": {\"colorbar\": {\"outlinewidth\": 0, \"ticks\": \"\"}}, \"type\": \"scattergl\"}], \"scattermapbox\": [{\"marker\": {\"colorbar\": {\"outlinewidth\": 0, \"ticks\": \"\"}}, \"type\": \"scattermapbox\"}], \"scatterpolar\": [{\"marker\": {\"colorbar\": {\"outlinewidth\": 0, \"ticks\": \"\"}}, \"type\": \"scatterpolar\"}], \"scatterpolargl\": [{\"marker\": {\"colorbar\": {\"outlinewidth\": 0, \"ticks\": \"\"}}, \"type\": \"scatterpolargl\"}], \"scatterternary\": [{\"marker\": {\"colorbar\": {\"outlinewidth\": 0, \"ticks\": \"\"}}, \"type\": \"scatterternary\"}], \"surface\": [{\"colorbar\": {\"outlinewidth\": 0, \"ticks\": \"\"}, \"colorscale\": [[0.0, \"#0d0887\"], [0.1111111111111111, \"#46039f\"], [0.2222222222222222, \"#7201a8\"], [0.3333333333333333, \"#9c179e\"], [0.4444444444444444, \"#bd3786\"], [0.5555555555555556, \"#d8576b\"], [0.6666666666666666, \"#ed7953\"], [0.7777777777777778, \"#fb9f3a\"], [0.8888888888888888, \"#fdca26\"], [1.0, \"#f0f921\"]], \"type\": \"surface\"}], \"table\": [{\"cells\": {\"fill\": {\"color\": \"#EBF0F8\"}, \"line\": {\"color\": \"white\"}}, \"header\": {\"fill\": {\"color\": \"#C8D4E3\"}, \"line\": {\"color\": \"white\"}}, \"type\": \"table\"}]}, \"layout\": {\"annotationdefaults\": {\"arrowcolor\": \"#2a3f5f\", \"arrowhead\": 0, \"arrowwidth\": 1}, \"coloraxis\": {\"colorbar\": {\"outlinewidth\": 0, \"ticks\": \"\"}}, \"colorscale\": {\"diverging\": [[0, \"#8e0152\"], [0.1, \"#c51b7d\"], [0.2, \"#de77ae\"], [0.3, \"#f1b6da\"], [0.4, \"#fde0ef\"], [0.5, \"#f7f7f7\"], [0.6, \"#e6f5d0\"], [0.7, \"#b8e186\"], [0.8, \"#7fbc41\"], [0.9, \"#4d9221\"], [1, \"#276419\"]], \"sequential\": [[0.0, \"#0d0887\"], [0.1111111111111111, \"#46039f\"], [0.2222222222222222, \"#7201a8\"], [0.3333333333333333, \"#9c179e\"], [0.4444444444444444, \"#bd3786\"], [0.5555555555555556, \"#d8576b\"], [0.6666666666666666, \"#ed7953\"], [0.7777777777777778, \"#fb9f3a\"], [0.8888888888888888, \"#fdca26\"], [1.0, \"#f0f921\"]], \"sequentialminus\": [[0.0, \"#0d0887\"], [0.1111111111111111, \"#46039f\"], [0.2222222222222222, \"#7201a8\"], [0.3333333333333333, \"#9c179e\"], [0.4444444444444444, \"#bd3786\"], [0.5555555555555556, \"#d8576b\"], [0.6666666666666666, \"#ed7953\"], [0.7777777777777778, \"#fb9f3a\"], [0.8888888888888888, \"#fdca26\"], [1.0, \"#f0f921\"]]}, \"colorway\": [\"#636efa\", \"#EF553B\", \"#00cc96\", \"#ab63fa\", \"#FFA15A\", \"#19d3f3\", \"#FF6692\", \"#B6E880\", \"#FF97FF\", \"#FECB52\"], \"font\": {\"color\": \"#2a3f5f\"}, \"geo\": {\"bgcolor\": \"white\", \"lakecolor\": \"white\", \"landcolor\": \"#E5ECF6\", \"showlakes\": true, \"showland\": true, \"subunitcolor\": \"white\"}, \"hoverlabel\": {\"align\": \"left\"}, \"hovermode\": \"closest\", \"mapbox\": {\"style\": \"light\"}, \"paper_bgcolor\": \"white\", \"plot_bgcolor\": \"#E5ECF6\", \"polar\": {\"angularaxis\": {\"gridcolor\": \"white\", \"linecolor\": \"white\", \"ticks\": \"\"}, \"bgcolor\": \"#E5ECF6\", \"radialaxis\": {\"gridcolor\": \"white\", \"linecolor\": \"white\", \"ticks\": \"\"}}, \"scene\": {\"xaxis\": {\"backgroundcolor\": \"#E5ECF6\", \"gridcolor\": \"white\", \"gridwidth\": 2, \"linecolor\": \"white\", \"showbackground\": true, \"ticks\": \"\", \"zerolinecolor\": \"white\"}, \"yaxis\": {\"backgroundcolor\": \"#E5ECF6\", \"gridcolor\": \"white\", \"gridwidth\": 2, \"linecolor\": \"white\", \"showbackground\": true, \"ticks\": \"\", \"zerolinecolor\": \"white\"}, \"zaxis\": {\"backgroundcolor\": \"#E5ECF6\", \"gridcolor\": \"white\", \"gridwidth\": 2, \"linecolor\": \"white\", \"showbackground\": true, \"ticks\": \"\", \"zerolinecolor\": \"white\"}}, \"shapedefaults\": {\"line\": {\"color\": \"#2a3f5f\"}}, \"ternary\": {\"aaxis\": {\"gridcolor\": \"white\", \"linecolor\": \"white\", \"ticks\": \"\"}, \"baxis\": {\"gridcolor\": \"white\", \"linecolor\": \"white\", \"ticks\": \"\"}, \"bgcolor\": \"#E5ECF6\", \"caxis\": {\"gridcolor\": \"white\", \"linecolor\": \"white\", \"ticks\": \"\"}}, \"title\": {\"x\": 0.05}, \"xaxis\": {\"automargin\": true, \"gridcolor\": \"white\", \"linecolor\": \"white\", \"ticks\": \"\", \"title\": {\"standoff\": 15}, \"zerolinecolor\": \"white\", \"zerolinewidth\": 2}, \"yaxis\": {\"automargin\": true, \"gridcolor\": \"white\", \"linecolor\": \"white\", \"ticks\": \"\", \"title\": {\"standoff\": 15}, \"zerolinecolor\": \"white\", \"zerolinewidth\": 2}}}, \"title\": {\"text\": \"Listing Price By Neighborhood\", \"x\": 0.5, \"xanchor\": \"center\", \"yanchor\": \"top\"}, \"updatemenus\": [{\"buttons\": [{\"args\": [\"visible\", [true, false, false, false]], \"label\": \"bumbershoot\", \"method\": \"restyle\"}, {\"args\": [\"visible\", [false, true, false, false]], \"label\": \"siff\", \"method\": \"restyle\"}, {\"args\": [\"visible\", [false, false, true, false]], \"label\": \"hempfest\", \"method\": \"restyle\"}, {\"args\": [\"visible\", [false, false, false, true]], \"label\": \"pride\", \"method\": \"restyle\"}], \"x\": -0.05, \"xanchor\": \"right\", \"y\": 1, \"yanchor\": \"top\"}], \"width\": 800},\n",
       "                        {\"responsive\": true}\n",
       "                    ).then(function(){\n",
       "                            \n",
       "var gd = document.getElementById('8df7cea0-fe16-441a-95cf-f14928416b5e');\n",
       "var x = new MutationObserver(function (mutations, observer) {{\n",
       "        var display = window.getComputedStyle(gd).display;\n",
       "        if (!display || display === 'none') {{\n",
       "            console.log([gd, 'removed!']);\n",
       "            Plotly.purge(gd);\n",
       "            observer.disconnect();\n",
       "        }}\n",
       "}});\n",
       "\n",
       "// Listen for the removal of the full notebook cells\n",
       "var notebookContainer = gd.closest('#notebook-container');\n",
       "if (notebookContainer) {{\n",
       "    x.observe(notebookContainer, {childList: true});\n",
       "}}\n",
       "\n",
       "// Listen for the clearing of the current output cell\n",
       "var outputEl = gd.closest('.output');\n",
       "if (outputEl) {{\n",
       "    x.observe(outputEl, {childList: true});\n",
       "}}\n",
       "\n",
       "                        })\n",
       "                };\n",
       "                });\n",
       "            </script>\n",
       "        </div>"
      ]
     },
     "metadata": {},
     "output_type": "display_data"
    }
   ],
   "source": [
    "price_fig.show()"
   ]
  },
  {
   "cell_type": "code",
   "execution_count": 55,
   "metadata": {},
   "outputs": [],
   "source": [
    "import chart_studio \n",
    "\n",
    "username = 'culight' # your username\n",
    "api_key = 'LmBrEGkmRz5uOW6ed6ad' # your api key - go to profile > settings > regenerate key\n",
    "chart_studio.tools.set_credentials_file(username=username, api_key=api_key)"
   ]
  },
  {
   "cell_type": "code",
   "execution_count": 13,
   "metadata": {},
   "outputs": [
    {
     "data": {
      "text/plain": [
       "'https://plotly.com/~culight/2/'"
      ]
     },
     "execution_count": 13,
     "metadata": {},
     "output_type": "execute_result"
    }
   ],
   "source": [
    "import chart_studio.plotly as py\n",
    "\n",
    "py.plot(price_fig, filename = 'price_byevent', auto_open=True)"
   ]
  },
  {
   "cell_type": "code",
   "execution_count": null,
   "metadata": {},
   "outputs": [],
   "source": []
  }
 ],
 "metadata": {
  "kernelspec": {
   "display_name": "Python geospatial",
   "language": "python",
   "name": "geospatial"
  },
  "language_info": {
   "codemirror_mode": {
    "name": "ipython",
    "version": 3
   },
   "file_extension": ".py",
   "mimetype": "text/x-python",
   "name": "python",
   "nbconvert_exporter": "python",
   "pygments_lexer": "ipython3",
   "version": "3.8.2"
  }
 },
 "nbformat": 4,
 "nbformat_minor": 4
}
