{
 "cells": [
  {
   "cell_type": "code",
   "execution_count": 1,
   "metadata": {},
   "outputs": [],
   "source": [
    "from datetime import timedelta, datetime\n",
    "from pathlib import Path\n",
    "\n",
    "import geopandas as gp\n",
    "import matplotlib.pyplot as plt\n",
    "import plotly.graph_objs as go\n",
    "import fiona\n",
    "import pandas as pd\n",
    "\n",
    "from scripts.utility import *\n",
    "from scripts.map_utility import *\n",
    "from scripts.dates import (\n",
    "    bumbershoot_dates,\n",
    "    siff_dates,\n",
    "    hempfest_dates,\n",
    "    pride_dates,\n",
    "    summer_dates,\n",
    "    all_events,\n",
    ")\n",
    "\n",
    "# set data paths\n",
    "nhood_path = \"data/intermediate/nhood/\"\n",
    "finished_path = \"data/finished/nhood/\"\n",
    "seattle_neigh_json = \"/Users/dmoton/udacity/dsnd-moton/airbnb_analysis/data/raw/neighborhoods.geojson\""
   ]
  },
  {
   "cell_type": "code",
   "execution_count": 2,
   "metadata": {},
   "outputs": [],
   "source": [
    "%load_ext autoreload\n",
    "%autoreload 2"
   ]
  },
  {
   "cell_type": "markdown",
   "metadata": {},
   "source": [
    "## Load stuff"
   ]
  },
  {
   "cell_type": "code",
   "execution_count": 3,
   "metadata": {},
   "outputs": [
    {
     "name": "stdout",
     "output_type": "stream",
     "text": [
      "bumbershoot_availchange bumbershoot_pricechange\n",
      "siff_availchange siff_pricechange\n",
      "hempfest_availchange hempfest_pricechange\n",
      "pride_availchange pride_pricechange\n"
     ]
    }
   ],
   "source": [
    "price_metrics_dict = dict()\n",
    "occp_metrics_dict = dict()\n",
    "for event_name in all_events.keys():\n",
    "    occp_path = Path(nhood_path + event_name + \"_availchange.csv\")\n",
    "    price_path = Path(nhood_path + event_name + \"_pricechange.csv\")\n",
    "    print(occp_path.stem, price_path.stem)\n",
    "    price_metrics_dict[price_path.stem] = pd.read_csv(price_path)\n",
    "    occp_metrics_dict[occp_path.stem] = pd.read_csv(occp_path)                                        "
   ]
  },
  {
   "cell_type": "code",
   "execution_count": 4,
   "metadata": {},
   "outputs": [],
   "source": [
    "seattle_neigh = gp.read_file(seattle_neigh_json)"
   ]
  },
  {
   "cell_type": "raw",
   "metadata": {},
   "source": [
    "variable = 'pct_change_price'\n",
    "\n",
    "merged_plot = merged.cx[-122.42:-122.25, 47.50:47.70]\n",
    "\n",
    "# set chloropleth values\n",
    "vmin, vmax = 0, 1\n",
    "\n",
    "# create figure and axes for Matplotlib\n",
    "fig, ax = plt.subplots(1, figsize=(30, 10))\n",
    "\n",
    "# remove the axis\n",
    "ax.axis('off')\n",
    "\n",
    "# add a title and annotation\n",
    "ax.set_title('Price increase for Seattle AirBnB properties', fontdict={'fontsize': '25', 'fontweight' : '3'})\n",
    "ax.annotate('Source: https://boundaries.seattle.io/', xy=(0.6, .05), xycoords='figure fraction', fontsize=12, color='#555555')\n",
    "\n",
    "# Create colorbar legend\n",
    "sm = plt.cm.ScalarMappable(cmap='Greens', norm=plt.Normalize(vmin=vmin, vmax=vmax))\n",
    "\n",
    "# empty array for the data range\n",
    "sm.set_array([]) # or alternatively sm._A = []. Not sure why this step is necessary, but many recommends it\n",
    "\n",
    "# add the colorbar to the figure\n",
    "fig.colorbar(sm, orientation=\"horizontal\", fraction=0.036, pad=0.1, aspect = 30)\n",
    "\n",
    "# create map\n",
    "merged_plot.plot(column=variable, cmap='Greens', linewidth=0.8, ax=ax, edgecolor='0.8')"
   ]
  },
  {
   "cell_type": "markdown",
   "metadata": {},
   "source": [
    "## Plot price and availability stuff"
   ]
  },
  {
   "cell_type": "code",
   "execution_count": 17,
   "metadata": {},
   "outputs": [],
   "source": [
    "occp_data = dict()\n",
    "for event, avail in occp_metrics_dict.items():\n",
    "    merged = seattle_neigh.merge(\n",
    "        avail,\n",
    "        left_on='nhood',\n",
    "        right_on='neighborhood',\n",
    "        how='right'\n",
    "    ).drop_duplicates(['nhood'])\n",
    "    merged_plot = merged.cx[-122.42:-122.25, 47.50:47.70]\n",
    "    \n",
    "    merged_plot_pts = merged_plot.copy()\n",
    "    merged_plot_pts['geometry'] = merged_plot_pts['geometry'].centroid\n",
    "        \n",
    "    occp_data[event.split('_')[0]] = px.scatter_mapbox(\n",
    "        merged_plot_pts,\n",
    "        lat=merged_plot_pts.geometry.y,\n",
    "        lon=merged_plot_pts.geometry.x,\n",
    "        size='count',\n",
    "        color='pct_change_occp',\n",
    "        hover_name='nhood',\n",
    "        color_continuous_scale='Inferno',\n",
    "        range_color=[-1,2],\n",
    "        size_max=20,\n",
    "        zoom=14,\n",
    "        title=\"AirBnB Availability By Neighborhood\",\n",
    "        labels={'count': 'Total Listings', 'pct_change_avail': 'Change in Availability'}\n",
    "    )  "
   ]
  },
  {
   "cell_type": "code",
   "execution_count": 18,
   "metadata": {},
   "outputs": [],
   "source": [
    "fig = create_map_dropdown(avail_data)"
   ]
  },
  {
   "cell_type": "code",
   "execution_count": 19,
   "metadata": {},
   "outputs": [
    {
     "data": {
      "application/vnd.plotly.v1+json": {
       "config": {
        "plotlyServerURL": "https://plot.ly"
       },
       "data": [
        {
         "hovertemplate": "<b>%{hovertext}</b><br><br>Total Listings=%{marker.size}<br>lat=%{lat}<br>lon=%{lon}<br>Change in Availability=%{marker.color}<extra></extra>",
         "hovertext": [
          "Ballard",
          "University District",
          "Queen Anne",
          "Cascade",
          "Magnolia",
          "Central Area",
          "Downtown",
          "West Seattle",
          "Beacon Hill",
          "Rainier Valley",
          "Delridge",
          "Seward Park",
          "Capitol Hill"
         ],
         "lat": [
          47.68327611825291,
          47.65972838933905,
          47.63610855858225,
          47.632489019725924,
          47.65872537004435,
          47.61330104584788,
          47.609455790691186,
          47.551740491478235,
          47.578359836775135,
          47.53887201158371,
          47.52625753422921,
          47.55320648845152,
          47.64638360937516
         ],
         "legendgroup": "",
         "lon": [
          -122.38490775305536,
          -122.30833161801833,
          -122.34952141259649,
          -122.34165148327193,
          -122.40706757289739,
          -122.28893982199374,
          -122.34231358527809,
          -122.39372238649234,
          -122.3097722184586,
          -122.27535083516632,
          -122.34322634182028,
          -122.26445674916552,
          -122.31976225701416
         ],
         "marker": {
          "color": [
           0.6000000000000001,
           0,
           -0.12698412698412692,
           2.333333333333333,
           -0.33333333333333337,
           0.025641025641025737,
           0.14027149321266966,
           -0.3333333333333333,
           -0.18367346938775508,
           -0.5833333333333334,
           -0.3750000000000001,
           -1,
           0.4222222222222223
          ],
          "coloraxis": "coloraxis",
          "size": [
           6,
           4.5,
           10.5,
           3.5,
           2.5,
           13.25,
           26.25,
           8,
           7.25,
           9,
           4.25,
           2,
           12
          ],
          "sizemode": "area",
          "sizeref": 0.065625
         },
         "mode": "markers",
         "name": "",
         "showlegend": false,
         "subplot": "mapbox",
         "type": "scattermapbox"
        },
        {
         "hovertemplate": "<b>%{hovertext}</b><br><br>Total Listings=%{marker.size}<br>lat=%{lat}<br>lon=%{lon}<br>Change in Availability=%{marker.color}<extra></extra>",
         "hovertext": [
          "Ballard",
          "University District",
          "Queen Anne",
          "Cascade",
          "Magnolia",
          "Central Area",
          "Downtown",
          "Interbay",
          "West Seattle",
          "Beacon Hill",
          "Rainier Valley",
          "Delridge",
          "Seward Park",
          "Capitol Hill"
         ],
         "lat": [
          47.68327611825291,
          47.65972838933905,
          47.63610855858225,
          47.632489019725924,
          47.65872537004435,
          47.61330104584788,
          47.609455790691186,
          47.64172700266643,
          47.551740491478235,
          47.578359836775135,
          47.53887201158371,
          47.52625753422921,
          47.55320648845152,
          47.64638360937516
         ],
         "legendgroup": "",
         "lon": [
          -122.38490775305536,
          -122.30833161801833,
          -122.34952141259649,
          -122.34165148327193,
          -122.40706757289739,
          -122.28893982199374,
          -122.34231358527809,
          -122.38106741548015,
          -122.39372238649234,
          -122.3097722184586,
          -122.27535083516632,
          -122.34322634182028,
          -122.26445674916552,
          -122.31976225701416
         ],
         "marker": {
          "color": [
           0.5555555555555556,
           0.22222222222222213,
           1.9090909090909087,
           -0.28,
           0,
           1.40625,
           0.035294117647058844,
           -1,
           -0.14285714285714285,
           1.7,
           -0.06249999999999994,
           -0.24999999999999994,
           -1,
           1.258823529411765
          ],
          "coloraxis": "coloraxis",
          "size": [
           8.666666666666666,
           5.166666666666667,
           10.333333333333334,
           7.333333333333332,
           3,
           12.166666666666664,
           22.5,
           1,
           8.5,
           6,
           6.5,
           6,
           1.8,
           14.166666666666664
          ],
          "sizemode": "area",
          "sizeref": 0.05625
         },
         "mode": "markers",
         "name": "",
         "showlegend": false,
         "subplot": "mapbox",
         "type": "scattermapbox"
        },
        {
         "hovertemplate": "<b>%{hovertext}</b><br><br>Total Listings=%{marker.size}<br>lat=%{lat}<br>lon=%{lon}<br>Change in Availability=%{marker.color}<extra></extra>",
         "hovertext": [
          "Ballard",
          "University District",
          "Queen Anne",
          "Cascade",
          "Magnolia",
          "Central Area",
          "Downtown",
          "Interbay",
          "West Seattle",
          "Beacon Hill",
          "Rainier Valley",
          "Delridge",
          "Seward Park",
          "Capitol Hill"
         ],
         "lat": [
          47.68327611825291,
          47.65972838933905,
          47.63610855858225,
          47.632489019725924,
          47.65872537004435,
          47.61330104584788,
          47.609455790691186,
          47.64172700266643,
          47.551740491478235,
          47.578359836775135,
          47.53887201158371,
          47.52625753422921,
          47.55320648845152,
          47.64638360937516
         ],
         "legendgroup": "",
         "lon": [
          -122.38490775305536,
          -122.30833161801833,
          -122.34952141259649,
          -122.34165148327193,
          -122.40706757289739,
          -122.28893982199374,
          -122.34231358527809,
          -122.38106741548015,
          -122.39372238649234,
          -122.3097722184586,
          -122.27535083516632,
          -122.34322634182028,
          -122.26445674916552,
          -122.31976225701416
         ],
         "marker": {
          "color": [
           0,
           -1,
           0.018181818181818167,
           -0.5142857142857142,
           -0.5,
           -0.2500000000000001,
           -0.026041666666666644,
           0,
           -0.26666666666666666,
           -0.1250000000000001,
           -0.03999999999999999,
           0.028571428571428605,
           0,
           -0.19642857142857134
          ],
          "coloraxis": "coloraxis",
          "size": [
           8,
           4.5,
           10,
           9,
           2.5,
           12.5,
           26,
           1,
           8,
           6.25,
           8.5,
           5.25,
           2.25,
           13.75
          ],
          "sizemode": "area",
          "sizeref": 0.065
         },
         "mode": "markers",
         "name": "",
         "showlegend": false,
         "subplot": "mapbox",
         "type": "scattermapbox"
        },
        {
         "hovertemplate": "<b>%{hovertext}</b><br><br>Total Listings=%{marker.size}<br>lat=%{lat}<br>lon=%{lon}<br>Change in Availability=%{marker.color}<extra></extra>",
         "hovertext": [
          "Ballard",
          "University District",
          "Queen Anne",
          "Cascade",
          "Magnolia",
          "Central Area",
          "Downtown",
          "West Seattle",
          "Beacon Hill",
          "Rainier Valley",
          "Delridge",
          "Seward Park",
          "Capitol Hill"
         ],
         "lat": [
          47.68327611825291,
          47.65972838933905,
          47.63610855858225,
          47.632489019725924,
          47.65872537004435,
          47.61330104584788,
          47.609455790691186,
          47.551740491478235,
          47.578359836775135,
          47.53887201158371,
          47.52625753422921,
          47.55320648845152,
          47.64638360937516
         ],
         "legendgroup": "",
         "lon": [
          -122.38490775305536,
          -122.30833161801833,
          -122.34952141259649,
          -122.34165148327193,
          -122.40706757289739,
          -122.28893982199374,
          -122.34231358527809,
          -122.39372238649234,
          -122.3097722184586,
          -122.27535083516632,
          -122.34322634182028,
          -122.26445674916552,
          -122.31976225701416
         ],
         "marker": {
          "color": [
           -0.5,
           -0.4,
           0.19166666666666668,
           0,
           1,
           -0.5428571428571428,
           0.15909090909090906,
           2.1500000000000004,
           0.11111111111111108,
           -0.2888888888888889,
           -0.2,
           0,
           0.113095238095238
          ],
          "coloraxis": "coloraxis",
          "size": [
           8.25,
           5.25,
           12.25,
           10,
           3,
           12.25,
           16.5,
           8.5,
           7.25,
           7.25,
           4.25,
           1,
           16.25
          ],
          "sizemode": "area",
          "sizeref": 0.04125
         },
         "mode": "markers",
         "name": "",
         "showlegend": false,
         "subplot": "mapbox",
         "type": "scattermapbox"
        }
       ],
       "layout": {
        "annotations": [
         {
          "align": "left",
          "showarrow": false,
          "text": "Neighborhood:",
          "x": -0.28,
          "y": 1.04,
          "yref": "paper"
         }
        ],
        "coloraxis": {
         "cmax": 2,
         "cmin": -1,
         "colorbar": {
          "title": {
           "text": "Change in Availability"
          }
         },
         "colorscale": [
          [
           0,
           "#000004"
          ],
          [
           0.1111111111111111,
           "#1b0c41"
          ],
          [
           0.2222222222222222,
           "#4a0c6b"
          ],
          [
           0.3333333333333333,
           "#781c6d"
          ],
          [
           0.4444444444444444,
           "#a52c60"
          ],
          [
           0.5555555555555556,
           "#cf4446"
          ],
          [
           0.6666666666666666,
           "#ed6925"
          ],
          [
           0.7777777777777778,
           "#fb9b06"
          ],
          [
           0.8888888888888888,
           "#f7d13d"
          ],
          [
           1,
           "#fcffa4"
          ]
         ]
        },
        "height": 800,
        "legend": {
         "itemsizing": "constant",
         "tracegroupgap": 0
        },
        "mapbox": {
         "accesstoken": "pk.eyJ1IjoiZG1vdG9uMzE0IiwiYSI6ImNrYjVpdjhqbTBzaW4yenBpaHBlM3U3YmUifQ.DV5PwTAD_ZYi0qO1Nu105A",
         "center": {
          "lat": 47.6,
          "lon": -122.3
         },
         "domain": {
          "x": [
           0,
           1
          ],
          "y": [
           0,
           1
          ]
         },
         "zoom": 10
        },
        "template": {
         "data": {
          "bar": [
           {
            "error_x": {
             "color": "#2a3f5f"
            },
            "error_y": {
             "color": "#2a3f5f"
            },
            "marker": {
             "line": {
              "color": "#E5ECF6",
              "width": 0.5
             }
            },
            "type": "bar"
           }
          ],
          "barpolar": [
           {
            "marker": {
             "line": {
              "color": "#E5ECF6",
              "width": 0.5
             }
            },
            "type": "barpolar"
           }
          ],
          "carpet": [
           {
            "aaxis": {
             "endlinecolor": "#2a3f5f",
             "gridcolor": "white",
             "linecolor": "white",
             "minorgridcolor": "white",
             "startlinecolor": "#2a3f5f"
            },
            "baxis": {
             "endlinecolor": "#2a3f5f",
             "gridcolor": "white",
             "linecolor": "white",
             "minorgridcolor": "white",
             "startlinecolor": "#2a3f5f"
            },
            "type": "carpet"
           }
          ],
          "choropleth": [
           {
            "colorbar": {
             "outlinewidth": 0,
             "ticks": ""
            },
            "type": "choropleth"
           }
          ],
          "contour": [
           {
            "colorbar": {
             "outlinewidth": 0,
             "ticks": ""
            },
            "colorscale": [
             [
              0,
              "#0d0887"
             ],
             [
              0.1111111111111111,
              "#46039f"
             ],
             [
              0.2222222222222222,
              "#7201a8"
             ],
             [
              0.3333333333333333,
              "#9c179e"
             ],
             [
              0.4444444444444444,
              "#bd3786"
             ],
             [
              0.5555555555555556,
              "#d8576b"
             ],
             [
              0.6666666666666666,
              "#ed7953"
             ],
             [
              0.7777777777777778,
              "#fb9f3a"
             ],
             [
              0.8888888888888888,
              "#fdca26"
             ],
             [
              1,
              "#f0f921"
             ]
            ],
            "type": "contour"
           }
          ],
          "contourcarpet": [
           {
            "colorbar": {
             "outlinewidth": 0,
             "ticks": ""
            },
            "type": "contourcarpet"
           }
          ],
          "heatmap": [
           {
            "colorbar": {
             "outlinewidth": 0,
             "ticks": ""
            },
            "colorscale": [
             [
              0,
              "#0d0887"
             ],
             [
              0.1111111111111111,
              "#46039f"
             ],
             [
              0.2222222222222222,
              "#7201a8"
             ],
             [
              0.3333333333333333,
              "#9c179e"
             ],
             [
              0.4444444444444444,
              "#bd3786"
             ],
             [
              0.5555555555555556,
              "#d8576b"
             ],
             [
              0.6666666666666666,
              "#ed7953"
             ],
             [
              0.7777777777777778,
              "#fb9f3a"
             ],
             [
              0.8888888888888888,
              "#fdca26"
             ],
             [
              1,
              "#f0f921"
             ]
            ],
            "type": "heatmap"
           }
          ],
          "heatmapgl": [
           {
            "colorbar": {
             "outlinewidth": 0,
             "ticks": ""
            },
            "colorscale": [
             [
              0,
              "#0d0887"
             ],
             [
              0.1111111111111111,
              "#46039f"
             ],
             [
              0.2222222222222222,
              "#7201a8"
             ],
             [
              0.3333333333333333,
              "#9c179e"
             ],
             [
              0.4444444444444444,
              "#bd3786"
             ],
             [
              0.5555555555555556,
              "#d8576b"
             ],
             [
              0.6666666666666666,
              "#ed7953"
             ],
             [
              0.7777777777777778,
              "#fb9f3a"
             ],
             [
              0.8888888888888888,
              "#fdca26"
             ],
             [
              1,
              "#f0f921"
             ]
            ],
            "type": "heatmapgl"
           }
          ],
          "histogram": [
           {
            "marker": {
             "colorbar": {
              "outlinewidth": 0,
              "ticks": ""
             }
            },
            "type": "histogram"
           }
          ],
          "histogram2d": [
           {
            "colorbar": {
             "outlinewidth": 0,
             "ticks": ""
            },
            "colorscale": [
             [
              0,
              "#0d0887"
             ],
             [
              0.1111111111111111,
              "#46039f"
             ],
             [
              0.2222222222222222,
              "#7201a8"
             ],
             [
              0.3333333333333333,
              "#9c179e"
             ],
             [
              0.4444444444444444,
              "#bd3786"
             ],
             [
              0.5555555555555556,
              "#d8576b"
             ],
             [
              0.6666666666666666,
              "#ed7953"
             ],
             [
              0.7777777777777778,
              "#fb9f3a"
             ],
             [
              0.8888888888888888,
              "#fdca26"
             ],
             [
              1,
              "#f0f921"
             ]
            ],
            "type": "histogram2d"
           }
          ],
          "histogram2dcontour": [
           {
            "colorbar": {
             "outlinewidth": 0,
             "ticks": ""
            },
            "colorscale": [
             [
              0,
              "#0d0887"
             ],
             [
              0.1111111111111111,
              "#46039f"
             ],
             [
              0.2222222222222222,
              "#7201a8"
             ],
             [
              0.3333333333333333,
              "#9c179e"
             ],
             [
              0.4444444444444444,
              "#bd3786"
             ],
             [
              0.5555555555555556,
              "#d8576b"
             ],
             [
              0.6666666666666666,
              "#ed7953"
             ],
             [
              0.7777777777777778,
              "#fb9f3a"
             ],
             [
              0.8888888888888888,
              "#fdca26"
             ],
             [
              1,
              "#f0f921"
             ]
            ],
            "type": "histogram2dcontour"
           }
          ],
          "mesh3d": [
           {
            "colorbar": {
             "outlinewidth": 0,
             "ticks": ""
            },
            "type": "mesh3d"
           }
          ],
          "parcoords": [
           {
            "line": {
             "colorbar": {
              "outlinewidth": 0,
              "ticks": ""
             }
            },
            "type": "parcoords"
           }
          ],
          "pie": [
           {
            "automargin": true,
            "type": "pie"
           }
          ],
          "scatter": [
           {
            "marker": {
             "colorbar": {
              "outlinewidth": 0,
              "ticks": ""
             }
            },
            "type": "scatter"
           }
          ],
          "scatter3d": [
           {
            "line": {
             "colorbar": {
              "outlinewidth": 0,
              "ticks": ""
             }
            },
            "marker": {
             "colorbar": {
              "outlinewidth": 0,
              "ticks": ""
             }
            },
            "type": "scatter3d"
           }
          ],
          "scattercarpet": [
           {
            "marker": {
             "colorbar": {
              "outlinewidth": 0,
              "ticks": ""
             }
            },
            "type": "scattercarpet"
           }
          ],
          "scattergeo": [
           {
            "marker": {
             "colorbar": {
              "outlinewidth": 0,
              "ticks": ""
             }
            },
            "type": "scattergeo"
           }
          ],
          "scattergl": [
           {
            "marker": {
             "colorbar": {
              "outlinewidth": 0,
              "ticks": ""
             }
            },
            "type": "scattergl"
           }
          ],
          "scattermapbox": [
           {
            "marker": {
             "colorbar": {
              "outlinewidth": 0,
              "ticks": ""
             }
            },
            "type": "scattermapbox"
           }
          ],
          "scatterpolar": [
           {
            "marker": {
             "colorbar": {
              "outlinewidth": 0,
              "ticks": ""
             }
            },
            "type": "scatterpolar"
           }
          ],
          "scatterpolargl": [
           {
            "marker": {
             "colorbar": {
              "outlinewidth": 0,
              "ticks": ""
             }
            },
            "type": "scatterpolargl"
           }
          ],
          "scatterternary": [
           {
            "marker": {
             "colorbar": {
              "outlinewidth": 0,
              "ticks": ""
             }
            },
            "type": "scatterternary"
           }
          ],
          "surface": [
           {
            "colorbar": {
             "outlinewidth": 0,
             "ticks": ""
            },
            "colorscale": [
             [
              0,
              "#0d0887"
             ],
             [
              0.1111111111111111,
              "#46039f"
             ],
             [
              0.2222222222222222,
              "#7201a8"
             ],
             [
              0.3333333333333333,
              "#9c179e"
             ],
             [
              0.4444444444444444,
              "#bd3786"
             ],
             [
              0.5555555555555556,
              "#d8576b"
             ],
             [
              0.6666666666666666,
              "#ed7953"
             ],
             [
              0.7777777777777778,
              "#fb9f3a"
             ],
             [
              0.8888888888888888,
              "#fdca26"
             ],
             [
              1,
              "#f0f921"
             ]
            ],
            "type": "surface"
           }
          ],
          "table": [
           {
            "cells": {
             "fill": {
              "color": "#EBF0F8"
             },
             "line": {
              "color": "white"
             }
            },
            "header": {
             "fill": {
              "color": "#C8D4E3"
             },
             "line": {
              "color": "white"
             }
            },
            "type": "table"
           }
          ]
         },
         "layout": {
          "annotationdefaults": {
           "arrowcolor": "#2a3f5f",
           "arrowhead": 0,
           "arrowwidth": 1
          },
          "coloraxis": {
           "colorbar": {
            "outlinewidth": 0,
            "ticks": ""
           }
          },
          "colorscale": {
           "diverging": [
            [
             0,
             "#8e0152"
            ],
            [
             0.1,
             "#c51b7d"
            ],
            [
             0.2,
             "#de77ae"
            ],
            [
             0.3,
             "#f1b6da"
            ],
            [
             0.4,
             "#fde0ef"
            ],
            [
             0.5,
             "#f7f7f7"
            ],
            [
             0.6,
             "#e6f5d0"
            ],
            [
             0.7,
             "#b8e186"
            ],
            [
             0.8,
             "#7fbc41"
            ],
            [
             0.9,
             "#4d9221"
            ],
            [
             1,
             "#276419"
            ]
           ],
           "sequential": [
            [
             0,
             "#0d0887"
            ],
            [
             0.1111111111111111,
             "#46039f"
            ],
            [
             0.2222222222222222,
             "#7201a8"
            ],
            [
             0.3333333333333333,
             "#9c179e"
            ],
            [
             0.4444444444444444,
             "#bd3786"
            ],
            [
             0.5555555555555556,
             "#d8576b"
            ],
            [
             0.6666666666666666,
             "#ed7953"
            ],
            [
             0.7777777777777778,
             "#fb9f3a"
            ],
            [
             0.8888888888888888,
             "#fdca26"
            ],
            [
             1,
             "#f0f921"
            ]
           ],
           "sequentialminus": [
            [
             0,
             "#0d0887"
            ],
            [
             0.1111111111111111,
             "#46039f"
            ],
            [
             0.2222222222222222,
             "#7201a8"
            ],
            [
             0.3333333333333333,
             "#9c179e"
            ],
            [
             0.4444444444444444,
             "#bd3786"
            ],
            [
             0.5555555555555556,
             "#d8576b"
            ],
            [
             0.6666666666666666,
             "#ed7953"
            ],
            [
             0.7777777777777778,
             "#fb9f3a"
            ],
            [
             0.8888888888888888,
             "#fdca26"
            ],
            [
             1,
             "#f0f921"
            ]
           ]
          },
          "colorway": [
           "#636efa",
           "#EF553B",
           "#00cc96",
           "#ab63fa",
           "#FFA15A",
           "#19d3f3",
           "#FF6692",
           "#B6E880",
           "#FF97FF",
           "#FECB52"
          ],
          "font": {
           "color": "#2a3f5f"
          },
          "geo": {
           "bgcolor": "white",
           "lakecolor": "white",
           "landcolor": "#E5ECF6",
           "showlakes": true,
           "showland": true,
           "subunitcolor": "white"
          },
          "hoverlabel": {
           "align": "left"
          },
          "hovermode": "closest",
          "mapbox": {
           "style": "light"
          },
          "paper_bgcolor": "white",
          "plot_bgcolor": "#E5ECF6",
          "polar": {
           "angularaxis": {
            "gridcolor": "white",
            "linecolor": "white",
            "ticks": ""
           },
           "bgcolor": "#E5ECF6",
           "radialaxis": {
            "gridcolor": "white",
            "linecolor": "white",
            "ticks": ""
           }
          },
          "scene": {
           "xaxis": {
            "backgroundcolor": "#E5ECF6",
            "gridcolor": "white",
            "gridwidth": 2,
            "linecolor": "white",
            "showbackground": true,
            "ticks": "",
            "zerolinecolor": "white"
           },
           "yaxis": {
            "backgroundcolor": "#E5ECF6",
            "gridcolor": "white",
            "gridwidth": 2,
            "linecolor": "white",
            "showbackground": true,
            "ticks": "",
            "zerolinecolor": "white"
           },
           "zaxis": {
            "backgroundcolor": "#E5ECF6",
            "gridcolor": "white",
            "gridwidth": 2,
            "linecolor": "white",
            "showbackground": true,
            "ticks": "",
            "zerolinecolor": "white"
           }
          },
          "shapedefaults": {
           "line": {
            "color": "#2a3f5f"
           }
          },
          "ternary": {
           "aaxis": {
            "gridcolor": "white",
            "linecolor": "white",
            "ticks": ""
           },
           "baxis": {
            "gridcolor": "white",
            "linecolor": "white",
            "ticks": ""
           },
           "bgcolor": "#E5ECF6",
           "caxis": {
            "gridcolor": "white",
            "linecolor": "white",
            "ticks": ""
           }
          },
          "title": {
           "x": 0.05
          },
          "xaxis": {
           "automargin": true,
           "gridcolor": "white",
           "linecolor": "white",
           "ticks": "",
           "title": {
            "standoff": 15
           },
           "zerolinecolor": "white",
           "zerolinewidth": 2
          },
          "yaxis": {
           "automargin": true,
           "gridcolor": "white",
           "linecolor": "white",
           "ticks": "",
           "title": {
            "standoff": 15
           },
           "zerolinecolor": "white",
           "zerolinewidth": 2
          }
         }
        },
        "title": {
         "text": "AirBnB Availability By Neighborhood"
        },
        "updatemenus": [
         {
          "buttons": [
           {
            "args": [
             "visible",
             [
              true,
              false,
              false,
              false
             ]
            ],
            "label": "bumbershoot",
            "method": "restyle"
           },
           {
            "args": [
             "visible",
             [
              false,
              true,
              false,
              false
             ]
            ],
            "label": "siff",
            "method": "restyle"
           },
           {
            "args": [
             "visible",
             [
              false,
              false,
              true,
              false
             ]
            ],
            "label": "hempfest",
            "method": "restyle"
           },
           {
            "args": [
             "visible",
             [
              false,
              false,
              false,
              true
             ]
            ],
            "label": "pride",
            "method": "restyle"
           }
          ],
          "x": -0.05,
          "y": 1,
          "yanchor": "top"
         }
        ],
        "width": 800
       }
      },
      "text/html": [
       "<div>\n",
       "        \n",
       "        \n",
       "            <div id=\"4606ace7-9fd9-4a29-b681-5751eb5bd44b\" class=\"plotly-graph-div\" style=\"height:800px; width:800px;\"></div>\n",
       "            <script type=\"text/javascript\">\n",
       "                require([\"plotly\"], function(Plotly) {\n",
       "                    window.PLOTLYENV=window.PLOTLYENV || {};\n",
       "                    \n",
       "                if (document.getElementById(\"4606ace7-9fd9-4a29-b681-5751eb5bd44b\")) {\n",
       "                    Plotly.newPlot(\n",
       "                        '4606ace7-9fd9-4a29-b681-5751eb5bd44b',\n",
       "                        [{\"hovertemplate\": \"<b>%{hovertext}</b><br><br>Total Listings=%{marker.size}<br>lat=%{lat}<br>lon=%{lon}<br>Change in Availability=%{marker.color}<extra></extra>\", \"hovertext\": [\"Ballard\", \"University District\", \"Queen Anne\", \"Cascade\", \"Magnolia\", \"Central Area\", \"Downtown\", \"West Seattle\", \"Beacon Hill\", \"Rainier Valley\", \"Delridge\", \"Seward Park\", \"Capitol Hill\"], \"lat\": [47.68327611825291, 47.65972838933905, 47.63610855858225, 47.632489019725924, 47.65872537004435, 47.61330104584788, 47.609455790691186, 47.551740491478235, 47.578359836775135, 47.53887201158371, 47.52625753422921, 47.55320648845152, 47.64638360937516], \"legendgroup\": \"\", \"lon\": [-122.38490775305536, -122.30833161801833, -122.34952141259649, -122.34165148327193, -122.40706757289739, -122.28893982199374, -122.34231358527809, -122.39372238649234, -122.3097722184586, -122.27535083516632, -122.34322634182028, -122.26445674916552, -122.31976225701416], \"marker\": {\"color\": [0.6000000000000001, 0.0, -0.12698412698412692, 2.333333333333333, -0.33333333333333337, 0.025641025641025737, 0.14027149321266966, -0.3333333333333333, -0.18367346938775508, -0.5833333333333334, -0.3750000000000001, -1.0, 0.4222222222222223], \"coloraxis\": \"coloraxis\", \"size\": [6.0, 4.5, 10.5, 3.5, 2.5, 13.25, 26.25, 8.0, 7.25, 9.0, 4.25, 2.0, 12.0], \"sizemode\": \"area\", \"sizeref\": 0.065625}, \"mode\": \"markers\", \"name\": \"\", \"showlegend\": false, \"subplot\": \"mapbox\", \"type\": \"scattermapbox\"}, {\"hovertemplate\": \"<b>%{hovertext}</b><br><br>Total Listings=%{marker.size}<br>lat=%{lat}<br>lon=%{lon}<br>Change in Availability=%{marker.color}<extra></extra>\", \"hovertext\": [\"Ballard\", \"University District\", \"Queen Anne\", \"Cascade\", \"Magnolia\", \"Central Area\", \"Downtown\", \"Interbay\", \"West Seattle\", \"Beacon Hill\", \"Rainier Valley\", \"Delridge\", \"Seward Park\", \"Capitol Hill\"], \"lat\": [47.68327611825291, 47.65972838933905, 47.63610855858225, 47.632489019725924, 47.65872537004435, 47.61330104584788, 47.609455790691186, 47.64172700266643, 47.551740491478235, 47.578359836775135, 47.53887201158371, 47.52625753422921, 47.55320648845152, 47.64638360937516], \"legendgroup\": \"\", \"lon\": [-122.38490775305536, -122.30833161801833, -122.34952141259649, -122.34165148327193, -122.40706757289739, -122.28893982199374, -122.34231358527809, -122.38106741548015, -122.39372238649234, -122.3097722184586, -122.27535083516632, -122.34322634182028, -122.26445674916552, -122.31976225701416], \"marker\": {\"color\": [0.5555555555555556, 0.22222222222222213, 1.9090909090909087, -0.28, 0.0, 1.40625, 0.035294117647058844, -1.0, -0.14285714285714285, 1.7, -0.06249999999999994, -0.24999999999999994, -1.0, 1.258823529411765], \"coloraxis\": \"coloraxis\", \"size\": [8.666666666666666, 5.166666666666667, 10.333333333333334, 7.333333333333332, 3.0, 12.166666666666664, 22.5, 1.0, 8.5, 6.0, 6.5, 6.0, 1.8, 14.166666666666664], \"sizemode\": \"area\", \"sizeref\": 0.05625}, \"mode\": \"markers\", \"name\": \"\", \"showlegend\": false, \"subplot\": \"mapbox\", \"type\": \"scattermapbox\"}, {\"hovertemplate\": \"<b>%{hovertext}</b><br><br>Total Listings=%{marker.size}<br>lat=%{lat}<br>lon=%{lon}<br>Change in Availability=%{marker.color}<extra></extra>\", \"hovertext\": [\"Ballard\", \"University District\", \"Queen Anne\", \"Cascade\", \"Magnolia\", \"Central Area\", \"Downtown\", \"Interbay\", \"West Seattle\", \"Beacon Hill\", \"Rainier Valley\", \"Delridge\", \"Seward Park\", \"Capitol Hill\"], \"lat\": [47.68327611825291, 47.65972838933905, 47.63610855858225, 47.632489019725924, 47.65872537004435, 47.61330104584788, 47.609455790691186, 47.64172700266643, 47.551740491478235, 47.578359836775135, 47.53887201158371, 47.52625753422921, 47.55320648845152, 47.64638360937516], \"legendgroup\": \"\", \"lon\": [-122.38490775305536, -122.30833161801833, -122.34952141259649, -122.34165148327193, -122.40706757289739, -122.28893982199374, -122.34231358527809, -122.38106741548015, -122.39372238649234, -122.3097722184586, -122.27535083516632, -122.34322634182028, -122.26445674916552, -122.31976225701416], \"marker\": {\"color\": [0.0, -1.0, 0.018181818181818167, -0.5142857142857142, -0.5, -0.2500000000000001, -0.026041666666666644, 0.0, -0.26666666666666666, -0.1250000000000001, -0.03999999999999999, 0.028571428571428605, 0.0, -0.19642857142857134], \"coloraxis\": \"coloraxis\", \"size\": [8.0, 4.5, 10.0, 9.0, 2.5, 12.5, 26.0, 1.0, 8.0, 6.25, 8.5, 5.25, 2.25, 13.75], \"sizemode\": \"area\", \"sizeref\": 0.065}, \"mode\": \"markers\", \"name\": \"\", \"showlegend\": false, \"subplot\": \"mapbox\", \"type\": \"scattermapbox\"}, {\"hovertemplate\": \"<b>%{hovertext}</b><br><br>Total Listings=%{marker.size}<br>lat=%{lat}<br>lon=%{lon}<br>Change in Availability=%{marker.color}<extra></extra>\", \"hovertext\": [\"Ballard\", \"University District\", \"Queen Anne\", \"Cascade\", \"Magnolia\", \"Central Area\", \"Downtown\", \"West Seattle\", \"Beacon Hill\", \"Rainier Valley\", \"Delridge\", \"Seward Park\", \"Capitol Hill\"], \"lat\": [47.68327611825291, 47.65972838933905, 47.63610855858225, 47.632489019725924, 47.65872537004435, 47.61330104584788, 47.609455790691186, 47.551740491478235, 47.578359836775135, 47.53887201158371, 47.52625753422921, 47.55320648845152, 47.64638360937516], \"legendgroup\": \"\", \"lon\": [-122.38490775305536, -122.30833161801833, -122.34952141259649, -122.34165148327193, -122.40706757289739, -122.28893982199374, -122.34231358527809, -122.39372238649234, -122.3097722184586, -122.27535083516632, -122.34322634182028, -122.26445674916552, -122.31976225701416], \"marker\": {\"color\": [-0.5, -0.4, 0.19166666666666668, 0.0, 1.0, -0.5428571428571428, 0.15909090909090906, 2.1500000000000004, 0.11111111111111108, -0.2888888888888889, -0.2, 0.0, 0.113095238095238], \"coloraxis\": \"coloraxis\", \"size\": [8.25, 5.25, 12.25, 10.0, 3.0, 12.25, 16.5, 8.5, 7.25, 7.25, 4.25, 1.0, 16.25], \"sizemode\": \"area\", \"sizeref\": 0.04125}, \"mode\": \"markers\", \"name\": \"\", \"showlegend\": false, \"subplot\": \"mapbox\", \"type\": \"scattermapbox\"}],\n",
       "                        {\"annotations\": [{\"align\": \"left\", \"showarrow\": false, \"text\": \"Neighborhood:\", \"x\": -0.28, \"y\": 1.04, \"yref\": \"paper\"}], \"coloraxis\": {\"cmax\": 2, \"cmin\": -1, \"colorbar\": {\"title\": {\"text\": \"Change in Availability\"}}, \"colorscale\": [[0.0, \"#000004\"], [0.1111111111111111, \"#1b0c41\"], [0.2222222222222222, \"#4a0c6b\"], [0.3333333333333333, \"#781c6d\"], [0.4444444444444444, \"#a52c60\"], [0.5555555555555556, \"#cf4446\"], [0.6666666666666666, \"#ed6925\"], [0.7777777777777778, \"#fb9b06\"], [0.8888888888888888, \"#f7d13d\"], [1.0, \"#fcffa4\"]]}, \"height\": 800, \"legend\": {\"itemsizing\": \"constant\", \"tracegroupgap\": 0}, \"mapbox\": {\"accesstoken\": \"pk.eyJ1IjoiZG1vdG9uMzE0IiwiYSI6ImNrYjVpdjhqbTBzaW4yenBpaHBlM3U3YmUifQ.DV5PwTAD_ZYi0qO1Nu105A\", \"center\": {\"lat\": 47.6, \"lon\": -122.3}, \"domain\": {\"x\": [0.0, 1.0], \"y\": [0.0, 1.0]}, \"zoom\": 10}, \"template\": {\"data\": {\"bar\": [{\"error_x\": {\"color\": \"#2a3f5f\"}, \"error_y\": {\"color\": \"#2a3f5f\"}, \"marker\": {\"line\": {\"color\": \"#E5ECF6\", \"width\": 0.5}}, \"type\": \"bar\"}], \"barpolar\": [{\"marker\": {\"line\": {\"color\": \"#E5ECF6\", \"width\": 0.5}}, \"type\": \"barpolar\"}], \"carpet\": [{\"aaxis\": {\"endlinecolor\": \"#2a3f5f\", \"gridcolor\": \"white\", \"linecolor\": \"white\", \"minorgridcolor\": \"white\", \"startlinecolor\": \"#2a3f5f\"}, \"baxis\": {\"endlinecolor\": \"#2a3f5f\", \"gridcolor\": \"white\", \"linecolor\": \"white\", \"minorgridcolor\": \"white\", \"startlinecolor\": \"#2a3f5f\"}, \"type\": \"carpet\"}], \"choropleth\": [{\"colorbar\": {\"outlinewidth\": 0, \"ticks\": \"\"}, \"type\": \"choropleth\"}], \"contour\": [{\"colorbar\": {\"outlinewidth\": 0, \"ticks\": \"\"}, \"colorscale\": [[0.0, \"#0d0887\"], [0.1111111111111111, \"#46039f\"], [0.2222222222222222, \"#7201a8\"], [0.3333333333333333, \"#9c179e\"], [0.4444444444444444, \"#bd3786\"], [0.5555555555555556, \"#d8576b\"], [0.6666666666666666, \"#ed7953\"], [0.7777777777777778, \"#fb9f3a\"], [0.8888888888888888, \"#fdca26\"], [1.0, \"#f0f921\"]], \"type\": \"contour\"}], \"contourcarpet\": [{\"colorbar\": {\"outlinewidth\": 0, \"ticks\": \"\"}, \"type\": \"contourcarpet\"}], \"heatmap\": [{\"colorbar\": {\"outlinewidth\": 0, \"ticks\": \"\"}, \"colorscale\": [[0.0, \"#0d0887\"], [0.1111111111111111, \"#46039f\"], [0.2222222222222222, \"#7201a8\"], [0.3333333333333333, \"#9c179e\"], [0.4444444444444444, \"#bd3786\"], [0.5555555555555556, \"#d8576b\"], [0.6666666666666666, \"#ed7953\"], [0.7777777777777778, \"#fb9f3a\"], [0.8888888888888888, \"#fdca26\"], [1.0, \"#f0f921\"]], \"type\": \"heatmap\"}], \"heatmapgl\": [{\"colorbar\": {\"outlinewidth\": 0, \"ticks\": \"\"}, \"colorscale\": [[0.0, \"#0d0887\"], [0.1111111111111111, \"#46039f\"], [0.2222222222222222, \"#7201a8\"], [0.3333333333333333, \"#9c179e\"], [0.4444444444444444, \"#bd3786\"], [0.5555555555555556, \"#d8576b\"], [0.6666666666666666, \"#ed7953\"], [0.7777777777777778, \"#fb9f3a\"], [0.8888888888888888, \"#fdca26\"], [1.0, \"#f0f921\"]], \"type\": \"heatmapgl\"}], \"histogram\": [{\"marker\": {\"colorbar\": {\"outlinewidth\": 0, \"ticks\": \"\"}}, \"type\": \"histogram\"}], \"histogram2d\": [{\"colorbar\": {\"outlinewidth\": 0, \"ticks\": \"\"}, \"colorscale\": [[0.0, \"#0d0887\"], [0.1111111111111111, \"#46039f\"], [0.2222222222222222, \"#7201a8\"], [0.3333333333333333, \"#9c179e\"], [0.4444444444444444, \"#bd3786\"], [0.5555555555555556, \"#d8576b\"], [0.6666666666666666, \"#ed7953\"], [0.7777777777777778, \"#fb9f3a\"], [0.8888888888888888, \"#fdca26\"], [1.0, \"#f0f921\"]], \"type\": \"histogram2d\"}], \"histogram2dcontour\": [{\"colorbar\": {\"outlinewidth\": 0, \"ticks\": \"\"}, \"colorscale\": [[0.0, \"#0d0887\"], [0.1111111111111111, \"#46039f\"], [0.2222222222222222, \"#7201a8\"], [0.3333333333333333, \"#9c179e\"], [0.4444444444444444, \"#bd3786\"], [0.5555555555555556, \"#d8576b\"], [0.6666666666666666, \"#ed7953\"], [0.7777777777777778, \"#fb9f3a\"], [0.8888888888888888, \"#fdca26\"], [1.0, \"#f0f921\"]], \"type\": \"histogram2dcontour\"}], \"mesh3d\": [{\"colorbar\": {\"outlinewidth\": 0, \"ticks\": \"\"}, \"type\": \"mesh3d\"}], \"parcoords\": [{\"line\": {\"colorbar\": {\"outlinewidth\": 0, \"ticks\": \"\"}}, \"type\": \"parcoords\"}], \"pie\": [{\"automargin\": true, \"type\": \"pie\"}], \"scatter\": [{\"marker\": {\"colorbar\": {\"outlinewidth\": 0, \"ticks\": \"\"}}, \"type\": \"scatter\"}], \"scatter3d\": [{\"line\": {\"colorbar\": {\"outlinewidth\": 0, \"ticks\": \"\"}}, \"marker\": {\"colorbar\": {\"outlinewidth\": 0, \"ticks\": \"\"}}, \"type\": \"scatter3d\"}], \"scattercarpet\": [{\"marker\": {\"colorbar\": {\"outlinewidth\": 0, \"ticks\": \"\"}}, \"type\": \"scattercarpet\"}], \"scattergeo\": [{\"marker\": {\"colorbar\": {\"outlinewidth\": 0, \"ticks\": \"\"}}, \"type\": \"scattergeo\"}], \"scattergl\": [{\"marker\": {\"colorbar\": {\"outlinewidth\": 0, \"ticks\": \"\"}}, \"type\": \"scattergl\"}], \"scattermapbox\": [{\"marker\": {\"colorbar\": {\"outlinewidth\": 0, \"ticks\": \"\"}}, \"type\": \"scattermapbox\"}], \"scatterpolar\": [{\"marker\": {\"colorbar\": {\"outlinewidth\": 0, \"ticks\": \"\"}}, \"type\": \"scatterpolar\"}], \"scatterpolargl\": [{\"marker\": {\"colorbar\": {\"outlinewidth\": 0, \"ticks\": \"\"}}, \"type\": \"scatterpolargl\"}], \"scatterternary\": [{\"marker\": {\"colorbar\": {\"outlinewidth\": 0, \"ticks\": \"\"}}, \"type\": \"scatterternary\"}], \"surface\": [{\"colorbar\": {\"outlinewidth\": 0, \"ticks\": \"\"}, \"colorscale\": [[0.0, \"#0d0887\"], [0.1111111111111111, \"#46039f\"], [0.2222222222222222, \"#7201a8\"], [0.3333333333333333, \"#9c179e\"], [0.4444444444444444, \"#bd3786\"], [0.5555555555555556, \"#d8576b\"], [0.6666666666666666, \"#ed7953\"], [0.7777777777777778, \"#fb9f3a\"], [0.8888888888888888, \"#fdca26\"], [1.0, \"#f0f921\"]], \"type\": \"surface\"}], \"table\": [{\"cells\": {\"fill\": {\"color\": \"#EBF0F8\"}, \"line\": {\"color\": \"white\"}}, \"header\": {\"fill\": {\"color\": \"#C8D4E3\"}, \"line\": {\"color\": \"white\"}}, \"type\": \"table\"}]}, \"layout\": {\"annotationdefaults\": {\"arrowcolor\": \"#2a3f5f\", \"arrowhead\": 0, \"arrowwidth\": 1}, \"coloraxis\": {\"colorbar\": {\"outlinewidth\": 0, \"ticks\": \"\"}}, \"colorscale\": {\"diverging\": [[0, \"#8e0152\"], [0.1, \"#c51b7d\"], [0.2, \"#de77ae\"], [0.3, \"#f1b6da\"], [0.4, \"#fde0ef\"], [0.5, \"#f7f7f7\"], [0.6, \"#e6f5d0\"], [0.7, \"#b8e186\"], [0.8, \"#7fbc41\"], [0.9, \"#4d9221\"], [1, \"#276419\"]], \"sequential\": [[0.0, \"#0d0887\"], [0.1111111111111111, \"#46039f\"], [0.2222222222222222, \"#7201a8\"], [0.3333333333333333, \"#9c179e\"], [0.4444444444444444, \"#bd3786\"], [0.5555555555555556, \"#d8576b\"], [0.6666666666666666, \"#ed7953\"], [0.7777777777777778, \"#fb9f3a\"], [0.8888888888888888, \"#fdca26\"], [1.0, \"#f0f921\"]], \"sequentialminus\": [[0.0, \"#0d0887\"], [0.1111111111111111, \"#46039f\"], [0.2222222222222222, \"#7201a8\"], [0.3333333333333333, \"#9c179e\"], [0.4444444444444444, \"#bd3786\"], [0.5555555555555556, \"#d8576b\"], [0.6666666666666666, \"#ed7953\"], [0.7777777777777778, \"#fb9f3a\"], [0.8888888888888888, \"#fdca26\"], [1.0, \"#f0f921\"]]}, \"colorway\": [\"#636efa\", \"#EF553B\", \"#00cc96\", \"#ab63fa\", \"#FFA15A\", \"#19d3f3\", \"#FF6692\", \"#B6E880\", \"#FF97FF\", \"#FECB52\"], \"font\": {\"color\": \"#2a3f5f\"}, \"geo\": {\"bgcolor\": \"white\", \"lakecolor\": \"white\", \"landcolor\": \"#E5ECF6\", \"showlakes\": true, \"showland\": true, \"subunitcolor\": \"white\"}, \"hoverlabel\": {\"align\": \"left\"}, \"hovermode\": \"closest\", \"mapbox\": {\"style\": \"light\"}, \"paper_bgcolor\": \"white\", \"plot_bgcolor\": \"#E5ECF6\", \"polar\": {\"angularaxis\": {\"gridcolor\": \"white\", \"linecolor\": \"white\", \"ticks\": \"\"}, \"bgcolor\": \"#E5ECF6\", \"radialaxis\": {\"gridcolor\": \"white\", \"linecolor\": \"white\", \"ticks\": \"\"}}, \"scene\": {\"xaxis\": {\"backgroundcolor\": \"#E5ECF6\", \"gridcolor\": \"white\", \"gridwidth\": 2, \"linecolor\": \"white\", \"showbackground\": true, \"ticks\": \"\", \"zerolinecolor\": \"white\"}, \"yaxis\": {\"backgroundcolor\": \"#E5ECF6\", \"gridcolor\": \"white\", \"gridwidth\": 2, \"linecolor\": \"white\", \"showbackground\": true, \"ticks\": \"\", \"zerolinecolor\": \"white\"}, \"zaxis\": {\"backgroundcolor\": \"#E5ECF6\", \"gridcolor\": \"white\", \"gridwidth\": 2, \"linecolor\": \"white\", \"showbackground\": true, \"ticks\": \"\", \"zerolinecolor\": \"white\"}}, \"shapedefaults\": {\"line\": {\"color\": \"#2a3f5f\"}}, \"ternary\": {\"aaxis\": {\"gridcolor\": \"white\", \"linecolor\": \"white\", \"ticks\": \"\"}, \"baxis\": {\"gridcolor\": \"white\", \"linecolor\": \"white\", \"ticks\": \"\"}, \"bgcolor\": \"#E5ECF6\", \"caxis\": {\"gridcolor\": \"white\", \"linecolor\": \"white\", \"ticks\": \"\"}}, \"title\": {\"x\": 0.05}, \"xaxis\": {\"automargin\": true, \"gridcolor\": \"white\", \"linecolor\": \"white\", \"ticks\": \"\", \"title\": {\"standoff\": 15}, \"zerolinecolor\": \"white\", \"zerolinewidth\": 2}, \"yaxis\": {\"automargin\": true, \"gridcolor\": \"white\", \"linecolor\": \"white\", \"ticks\": \"\", \"title\": {\"standoff\": 15}, \"zerolinecolor\": \"white\", \"zerolinewidth\": 2}}}, \"title\": {\"text\": \"AirBnB Availability By Neighborhood\"}, \"updatemenus\": [{\"buttons\": [{\"args\": [\"visible\", [true, false, false, false]], \"label\": \"bumbershoot\", \"method\": \"restyle\"}, {\"args\": [\"visible\", [false, true, false, false]], \"label\": \"siff\", \"method\": \"restyle\"}, {\"args\": [\"visible\", [false, false, true, false]], \"label\": \"hempfest\", \"method\": \"restyle\"}, {\"args\": [\"visible\", [false, false, false, true]], \"label\": \"pride\", \"method\": \"restyle\"}], \"x\": -0.05, \"y\": 1, \"yanchor\": \"top\"}], \"width\": 800},\n",
       "                        {\"responsive\": true}\n",
       "                    ).then(function(){\n",
       "                            \n",
       "var gd = document.getElementById('4606ace7-9fd9-4a29-b681-5751eb5bd44b');\n",
       "var x = new MutationObserver(function (mutations, observer) {{\n",
       "        var display = window.getComputedStyle(gd).display;\n",
       "        if (!display || display === 'none') {{\n",
       "            console.log([gd, 'removed!']);\n",
       "            Plotly.purge(gd);\n",
       "            observer.disconnect();\n",
       "        }}\n",
       "}});\n",
       "\n",
       "// Listen for the removal of the full notebook cells\n",
       "var notebookContainer = gd.closest('#notebook-container');\n",
       "if (notebookContainer) {{\n",
       "    x.observe(notebookContainer, {childList: true});\n",
       "}}\n",
       "\n",
       "// Listen for the clearing of the current output cell\n",
       "var outputEl = gd.closest('.output');\n",
       "if (outputEl) {{\n",
       "    x.observe(outputEl, {childList: true});\n",
       "}}\n",
       "\n",
       "                        })\n",
       "                };\n",
       "                });\n",
       "            </script>\n",
       "        </div>"
      ]
     },
     "metadata": {},
     "output_type": "display_data"
    }
   ],
   "source": [
    "fig.show()"
   ]
  },
  {
   "cell_type": "code",
   "execution_count": 14,
   "metadata": {},
   "outputs": [],
   "source": [
    "price_data = dict()\n",
    "for event, price in price_metrics_dict.items():\n",
    "    merged = seattle_neigh.merge(\n",
    "        price,\n",
    "        left_on='nhood',\n",
    "        right_on='neighborhood',\n",
    "        how='right'\n",
    "    ).drop_duplicates(['nhood'])\n",
    "    merged_plot = merged.cx[-122.42:-122.25, 47.50:47.70]\n",
    "    \n",
    "    merged_plot_pts = merged_plot.copy()\n",
    "    merged_plot_pts['geometry'] = merged_plot_pts['geometry'].centroid\n",
    "        \n",
    "    price_data[event.split('_')[0]] = px.scatter_mapbox(\n",
    "        merged_plot_pts,\n",
    "        lat=merged_plot_pts.geometry.y,\n",
    "        lon=merged_plot_pts.geometry.x,\n",
    "        size='event_mean_price',\n",
    "        color='pct_change_price',\n",
    "        hover_name='nhood',\n",
    "        color_continuous_scale='Inferno',\n",
    "        range_color=[-0.5,2],\n",
    "        size_max=20,\n",
    "        zoom=14,\n",
    "        title=\"Listing Price By Neighborhood\",\n",
    "        labels={\n",
    "            'event_mean_price': 'Average Listing Price',\n",
    "            'pct_change_price': 'Change in Price'\n",
    "        }\n",
    "    )  "
   ]
  },
  {
   "cell_type": "code",
   "execution_count": 15,
   "metadata": {},
   "outputs": [],
   "source": [
    "fig = create_map_dropdown(price_data)"
   ]
  },
  {
   "cell_type": "code",
   "execution_count": 16,
   "metadata": {},
   "outputs": [
    {
     "data": {
      "application/vnd.plotly.v1+json": {
       "config": {
        "plotlyServerURL": "https://plot.ly"
       },
       "data": [
        {
         "hovertemplate": "<b>%{hovertext}</b><br><br>Average Listing Price=%{marker.size}<br>lat=%{lat}<br>lon=%{lon}<br>Change in Price=%{marker.color}<extra></extra>",
         "hovertext": [
          "Ballard",
          "University District",
          "Queen Anne",
          "Cascade",
          "Magnolia",
          "Central Area",
          "Downtown",
          "West Seattle",
          "Beacon Hill",
          "Rainier Valley",
          "Delridge",
          "Seward Park",
          "Capitol Hill"
         ],
         "lat": [
          47.68327611825291,
          47.65972838933905,
          47.63610855858225,
          47.632489019725924,
          47.65872537004435,
          47.61330104584788,
          47.609455790691186,
          47.551740491478235,
          47.578359836775135,
          47.53887201158371,
          47.52625753422921,
          47.55320648845152,
          47.64638360937516
         ],
         "legendgroup": "",
         "lon": [
          -122.38490775305536,
          -122.30833161801833,
          -122.34952141259649,
          -122.34165148327193,
          -122.40706757289739,
          -122.28893982199374,
          -122.34231358527809,
          -122.39372238649234,
          -122.3097722184586,
          -122.27535083516632,
          -122.34322634182028,
          -122.26445674916552,
          -122.31976225701416
         ],
         "marker": {
          "color": [
           -0.2152322924600152,
           0.0760563380281691,
           0.06412382531785504,
           0.046831955922864994,
           -0.1528107680126682,
           -0.03899089506639637,
           0.4644321848652023,
           -0.10128205128205132,
           -0.191642242601872,
           -0.535007072135785,
           0.03135313531353129,
           2.35,
           0.2403705509507557
          ],
          "coloraxis": "coloraxis",
          "size": [
           125.50625,
           161.36666666666667,
           171.00252525252526,
           220.94166666666663,
           157.625,
           165.81410256410254,
           190.18830128205133,
           230.22916666666663,
           129.64404761904765,
           203.8442307692308,
           147.2625,
           181.66666666666663,
           168.60029380341882
          ],
          "sizemode": "area",
          "sizeref": 0.5755729166666665
         },
         "mode": "markers",
         "name": "",
         "showlegend": false,
         "subplot": "mapbox",
         "type": "scattermapbox"
        },
        {
         "hovertemplate": "<b>%{hovertext}</b><br><br>Average Listing Price=%{marker.size}<br>lat=%{lat}<br>lon=%{lon}<br>Change in Price=%{marker.color}<extra></extra>",
         "hovertext": [
          "Ballard",
          "University District",
          "Queen Anne",
          "Cascade",
          "Magnolia",
          "Central Area",
          "Downtown",
          "Interbay",
          "West Seattle",
          "Beacon Hill",
          "Rainier Valley",
          "Delridge",
          "Seward Park",
          "Capitol Hill"
         ],
         "lat": [
          47.68327611825291,
          47.65972838933905,
          47.63610855858225,
          47.632489019725924,
          47.65872537004435,
          47.61330104584788,
          47.609455790691186,
          47.64172700266643,
          47.551740491478235,
          47.578359836775135,
          47.53887201158371,
          47.52625753422921,
          47.55320648845152,
          47.64638360937516
         ],
         "legendgroup": "",
         "lon": [
          -122.38490775305536,
          -122.30833161801833,
          -122.34952141259649,
          -122.34165148327193,
          -122.40706757289739,
          -122.28893982199374,
          -122.34231358527809,
          -122.38106741548015,
          -122.39372238649234,
          -122.3097722184586,
          -122.27535083516632,
          -122.34322634182028,
          -122.26445674916552,
          -122.31976225701416
         ],
         "marker": {
          "color": [
           0.36538035041029066,
           -0.15692387633151475,
           0.23301985370950884,
           -0.3668463611859838,
           1.1725,
           0.02640845070422531,
           0.0272005009588666,
           1.1666666666666667,
           0.5732935471838866,
           0.3418181818181818,
           0.09809027777777778,
           -0.3156545741324921,
           0.8571428571428571,
           -0.2610262396589352
          ],
          "coloraxis": "coloraxis",
          "size": [
           167.08597883597886,
           125.1449494949495,
           158.21095571095574,
           169.91997354497352,
           134.98611111111111,
           186.5967171717172,
           152.10074441046308,
           142.5,
           159.25,
           152.39074074074077,
           147.9375,
           152.6081349206349,
           170,
           167.01459141348846
          ],
          "sizemode": "area",
          "sizeref": 0.466491792929293
         },
         "mode": "markers",
         "name": "",
         "showlegend": false,
         "subplot": "mapbox",
         "type": "scattermapbox"
        },
        {
         "hovertemplate": "<b>%{hovertext}</b><br><br>Average Listing Price=%{marker.size}<br>lat=%{lat}<br>lon=%{lon}<br>Change in Price=%{marker.color}<extra></extra>",
         "hovertext": [
          "Ballard",
          "University District",
          "Queen Anne",
          "Cascade",
          "Magnolia",
          "Central Area",
          "Downtown",
          "Interbay",
          "West Seattle",
          "Beacon Hill",
          "Rainier Valley",
          "Delridge",
          "Seward Park",
          "Capitol Hill"
         ],
         "lat": [
          47.68327611825291,
          47.65972838933905,
          47.63610855858225,
          47.632489019725924,
          47.65872537004435,
          47.61330104584788,
          47.609455790691186,
          47.64172700266643,
          47.551740491478235,
          47.578359836775135,
          47.53887201158371,
          47.52625753422921,
          47.55320648845152,
          47.64638360937516
         ],
         "legendgroup": "",
         "lon": [
          -122.38490775305536,
          -122.30833161801833,
          -122.34952141259649,
          -122.34165148327193,
          -122.40706757289739,
          -122.28893982199374,
          -122.34231358527809,
          -122.38106741548015,
          -122.39372238649234,
          -122.3097722184586,
          -122.27535083516632,
          -122.34322634182028,
          -122.26445674916552,
          -122.31976225701416
         ],
         "marker": {
          "color": [
           -0.15326741186586418,
           -0.21608832807570974,
           0.18847006651884704,
           0.2396233521657249,
           0.08505154639175258,
           -0.00333137370174405,
           -0.1708486332109343,
           0,
           0.7407181984175288,
           -0.055625000000000036,
           0.29034220532319405,
           0.2883464566929134,
           0.005025125628140704,
           -0.382526493256262
          ],
          "coloraxis": "coloraxis",
          "size": [
           177.45208333333335,
           169.81071428571428,
           150.50974025974028,
           149.05870098039216,
           178.83333333333337,
           171.64871794871794,
           165.13419653263404,
           475,
           167.13257575757575,
           146.9,
           246.37820512820514,
           173.58194444444442,
           136.6875,
           152.53341346153846
          ],
          "sizemode": "area",
          "sizeref": 1.1875
         },
         "mode": "markers",
         "name": "",
         "showlegend": false,
         "subplot": "mapbox",
         "type": "scattermapbox"
        },
        {
         "hovertemplate": "<b>%{hovertext}</b><br><br>Average Listing Price=%{marker.size}<br>lat=%{lat}<br>lon=%{lon}<br>Change in Price=%{marker.color}<extra></extra>",
         "hovertext": [
          "Ballard",
          "University District",
          "Queen Anne",
          "Cascade",
          "Magnolia",
          "Central Area",
          "Downtown",
          "West Seattle",
          "Beacon Hill",
          "Rainier Valley",
          "Delridge",
          "Seward Park",
          "Capitol Hill"
         ],
         "lat": [
          47.68327611825291,
          47.65972838933905,
          47.63610855858225,
          47.632489019725924,
          47.65872537004435,
          47.61330104584788,
          47.609455790691186,
          47.551740491478235,
          47.578359836775135,
          47.53887201158371,
          47.52625753422921,
          47.55320648845152,
          47.64638360937516
         ],
         "legendgroup": "",
         "lon": [
          -122.38490775305536,
          -122.30833161801833,
          -122.34952141259649,
          -122.34165148327193,
          -122.40706757289739,
          -122.28893982199374,
          -122.34231358527809,
          -122.39372238649234,
          -122.3097722184586,
          -122.27535083516632,
          -122.34322634182028,
          -122.26445674916552,
          -122.31976225701416
         ],
         "marker": {
          "color": [
           -0.25042637862421835,
           1.28,
           -0.3064406779661017,
           0.8754789272030652,
           0.5972382048331415,
           -0.2494758909853249,
           -0.016764459346186027,
           -0.4618065433854908,
           0.3696060037523452,
           0.08212560386473433,
           -0.2269662921348315,
           0,
           0.03458922030350596
          ],
          "coloraxis": "coloraxis",
          "size": [
           171.40494227994228,
           175.6809523809524,
           172.63856421356422,
           141.221875,
           300.5833333333333,
           172.9318181818182,
           148.21601307189542,
           160.93246753246754,
           202.24285714285716,
           163.44791666666666,
           144.10625,
           195,
           170.15673144257704
          ],
          "sizemode": "area",
          "sizeref": 0.7514583333333333
         },
         "mode": "markers",
         "name": "",
         "showlegend": false,
         "subplot": "mapbox",
         "type": "scattermapbox"
        }
       ],
       "layout": {
        "annotations": [
         {
          "align": "left",
          "showarrow": false,
          "text": "Neighborhood:",
          "x": -0.28,
          "y": 1.04,
          "yref": "paper"
         }
        ],
        "coloraxis": {
         "cmax": 2,
         "cmin": -0.5,
         "colorbar": {
          "title": {
           "text": "Change in Price"
          }
         },
         "colorscale": [
          [
           0,
           "#000004"
          ],
          [
           0.1111111111111111,
           "#1b0c41"
          ],
          [
           0.2222222222222222,
           "#4a0c6b"
          ],
          [
           0.3333333333333333,
           "#781c6d"
          ],
          [
           0.4444444444444444,
           "#a52c60"
          ],
          [
           0.5555555555555556,
           "#cf4446"
          ],
          [
           0.6666666666666666,
           "#ed6925"
          ],
          [
           0.7777777777777778,
           "#fb9b06"
          ],
          [
           0.8888888888888888,
           "#f7d13d"
          ],
          [
           1,
           "#fcffa4"
          ]
         ]
        },
        "height": 800,
        "legend": {
         "itemsizing": "constant",
         "tracegroupgap": 0
        },
        "mapbox": {
         "accesstoken": "pk.eyJ1IjoiZG1vdG9uMzE0IiwiYSI6ImNrYjVpdjhqbTBzaW4yenBpaHBlM3U3YmUifQ.DV5PwTAD_ZYi0qO1Nu105A",
         "center": {
          "lat": 47.6,
          "lon": -122.3
         },
         "domain": {
          "x": [
           0,
           1
          ],
          "y": [
           0,
           1
          ]
         },
         "zoom": 10
        },
        "template": {
         "data": {
          "bar": [
           {
            "error_x": {
             "color": "#2a3f5f"
            },
            "error_y": {
             "color": "#2a3f5f"
            },
            "marker": {
             "line": {
              "color": "#E5ECF6",
              "width": 0.5
             }
            },
            "type": "bar"
           }
          ],
          "barpolar": [
           {
            "marker": {
             "line": {
              "color": "#E5ECF6",
              "width": 0.5
             }
            },
            "type": "barpolar"
           }
          ],
          "carpet": [
           {
            "aaxis": {
             "endlinecolor": "#2a3f5f",
             "gridcolor": "white",
             "linecolor": "white",
             "minorgridcolor": "white",
             "startlinecolor": "#2a3f5f"
            },
            "baxis": {
             "endlinecolor": "#2a3f5f",
             "gridcolor": "white",
             "linecolor": "white",
             "minorgridcolor": "white",
             "startlinecolor": "#2a3f5f"
            },
            "type": "carpet"
           }
          ],
          "choropleth": [
           {
            "colorbar": {
             "outlinewidth": 0,
             "ticks": ""
            },
            "type": "choropleth"
           }
          ],
          "contour": [
           {
            "colorbar": {
             "outlinewidth": 0,
             "ticks": ""
            },
            "colorscale": [
             [
              0,
              "#0d0887"
             ],
             [
              0.1111111111111111,
              "#46039f"
             ],
             [
              0.2222222222222222,
              "#7201a8"
             ],
             [
              0.3333333333333333,
              "#9c179e"
             ],
             [
              0.4444444444444444,
              "#bd3786"
             ],
             [
              0.5555555555555556,
              "#d8576b"
             ],
             [
              0.6666666666666666,
              "#ed7953"
             ],
             [
              0.7777777777777778,
              "#fb9f3a"
             ],
             [
              0.8888888888888888,
              "#fdca26"
             ],
             [
              1,
              "#f0f921"
             ]
            ],
            "type": "contour"
           }
          ],
          "contourcarpet": [
           {
            "colorbar": {
             "outlinewidth": 0,
             "ticks": ""
            },
            "type": "contourcarpet"
           }
          ],
          "heatmap": [
           {
            "colorbar": {
             "outlinewidth": 0,
             "ticks": ""
            },
            "colorscale": [
             [
              0,
              "#0d0887"
             ],
             [
              0.1111111111111111,
              "#46039f"
             ],
             [
              0.2222222222222222,
              "#7201a8"
             ],
             [
              0.3333333333333333,
              "#9c179e"
             ],
             [
              0.4444444444444444,
              "#bd3786"
             ],
             [
              0.5555555555555556,
              "#d8576b"
             ],
             [
              0.6666666666666666,
              "#ed7953"
             ],
             [
              0.7777777777777778,
              "#fb9f3a"
             ],
             [
              0.8888888888888888,
              "#fdca26"
             ],
             [
              1,
              "#f0f921"
             ]
            ],
            "type": "heatmap"
           }
          ],
          "heatmapgl": [
           {
            "colorbar": {
             "outlinewidth": 0,
             "ticks": ""
            },
            "colorscale": [
             [
              0,
              "#0d0887"
             ],
             [
              0.1111111111111111,
              "#46039f"
             ],
             [
              0.2222222222222222,
              "#7201a8"
             ],
             [
              0.3333333333333333,
              "#9c179e"
             ],
             [
              0.4444444444444444,
              "#bd3786"
             ],
             [
              0.5555555555555556,
              "#d8576b"
             ],
             [
              0.6666666666666666,
              "#ed7953"
             ],
             [
              0.7777777777777778,
              "#fb9f3a"
             ],
             [
              0.8888888888888888,
              "#fdca26"
             ],
             [
              1,
              "#f0f921"
             ]
            ],
            "type": "heatmapgl"
           }
          ],
          "histogram": [
           {
            "marker": {
             "colorbar": {
              "outlinewidth": 0,
              "ticks": ""
             }
            },
            "type": "histogram"
           }
          ],
          "histogram2d": [
           {
            "colorbar": {
             "outlinewidth": 0,
             "ticks": ""
            },
            "colorscale": [
             [
              0,
              "#0d0887"
             ],
             [
              0.1111111111111111,
              "#46039f"
             ],
             [
              0.2222222222222222,
              "#7201a8"
             ],
             [
              0.3333333333333333,
              "#9c179e"
             ],
             [
              0.4444444444444444,
              "#bd3786"
             ],
             [
              0.5555555555555556,
              "#d8576b"
             ],
             [
              0.6666666666666666,
              "#ed7953"
             ],
             [
              0.7777777777777778,
              "#fb9f3a"
             ],
             [
              0.8888888888888888,
              "#fdca26"
             ],
             [
              1,
              "#f0f921"
             ]
            ],
            "type": "histogram2d"
           }
          ],
          "histogram2dcontour": [
           {
            "colorbar": {
             "outlinewidth": 0,
             "ticks": ""
            },
            "colorscale": [
             [
              0,
              "#0d0887"
             ],
             [
              0.1111111111111111,
              "#46039f"
             ],
             [
              0.2222222222222222,
              "#7201a8"
             ],
             [
              0.3333333333333333,
              "#9c179e"
             ],
             [
              0.4444444444444444,
              "#bd3786"
             ],
             [
              0.5555555555555556,
              "#d8576b"
             ],
             [
              0.6666666666666666,
              "#ed7953"
             ],
             [
              0.7777777777777778,
              "#fb9f3a"
             ],
             [
              0.8888888888888888,
              "#fdca26"
             ],
             [
              1,
              "#f0f921"
             ]
            ],
            "type": "histogram2dcontour"
           }
          ],
          "mesh3d": [
           {
            "colorbar": {
             "outlinewidth": 0,
             "ticks": ""
            },
            "type": "mesh3d"
           }
          ],
          "parcoords": [
           {
            "line": {
             "colorbar": {
              "outlinewidth": 0,
              "ticks": ""
             }
            },
            "type": "parcoords"
           }
          ],
          "pie": [
           {
            "automargin": true,
            "type": "pie"
           }
          ],
          "scatter": [
           {
            "marker": {
             "colorbar": {
              "outlinewidth": 0,
              "ticks": ""
             }
            },
            "type": "scatter"
           }
          ],
          "scatter3d": [
           {
            "line": {
             "colorbar": {
              "outlinewidth": 0,
              "ticks": ""
             }
            },
            "marker": {
             "colorbar": {
              "outlinewidth": 0,
              "ticks": ""
             }
            },
            "type": "scatter3d"
           }
          ],
          "scattercarpet": [
           {
            "marker": {
             "colorbar": {
              "outlinewidth": 0,
              "ticks": ""
             }
            },
            "type": "scattercarpet"
           }
          ],
          "scattergeo": [
           {
            "marker": {
             "colorbar": {
              "outlinewidth": 0,
              "ticks": ""
             }
            },
            "type": "scattergeo"
           }
          ],
          "scattergl": [
           {
            "marker": {
             "colorbar": {
              "outlinewidth": 0,
              "ticks": ""
             }
            },
            "type": "scattergl"
           }
          ],
          "scattermapbox": [
           {
            "marker": {
             "colorbar": {
              "outlinewidth": 0,
              "ticks": ""
             }
            },
            "type": "scattermapbox"
           }
          ],
          "scatterpolar": [
           {
            "marker": {
             "colorbar": {
              "outlinewidth": 0,
              "ticks": ""
             }
            },
            "type": "scatterpolar"
           }
          ],
          "scatterpolargl": [
           {
            "marker": {
             "colorbar": {
              "outlinewidth": 0,
              "ticks": ""
             }
            },
            "type": "scatterpolargl"
           }
          ],
          "scatterternary": [
           {
            "marker": {
             "colorbar": {
              "outlinewidth": 0,
              "ticks": ""
             }
            },
            "type": "scatterternary"
           }
          ],
          "surface": [
           {
            "colorbar": {
             "outlinewidth": 0,
             "ticks": ""
            },
            "colorscale": [
             [
              0,
              "#0d0887"
             ],
             [
              0.1111111111111111,
              "#46039f"
             ],
             [
              0.2222222222222222,
              "#7201a8"
             ],
             [
              0.3333333333333333,
              "#9c179e"
             ],
             [
              0.4444444444444444,
              "#bd3786"
             ],
             [
              0.5555555555555556,
              "#d8576b"
             ],
             [
              0.6666666666666666,
              "#ed7953"
             ],
             [
              0.7777777777777778,
              "#fb9f3a"
             ],
             [
              0.8888888888888888,
              "#fdca26"
             ],
             [
              1,
              "#f0f921"
             ]
            ],
            "type": "surface"
           }
          ],
          "table": [
           {
            "cells": {
             "fill": {
              "color": "#EBF0F8"
             },
             "line": {
              "color": "white"
             }
            },
            "header": {
             "fill": {
              "color": "#C8D4E3"
             },
             "line": {
              "color": "white"
             }
            },
            "type": "table"
           }
          ]
         },
         "layout": {
          "annotationdefaults": {
           "arrowcolor": "#2a3f5f",
           "arrowhead": 0,
           "arrowwidth": 1
          },
          "coloraxis": {
           "colorbar": {
            "outlinewidth": 0,
            "ticks": ""
           }
          },
          "colorscale": {
           "diverging": [
            [
             0,
             "#8e0152"
            ],
            [
             0.1,
             "#c51b7d"
            ],
            [
             0.2,
             "#de77ae"
            ],
            [
             0.3,
             "#f1b6da"
            ],
            [
             0.4,
             "#fde0ef"
            ],
            [
             0.5,
             "#f7f7f7"
            ],
            [
             0.6,
             "#e6f5d0"
            ],
            [
             0.7,
             "#b8e186"
            ],
            [
             0.8,
             "#7fbc41"
            ],
            [
             0.9,
             "#4d9221"
            ],
            [
             1,
             "#276419"
            ]
           ],
           "sequential": [
            [
             0,
             "#0d0887"
            ],
            [
             0.1111111111111111,
             "#46039f"
            ],
            [
             0.2222222222222222,
             "#7201a8"
            ],
            [
             0.3333333333333333,
             "#9c179e"
            ],
            [
             0.4444444444444444,
             "#bd3786"
            ],
            [
             0.5555555555555556,
             "#d8576b"
            ],
            [
             0.6666666666666666,
             "#ed7953"
            ],
            [
             0.7777777777777778,
             "#fb9f3a"
            ],
            [
             0.8888888888888888,
             "#fdca26"
            ],
            [
             1,
             "#f0f921"
            ]
           ],
           "sequentialminus": [
            [
             0,
             "#0d0887"
            ],
            [
             0.1111111111111111,
             "#46039f"
            ],
            [
             0.2222222222222222,
             "#7201a8"
            ],
            [
             0.3333333333333333,
             "#9c179e"
            ],
            [
             0.4444444444444444,
             "#bd3786"
            ],
            [
             0.5555555555555556,
             "#d8576b"
            ],
            [
             0.6666666666666666,
             "#ed7953"
            ],
            [
             0.7777777777777778,
             "#fb9f3a"
            ],
            [
             0.8888888888888888,
             "#fdca26"
            ],
            [
             1,
             "#f0f921"
            ]
           ]
          },
          "colorway": [
           "#636efa",
           "#EF553B",
           "#00cc96",
           "#ab63fa",
           "#FFA15A",
           "#19d3f3",
           "#FF6692",
           "#B6E880",
           "#FF97FF",
           "#FECB52"
          ],
          "font": {
           "color": "#2a3f5f"
          },
          "geo": {
           "bgcolor": "white",
           "lakecolor": "white",
           "landcolor": "#E5ECF6",
           "showlakes": true,
           "showland": true,
           "subunitcolor": "white"
          },
          "hoverlabel": {
           "align": "left"
          },
          "hovermode": "closest",
          "mapbox": {
           "style": "light"
          },
          "paper_bgcolor": "white",
          "plot_bgcolor": "#E5ECF6",
          "polar": {
           "angularaxis": {
            "gridcolor": "white",
            "linecolor": "white",
            "ticks": ""
           },
           "bgcolor": "#E5ECF6",
           "radialaxis": {
            "gridcolor": "white",
            "linecolor": "white",
            "ticks": ""
           }
          },
          "scene": {
           "xaxis": {
            "backgroundcolor": "#E5ECF6",
            "gridcolor": "white",
            "gridwidth": 2,
            "linecolor": "white",
            "showbackground": true,
            "ticks": "",
            "zerolinecolor": "white"
           },
           "yaxis": {
            "backgroundcolor": "#E5ECF6",
            "gridcolor": "white",
            "gridwidth": 2,
            "linecolor": "white",
            "showbackground": true,
            "ticks": "",
            "zerolinecolor": "white"
           },
           "zaxis": {
            "backgroundcolor": "#E5ECF6",
            "gridcolor": "white",
            "gridwidth": 2,
            "linecolor": "white",
            "showbackground": true,
            "ticks": "",
            "zerolinecolor": "white"
           }
          },
          "shapedefaults": {
           "line": {
            "color": "#2a3f5f"
           }
          },
          "ternary": {
           "aaxis": {
            "gridcolor": "white",
            "linecolor": "white",
            "ticks": ""
           },
           "baxis": {
            "gridcolor": "white",
            "linecolor": "white",
            "ticks": ""
           },
           "bgcolor": "#E5ECF6",
           "caxis": {
            "gridcolor": "white",
            "linecolor": "white",
            "ticks": ""
           }
          },
          "title": {
           "x": 0.05
          },
          "xaxis": {
           "automargin": true,
           "gridcolor": "white",
           "linecolor": "white",
           "ticks": "",
           "title": {
            "standoff": 15
           },
           "zerolinecolor": "white",
           "zerolinewidth": 2
          },
          "yaxis": {
           "automargin": true,
           "gridcolor": "white",
           "linecolor": "white",
           "ticks": "",
           "title": {
            "standoff": 15
           },
           "zerolinecolor": "white",
           "zerolinewidth": 2
          }
         }
        },
        "title": {
         "text": "Listing Price By Neighborhood"
        },
        "updatemenus": [
         {
          "buttons": [
           {
            "args": [
             "visible",
             [
              true,
              false,
              false,
              false
             ]
            ],
            "label": "bumbershoot",
            "method": "restyle"
           },
           {
            "args": [
             "visible",
             [
              false,
              true,
              false,
              false
             ]
            ],
            "label": "siff",
            "method": "restyle"
           },
           {
            "args": [
             "visible",
             [
              false,
              false,
              true,
              false
             ]
            ],
            "label": "hempfest",
            "method": "restyle"
           },
           {
            "args": [
             "visible",
             [
              false,
              false,
              false,
              true
             ]
            ],
            "label": "pride",
            "method": "restyle"
           }
          ],
          "x": -0.05,
          "y": 1,
          "yanchor": "top"
         }
        ],
        "width": 800
       }
      },
      "text/html": [
       "<div>\n",
       "        \n",
       "        \n",
       "            <div id=\"95e67aaa-57c5-4369-aadf-94354e23176f\" class=\"plotly-graph-div\" style=\"height:800px; width:800px;\"></div>\n",
       "            <script type=\"text/javascript\">\n",
       "                require([\"plotly\"], function(Plotly) {\n",
       "                    window.PLOTLYENV=window.PLOTLYENV || {};\n",
       "                    \n",
       "                if (document.getElementById(\"95e67aaa-57c5-4369-aadf-94354e23176f\")) {\n",
       "                    Plotly.newPlot(\n",
       "                        '95e67aaa-57c5-4369-aadf-94354e23176f',\n",
       "                        [{\"hovertemplate\": \"<b>%{hovertext}</b><br><br>Average Listing Price=%{marker.size}<br>lat=%{lat}<br>lon=%{lon}<br>Change in Price=%{marker.color}<extra></extra>\", \"hovertext\": [\"Ballard\", \"University District\", \"Queen Anne\", \"Cascade\", \"Magnolia\", \"Central Area\", \"Downtown\", \"West Seattle\", \"Beacon Hill\", \"Rainier Valley\", \"Delridge\", \"Seward Park\", \"Capitol Hill\"], \"lat\": [47.68327611825291, 47.65972838933905, 47.63610855858225, 47.632489019725924, 47.65872537004435, 47.61330104584788, 47.609455790691186, 47.551740491478235, 47.578359836775135, 47.53887201158371, 47.52625753422921, 47.55320648845152, 47.64638360937516], \"legendgroup\": \"\", \"lon\": [-122.38490775305536, -122.30833161801833, -122.34952141259649, -122.34165148327193, -122.40706757289739, -122.28893982199374, -122.34231358527809, -122.39372238649234, -122.3097722184586, -122.27535083516632, -122.34322634182028, -122.26445674916552, -122.31976225701416], \"marker\": {\"color\": [-0.2152322924600152, 0.0760563380281691, 0.06412382531785504, 0.046831955922864994, -0.1528107680126682, -0.03899089506639637, 0.4644321848652023, -0.10128205128205132, -0.191642242601872, -0.535007072135785, 0.03135313531353129, 2.35, 0.2403705509507557], \"coloraxis\": \"coloraxis\", \"size\": [125.50625, 161.36666666666667, 171.00252525252526, 220.94166666666663, 157.625, 165.81410256410254, 190.18830128205133, 230.22916666666663, 129.64404761904765, 203.8442307692308, 147.2625, 181.66666666666663, 168.60029380341882], \"sizemode\": \"area\", \"sizeref\": 0.5755729166666665}, \"mode\": \"markers\", \"name\": \"\", \"showlegend\": false, \"subplot\": \"mapbox\", \"type\": \"scattermapbox\"}, {\"hovertemplate\": \"<b>%{hovertext}</b><br><br>Average Listing Price=%{marker.size}<br>lat=%{lat}<br>lon=%{lon}<br>Change in Price=%{marker.color}<extra></extra>\", \"hovertext\": [\"Ballard\", \"University District\", \"Queen Anne\", \"Cascade\", \"Magnolia\", \"Central Area\", \"Downtown\", \"Interbay\", \"West Seattle\", \"Beacon Hill\", \"Rainier Valley\", \"Delridge\", \"Seward Park\", \"Capitol Hill\"], \"lat\": [47.68327611825291, 47.65972838933905, 47.63610855858225, 47.632489019725924, 47.65872537004435, 47.61330104584788, 47.609455790691186, 47.64172700266643, 47.551740491478235, 47.578359836775135, 47.53887201158371, 47.52625753422921, 47.55320648845152, 47.64638360937516], \"legendgroup\": \"\", \"lon\": [-122.38490775305536, -122.30833161801833, -122.34952141259649, -122.34165148327193, -122.40706757289739, -122.28893982199374, -122.34231358527809, -122.38106741548015, -122.39372238649234, -122.3097722184586, -122.27535083516632, -122.34322634182028, -122.26445674916552, -122.31976225701416], \"marker\": {\"color\": [0.36538035041029066, -0.15692387633151475, 0.23301985370950884, -0.3668463611859838, 1.1725, 0.02640845070422531, 0.0272005009588666, 1.1666666666666667, 0.5732935471838866, 0.3418181818181818, 0.09809027777777778, -0.3156545741324921, 0.8571428571428571, -0.2610262396589352], \"coloraxis\": \"coloraxis\", \"size\": [167.08597883597886, 125.1449494949495, 158.21095571095574, 169.91997354497352, 134.98611111111111, 186.5967171717172, 152.10074441046308, 142.5, 159.25, 152.39074074074077, 147.9375, 152.6081349206349, 170.0, 167.01459141348846], \"sizemode\": \"area\", \"sizeref\": 0.466491792929293}, \"mode\": \"markers\", \"name\": \"\", \"showlegend\": false, \"subplot\": \"mapbox\", \"type\": \"scattermapbox\"}, {\"hovertemplate\": \"<b>%{hovertext}</b><br><br>Average Listing Price=%{marker.size}<br>lat=%{lat}<br>lon=%{lon}<br>Change in Price=%{marker.color}<extra></extra>\", \"hovertext\": [\"Ballard\", \"University District\", \"Queen Anne\", \"Cascade\", \"Magnolia\", \"Central Area\", \"Downtown\", \"Interbay\", \"West Seattle\", \"Beacon Hill\", \"Rainier Valley\", \"Delridge\", \"Seward Park\", \"Capitol Hill\"], \"lat\": [47.68327611825291, 47.65972838933905, 47.63610855858225, 47.632489019725924, 47.65872537004435, 47.61330104584788, 47.609455790691186, 47.64172700266643, 47.551740491478235, 47.578359836775135, 47.53887201158371, 47.52625753422921, 47.55320648845152, 47.64638360937516], \"legendgroup\": \"\", \"lon\": [-122.38490775305536, -122.30833161801833, -122.34952141259649, -122.34165148327193, -122.40706757289739, -122.28893982199374, -122.34231358527809, -122.38106741548015, -122.39372238649234, -122.3097722184586, -122.27535083516632, -122.34322634182028, -122.26445674916552, -122.31976225701416], \"marker\": {\"color\": [-0.15326741186586418, -0.21608832807570974, 0.18847006651884704, 0.2396233521657249, 0.08505154639175258, -0.00333137370174405, -0.1708486332109343, 0.0, 0.7407181984175288, -0.055625000000000036, 0.29034220532319405, 0.2883464566929134, 0.005025125628140704, -0.382526493256262], \"coloraxis\": \"coloraxis\", \"size\": [177.45208333333335, 169.81071428571428, 150.50974025974028, 149.05870098039216, 178.83333333333337, 171.64871794871794, 165.13419653263404, 475.0, 167.13257575757575, 146.9, 246.37820512820514, 173.58194444444442, 136.6875, 152.53341346153846], \"sizemode\": \"area\", \"sizeref\": 1.1875}, \"mode\": \"markers\", \"name\": \"\", \"showlegend\": false, \"subplot\": \"mapbox\", \"type\": \"scattermapbox\"}, {\"hovertemplate\": \"<b>%{hovertext}</b><br><br>Average Listing Price=%{marker.size}<br>lat=%{lat}<br>lon=%{lon}<br>Change in Price=%{marker.color}<extra></extra>\", \"hovertext\": [\"Ballard\", \"University District\", \"Queen Anne\", \"Cascade\", \"Magnolia\", \"Central Area\", \"Downtown\", \"West Seattle\", \"Beacon Hill\", \"Rainier Valley\", \"Delridge\", \"Seward Park\", \"Capitol Hill\"], \"lat\": [47.68327611825291, 47.65972838933905, 47.63610855858225, 47.632489019725924, 47.65872537004435, 47.61330104584788, 47.609455790691186, 47.551740491478235, 47.578359836775135, 47.53887201158371, 47.52625753422921, 47.55320648845152, 47.64638360937516], \"legendgroup\": \"\", \"lon\": [-122.38490775305536, -122.30833161801833, -122.34952141259649, -122.34165148327193, -122.40706757289739, -122.28893982199374, -122.34231358527809, -122.39372238649234, -122.3097722184586, -122.27535083516632, -122.34322634182028, -122.26445674916552, -122.31976225701416], \"marker\": {\"color\": [-0.25042637862421835, 1.28, -0.3064406779661017, 0.8754789272030652, 0.5972382048331415, -0.2494758909853249, -0.016764459346186027, -0.4618065433854908, 0.3696060037523452, 0.08212560386473433, -0.2269662921348315, 0.0, 0.03458922030350596], \"coloraxis\": \"coloraxis\", \"size\": [171.40494227994228, 175.6809523809524, 172.63856421356422, 141.221875, 300.5833333333333, 172.9318181818182, 148.21601307189542, 160.93246753246754, 202.24285714285716, 163.44791666666666, 144.10625, 195.0, 170.15673144257704], \"sizemode\": \"area\", \"sizeref\": 0.7514583333333333}, \"mode\": \"markers\", \"name\": \"\", \"showlegend\": false, \"subplot\": \"mapbox\", \"type\": \"scattermapbox\"}],\n",
       "                        {\"annotations\": [{\"align\": \"left\", \"showarrow\": false, \"text\": \"Neighborhood:\", \"x\": -0.28, \"y\": 1.04, \"yref\": \"paper\"}], \"coloraxis\": {\"cmax\": 2, \"cmin\": -0.5, \"colorbar\": {\"title\": {\"text\": \"Change in Price\"}}, \"colorscale\": [[0.0, \"#000004\"], [0.1111111111111111, \"#1b0c41\"], [0.2222222222222222, \"#4a0c6b\"], [0.3333333333333333, \"#781c6d\"], [0.4444444444444444, \"#a52c60\"], [0.5555555555555556, \"#cf4446\"], [0.6666666666666666, \"#ed6925\"], [0.7777777777777778, \"#fb9b06\"], [0.8888888888888888, \"#f7d13d\"], [1.0, \"#fcffa4\"]]}, \"height\": 800, \"legend\": {\"itemsizing\": \"constant\", \"tracegroupgap\": 0}, \"mapbox\": {\"accesstoken\": \"pk.eyJ1IjoiZG1vdG9uMzE0IiwiYSI6ImNrYjVpdjhqbTBzaW4yenBpaHBlM3U3YmUifQ.DV5PwTAD_ZYi0qO1Nu105A\", \"center\": {\"lat\": 47.6, \"lon\": -122.3}, \"domain\": {\"x\": [0.0, 1.0], \"y\": [0.0, 1.0]}, \"zoom\": 10}, \"template\": {\"data\": {\"bar\": [{\"error_x\": {\"color\": \"#2a3f5f\"}, \"error_y\": {\"color\": \"#2a3f5f\"}, \"marker\": {\"line\": {\"color\": \"#E5ECF6\", \"width\": 0.5}}, \"type\": \"bar\"}], \"barpolar\": [{\"marker\": {\"line\": {\"color\": \"#E5ECF6\", \"width\": 0.5}}, \"type\": \"barpolar\"}], \"carpet\": [{\"aaxis\": {\"endlinecolor\": \"#2a3f5f\", \"gridcolor\": \"white\", \"linecolor\": \"white\", \"minorgridcolor\": \"white\", \"startlinecolor\": \"#2a3f5f\"}, \"baxis\": {\"endlinecolor\": \"#2a3f5f\", \"gridcolor\": \"white\", \"linecolor\": \"white\", \"minorgridcolor\": \"white\", \"startlinecolor\": \"#2a3f5f\"}, \"type\": \"carpet\"}], \"choropleth\": [{\"colorbar\": {\"outlinewidth\": 0, \"ticks\": \"\"}, \"type\": \"choropleth\"}], \"contour\": [{\"colorbar\": {\"outlinewidth\": 0, \"ticks\": \"\"}, \"colorscale\": [[0.0, \"#0d0887\"], [0.1111111111111111, \"#46039f\"], [0.2222222222222222, \"#7201a8\"], [0.3333333333333333, \"#9c179e\"], [0.4444444444444444, \"#bd3786\"], [0.5555555555555556, \"#d8576b\"], [0.6666666666666666, \"#ed7953\"], [0.7777777777777778, \"#fb9f3a\"], [0.8888888888888888, \"#fdca26\"], [1.0, \"#f0f921\"]], \"type\": \"contour\"}], \"contourcarpet\": [{\"colorbar\": {\"outlinewidth\": 0, \"ticks\": \"\"}, \"type\": \"contourcarpet\"}], \"heatmap\": [{\"colorbar\": {\"outlinewidth\": 0, \"ticks\": \"\"}, \"colorscale\": [[0.0, \"#0d0887\"], [0.1111111111111111, \"#46039f\"], [0.2222222222222222, \"#7201a8\"], [0.3333333333333333, \"#9c179e\"], [0.4444444444444444, \"#bd3786\"], [0.5555555555555556, \"#d8576b\"], [0.6666666666666666, \"#ed7953\"], [0.7777777777777778, \"#fb9f3a\"], [0.8888888888888888, \"#fdca26\"], [1.0, \"#f0f921\"]], \"type\": \"heatmap\"}], \"heatmapgl\": [{\"colorbar\": {\"outlinewidth\": 0, \"ticks\": \"\"}, \"colorscale\": [[0.0, \"#0d0887\"], [0.1111111111111111, \"#46039f\"], [0.2222222222222222, \"#7201a8\"], [0.3333333333333333, \"#9c179e\"], [0.4444444444444444, \"#bd3786\"], [0.5555555555555556, \"#d8576b\"], [0.6666666666666666, \"#ed7953\"], [0.7777777777777778, \"#fb9f3a\"], [0.8888888888888888, \"#fdca26\"], [1.0, \"#f0f921\"]], \"type\": \"heatmapgl\"}], \"histogram\": [{\"marker\": {\"colorbar\": {\"outlinewidth\": 0, \"ticks\": \"\"}}, \"type\": \"histogram\"}], \"histogram2d\": [{\"colorbar\": {\"outlinewidth\": 0, \"ticks\": \"\"}, \"colorscale\": [[0.0, \"#0d0887\"], [0.1111111111111111, \"#46039f\"], [0.2222222222222222, \"#7201a8\"], [0.3333333333333333, \"#9c179e\"], [0.4444444444444444, \"#bd3786\"], [0.5555555555555556, \"#d8576b\"], [0.6666666666666666, \"#ed7953\"], [0.7777777777777778, \"#fb9f3a\"], [0.8888888888888888, \"#fdca26\"], [1.0, \"#f0f921\"]], \"type\": \"histogram2d\"}], \"histogram2dcontour\": [{\"colorbar\": {\"outlinewidth\": 0, \"ticks\": \"\"}, \"colorscale\": [[0.0, \"#0d0887\"], [0.1111111111111111, \"#46039f\"], [0.2222222222222222, \"#7201a8\"], [0.3333333333333333, \"#9c179e\"], [0.4444444444444444, \"#bd3786\"], [0.5555555555555556, \"#d8576b\"], [0.6666666666666666, \"#ed7953\"], [0.7777777777777778, \"#fb9f3a\"], [0.8888888888888888, \"#fdca26\"], [1.0, \"#f0f921\"]], \"type\": \"histogram2dcontour\"}], \"mesh3d\": [{\"colorbar\": {\"outlinewidth\": 0, \"ticks\": \"\"}, \"type\": \"mesh3d\"}], \"parcoords\": [{\"line\": {\"colorbar\": {\"outlinewidth\": 0, \"ticks\": \"\"}}, \"type\": \"parcoords\"}], \"pie\": [{\"automargin\": true, \"type\": \"pie\"}], \"scatter\": [{\"marker\": {\"colorbar\": {\"outlinewidth\": 0, \"ticks\": \"\"}}, \"type\": \"scatter\"}], \"scatter3d\": [{\"line\": {\"colorbar\": {\"outlinewidth\": 0, \"ticks\": \"\"}}, \"marker\": {\"colorbar\": {\"outlinewidth\": 0, \"ticks\": \"\"}}, \"type\": \"scatter3d\"}], \"scattercarpet\": [{\"marker\": {\"colorbar\": {\"outlinewidth\": 0, \"ticks\": \"\"}}, \"type\": \"scattercarpet\"}], \"scattergeo\": [{\"marker\": {\"colorbar\": {\"outlinewidth\": 0, \"ticks\": \"\"}}, \"type\": \"scattergeo\"}], \"scattergl\": [{\"marker\": {\"colorbar\": {\"outlinewidth\": 0, \"ticks\": \"\"}}, \"type\": \"scattergl\"}], \"scattermapbox\": [{\"marker\": {\"colorbar\": {\"outlinewidth\": 0, \"ticks\": \"\"}}, \"type\": \"scattermapbox\"}], \"scatterpolar\": [{\"marker\": {\"colorbar\": {\"outlinewidth\": 0, \"ticks\": \"\"}}, \"type\": \"scatterpolar\"}], \"scatterpolargl\": [{\"marker\": {\"colorbar\": {\"outlinewidth\": 0, \"ticks\": \"\"}}, \"type\": \"scatterpolargl\"}], \"scatterternary\": [{\"marker\": {\"colorbar\": {\"outlinewidth\": 0, \"ticks\": \"\"}}, \"type\": \"scatterternary\"}], \"surface\": [{\"colorbar\": {\"outlinewidth\": 0, \"ticks\": \"\"}, \"colorscale\": [[0.0, \"#0d0887\"], [0.1111111111111111, \"#46039f\"], [0.2222222222222222, \"#7201a8\"], [0.3333333333333333, \"#9c179e\"], [0.4444444444444444, \"#bd3786\"], [0.5555555555555556, \"#d8576b\"], [0.6666666666666666, \"#ed7953\"], [0.7777777777777778, \"#fb9f3a\"], [0.8888888888888888, \"#fdca26\"], [1.0, \"#f0f921\"]], \"type\": \"surface\"}], \"table\": [{\"cells\": {\"fill\": {\"color\": \"#EBF0F8\"}, \"line\": {\"color\": \"white\"}}, \"header\": {\"fill\": {\"color\": \"#C8D4E3\"}, \"line\": {\"color\": \"white\"}}, \"type\": \"table\"}]}, \"layout\": {\"annotationdefaults\": {\"arrowcolor\": \"#2a3f5f\", \"arrowhead\": 0, \"arrowwidth\": 1}, \"coloraxis\": {\"colorbar\": {\"outlinewidth\": 0, \"ticks\": \"\"}}, \"colorscale\": {\"diverging\": [[0, \"#8e0152\"], [0.1, \"#c51b7d\"], [0.2, \"#de77ae\"], [0.3, \"#f1b6da\"], [0.4, \"#fde0ef\"], [0.5, \"#f7f7f7\"], [0.6, \"#e6f5d0\"], [0.7, \"#b8e186\"], [0.8, \"#7fbc41\"], [0.9, \"#4d9221\"], [1, \"#276419\"]], \"sequential\": [[0.0, \"#0d0887\"], [0.1111111111111111, \"#46039f\"], [0.2222222222222222, \"#7201a8\"], [0.3333333333333333, \"#9c179e\"], [0.4444444444444444, \"#bd3786\"], [0.5555555555555556, \"#d8576b\"], [0.6666666666666666, \"#ed7953\"], [0.7777777777777778, \"#fb9f3a\"], [0.8888888888888888, \"#fdca26\"], [1.0, \"#f0f921\"]], \"sequentialminus\": [[0.0, \"#0d0887\"], [0.1111111111111111, \"#46039f\"], [0.2222222222222222, \"#7201a8\"], [0.3333333333333333, \"#9c179e\"], [0.4444444444444444, \"#bd3786\"], [0.5555555555555556, \"#d8576b\"], [0.6666666666666666, \"#ed7953\"], [0.7777777777777778, \"#fb9f3a\"], [0.8888888888888888, \"#fdca26\"], [1.0, \"#f0f921\"]]}, \"colorway\": [\"#636efa\", \"#EF553B\", \"#00cc96\", \"#ab63fa\", \"#FFA15A\", \"#19d3f3\", \"#FF6692\", \"#B6E880\", \"#FF97FF\", \"#FECB52\"], \"font\": {\"color\": \"#2a3f5f\"}, \"geo\": {\"bgcolor\": \"white\", \"lakecolor\": \"white\", \"landcolor\": \"#E5ECF6\", \"showlakes\": true, \"showland\": true, \"subunitcolor\": \"white\"}, \"hoverlabel\": {\"align\": \"left\"}, \"hovermode\": \"closest\", \"mapbox\": {\"style\": \"light\"}, \"paper_bgcolor\": \"white\", \"plot_bgcolor\": \"#E5ECF6\", \"polar\": {\"angularaxis\": {\"gridcolor\": \"white\", \"linecolor\": \"white\", \"ticks\": \"\"}, \"bgcolor\": \"#E5ECF6\", \"radialaxis\": {\"gridcolor\": \"white\", \"linecolor\": \"white\", \"ticks\": \"\"}}, \"scene\": {\"xaxis\": {\"backgroundcolor\": \"#E5ECF6\", \"gridcolor\": \"white\", \"gridwidth\": 2, \"linecolor\": \"white\", \"showbackground\": true, \"ticks\": \"\", \"zerolinecolor\": \"white\"}, \"yaxis\": {\"backgroundcolor\": \"#E5ECF6\", \"gridcolor\": \"white\", \"gridwidth\": 2, \"linecolor\": \"white\", \"showbackground\": true, \"ticks\": \"\", \"zerolinecolor\": \"white\"}, \"zaxis\": {\"backgroundcolor\": \"#E5ECF6\", \"gridcolor\": \"white\", \"gridwidth\": 2, \"linecolor\": \"white\", \"showbackground\": true, \"ticks\": \"\", \"zerolinecolor\": \"white\"}}, \"shapedefaults\": {\"line\": {\"color\": \"#2a3f5f\"}}, \"ternary\": {\"aaxis\": {\"gridcolor\": \"white\", \"linecolor\": \"white\", \"ticks\": \"\"}, \"baxis\": {\"gridcolor\": \"white\", \"linecolor\": \"white\", \"ticks\": \"\"}, \"bgcolor\": \"#E5ECF6\", \"caxis\": {\"gridcolor\": \"white\", \"linecolor\": \"white\", \"ticks\": \"\"}}, \"title\": {\"x\": 0.05}, \"xaxis\": {\"automargin\": true, \"gridcolor\": \"white\", \"linecolor\": \"white\", \"ticks\": \"\", \"title\": {\"standoff\": 15}, \"zerolinecolor\": \"white\", \"zerolinewidth\": 2}, \"yaxis\": {\"automargin\": true, \"gridcolor\": \"white\", \"linecolor\": \"white\", \"ticks\": \"\", \"title\": {\"standoff\": 15}, \"zerolinecolor\": \"white\", \"zerolinewidth\": 2}}}, \"title\": {\"text\": \"Listing Price By Neighborhood\"}, \"updatemenus\": [{\"buttons\": [{\"args\": [\"visible\", [true, false, false, false]], \"label\": \"bumbershoot\", \"method\": \"restyle\"}, {\"args\": [\"visible\", [false, true, false, false]], \"label\": \"siff\", \"method\": \"restyle\"}, {\"args\": [\"visible\", [false, false, true, false]], \"label\": \"hempfest\", \"method\": \"restyle\"}, {\"args\": [\"visible\", [false, false, false, true]], \"label\": \"pride\", \"method\": \"restyle\"}], \"x\": -0.05, \"y\": 1, \"yanchor\": \"top\"}], \"width\": 800},\n",
       "                        {\"responsive\": true}\n",
       "                    ).then(function(){\n",
       "                            \n",
       "var gd = document.getElementById('95e67aaa-57c5-4369-aadf-94354e23176f');\n",
       "var x = new MutationObserver(function (mutations, observer) {{\n",
       "        var display = window.getComputedStyle(gd).display;\n",
       "        if (!display || display === 'none') {{\n",
       "            console.log([gd, 'removed!']);\n",
       "            Plotly.purge(gd);\n",
       "            observer.disconnect();\n",
       "        }}\n",
       "}});\n",
       "\n",
       "// Listen for the removal of the full notebook cells\n",
       "var notebookContainer = gd.closest('#notebook-container');\n",
       "if (notebookContainer) {{\n",
       "    x.observe(notebookContainer, {childList: true});\n",
       "}}\n",
       "\n",
       "// Listen for the clearing of the current output cell\n",
       "var outputEl = gd.closest('.output');\n",
       "if (outputEl) {{\n",
       "    x.observe(outputEl, {childList: true});\n",
       "}}\n",
       "\n",
       "                        })\n",
       "                };\n",
       "                });\n",
       "            </script>\n",
       "        </div>"
      ]
     },
     "metadata": {},
     "output_type": "display_data"
    }
   ],
   "source": [
    "fig.show()"
   ]
  },
  {
   "cell_type": "code",
   "execution_count": null,
   "metadata": {},
   "outputs": [],
   "source": []
  }
 ],
 "metadata": {
  "kernelspec": {
   "display_name": "Python geospatial",
   "language": "python",
   "name": "geospatial"
  },
  "language_info": {
   "codemirror_mode": {
    "name": "ipython",
    "version": 3
   },
   "file_extension": ".py",
   "mimetype": "text/x-python",
   "name": "python",
   "nbconvert_exporter": "python",
   "pygments_lexer": "ipython3",
   "version": "3.8.2"
  }
 },
 "nbformat": 4,
 "nbformat_minor": 4
}
